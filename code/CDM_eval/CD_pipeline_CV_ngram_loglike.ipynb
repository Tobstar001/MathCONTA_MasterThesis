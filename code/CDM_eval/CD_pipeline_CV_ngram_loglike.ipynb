{
  "nbformat": 4,
  "nbformat_minor": 0,
  "metadata": {
    "colab": {
      "provenance": [],
      "collapsed_sections": [
        "BWSDsuB-n06m"
      ],
      "include_colab_link": true
    },
    "kernelspec": {
      "name": "python3",
      "display_name": "Python 3"
    },
    "language_info": {
      "name": "python"
    }
  },
  "cells": [
    {
      "cell_type": "markdown",
      "metadata": {
        "id": "view-in-github",
        "colab_type": "text"
      },
      "source": [
        "<a href=\"https://colab.research.google.com/github/friederrr/proof_contamination/blob/main/code/CDM_eval/CD_pipeline_CV_ngram_loglike.ipynb\" target=\"_parent\"><img src=\"https://colab.research.google.com/assets/colab-badge.svg\" alt=\"Open In Colab\"/></a>"
      ]
    },
    {
      "cell_type": "markdown",
      "source": [
        "# CD PIPELINE (mit CV) n-gram accuracy"
      ],
      "metadata": {
        "id": "w6JW4XKqueEl"
      }
    },
    {
      "cell_type": "code",
      "source": [
        "%%capture\n",
        "!pip install datasets"
      ],
      "metadata": {
        "id": "40Cystb9HB6e"
      },
      "execution_count": null,
      "outputs": []
    },
    {
      "cell_type": "code",
      "source": [
        "#mount google drive\n",
        "from google.colab import drive\n",
        "drive.mount('/content/drive')"
      ],
      "metadata": {
        "colab": {
          "base_uri": "https://localhost:8080/"
        },
        "id": "C305WhL1t-ND",
        "outputId": "9d69bc73-4010-4beb-e188-9c257b3400c7"
      },
      "execution_count": null,
      "outputs": [
        {
          "output_type": "stream",
          "name": "stdout",
          "text": [
            "Mounted at /content/drive\n"
          ]
        }
      ]
    },
    {
      "cell_type": "code",
      "execution_count": null,
      "metadata": {
        "id": "PA9MXN_ltYjj"
      },
      "outputs": [],
      "source": [
        "import random\n",
        "import numpy as np\n",
        "import pandas as pd\n",
        "import copy\n",
        "import matplotlib.pyplot as plt\n",
        "from scipy.optimize import curve_fit\n",
        "import torch\n",
        "import json\n",
        "from datetime import datetime\n",
        "import itertools\n",
        "from itertools import cycle, product\n",
        "import re\n",
        "from transformers import AutoModelForCausalLM, AutoTokenizer\n",
        "from datasets import load_dataset\n",
        "from pathlib import Path\n",
        "import statistics\n",
        "from sklearn.model_selection import StratifiedKFold"
      ]
    },
    {
      "cell_type": "code",
      "source": [
        "from CDMs_functions_v1 import *"
      ],
      "metadata": {
        "id": "QqKl5Cugcfz4"
      },
      "execution_count": null,
      "outputs": []
    },
    {
      "cell_type": "markdown",
      "source": [
        "## Model Selektion\n",
        "\n",
        "**OLMO**:\n",
        "\n",
        "- \"allenai/OLMo-7B-0724-hf\": Downlaod (F32): (27 GB), GPU-RAM (bfloat16): 14 GB (T4 sufficient)\n",
        "\n",
        "- \"allenai/OLMo-7B-0724-SFT-hf\": Download (BF16) (14 GB), GPU-RAM (14 GB)\n",
        "\n",
        "- \"allenai/OLMo-7B-0724-Instruct-hf\": Download (BF16) (14 GB), GPU-RAM (14 GB)\n",
        "\n",
        "- \"allenai/OLMo-2-1124-13B-Instruct\": Download (BF16) (28 GB), GPU-RAM (27 GB) -> works fine with A100!\n",
        "\n",
        "- \"allenai/OLMo-2-0325-32B-Instruct\": Download (BF16) (65 GB), GPU-RAM (34 GB). It needs about 15min to answer one question with A100 (meta-device offloading). However, besides from that, the pipeline was compatible. Though, it is not recommended to use it with A100.\n",
        "\n",
        "**DEEPSEEK**:\n",
        "- \"deepseek-ai/deepseek-math-7b-instruct\":\n",
        "\n",
        "**LEMMA**:\n",
        "- \"EleutherAI/llemma_7b\""
      ],
      "metadata": {
        "id": "UumRYLoGomJ6"
      }
    },
    {
      "cell_type": "code",
      "source": [
        "#!Parameter\n",
        "model_id = \"deepseek-ai/deepseek-math-7b-instruct\"\n",
        "DRIVE_PATH=Path('/content/drive/MyDrive/Masterarbeit25/')"
      ],
      "metadata": {
        "id": "nMuaVQOquI_E"
      },
      "execution_count": null,
      "outputs": []
    },
    {
      "cell_type": "markdown",
      "source": [
        "**COMMENT**: ngram_loglike only depends on tokendata (with respect to model access). Therefore, here we list toekn_data files..."
      ],
      "metadata": {
        "id": "s7deVtyQWkwT"
      }
    },
    {
      "cell_type": "code",
      "source": [
        "dir_token_path=DRIVE_PATH / \"MathCONTA_tokens\"\n",
        "_=list_files_in_directory(dir_token_path, model_id)"
      ],
      "metadata": {
        "colab": {
          "base_uri": "https://localhost:8080/"
        },
        "id": "jJWEE7f1o_V5",
        "outputId": "e37113e5-de62-4af1-8e48-e0dedfae2cb6"
      },
      "execution_count": null,
      "outputs": [
        {
          "output_type": "stream",
          "name": "stdout",
          "text": [
            "Files in /content/drive/MyDrive/Masterarbeit25/MathCONTA_tokens/deepseek-ai/deepseek-math-7b-instruct:\n",
            "\n",
            "deepseek-math-7b-instruct/MathCONTA_token_data.json\n"
          ]
        }
      ]
    },
    {
      "cell_type": "code",
      "source": [
        "#if file exists you don't have to load the models\n",
        "load_models=False\n",
        "if load_models:\n",
        "  model = AutoModelForCausalLM.from_pretrained(model_id, torch_dtype=torch.bfloat16, device_map='auto')\n",
        "  tokenizer = AutoTokenizer.from_pretrained(model_id)\n",
        "else:\n",
        "  model = None\n",
        "  tokenizer = AutoTokenizer.from_pretrained(model_id) #tokenizer needed for count\n",
        "  ds_conta = None"
      ],
      "metadata": {
        "id": "VYZtyL4AyeYN"
      },
      "execution_count": null,
      "outputs": []
    },
    {
      "cell_type": "markdown",
      "source": [
        "## DATA Processing/Loading (Standard)"
      ],
      "metadata": {
        "id": "NhWCX-W2Digm"
      }
    },
    {
      "cell_type": "code",
      "source": [
        "#!Parameter\n",
        "repo_id = \"Tobstar001/MathCONTA\"\n",
        "split = \"test\"\n",
        "config_name=\"core\"\n",
        "\n",
        "ds_conta = load_dataset(path=repo_id,name=config_name,split=split)\n"
      ],
      "metadata": {
        "id": "1DV-oXsPmJCE"
      },
      "execution_count": null,
      "outputs": []
    },
    {
      "cell_type": "code",
      "source": [
        "data_name=\"MathCONTA_full\" #please add full|problem\n",
        "n_starts=20\n",
        "n_range=[1,2,3,5,7]\n",
        "seed_rand=42\n",
        "start_offset=5\n",
        "random_starts=True\n",
        "force_reprocess=False\n",
        "verbose=False\n",
        "only_problem=False"
      ],
      "metadata": {
        "id": "sZKQg38gwPTB"
      },
      "execution_count": null,
      "outputs": []
    },
    {
      "cell_type": "code",
      "source": [
        "ngram_loglike_data=create_ngram_loglike_generation_data(model_id=model_id,\n",
        "                               ds_conta=ds_conta,\n",
        "                                model=model, tokenizer=tokenizer,\n",
        "                                 n_starts=n_starts, n=n_range, random_starts=random_starts,\n",
        "                                 seed_rand=seed_rand, start_offset=start_offset, only_problem=only_problem,\n",
        "                                 force_reprocess=force_reprocess, verbose=verbose,\n",
        "                                 data_name=data_name, target_path=DRIVE_PATH / \"MathCONTA_ngram_loglike_generation_data\",\n",
        "                                 base_path_token = DRIVE_PATH / \"MathCONTA_tokens\")"
      ],
      "metadata": {
        "colab": {
          "base_uri": "https://localhost:8080/"
        },
        "collapsed": true,
        "id": "muKnL1NB-x-R",
        "outputId": "5bd2a2fa-25ca-43f4-eab7-302992ae24e3"
      },
      "execution_count": null,
      "outputs": [
        {
          "output_type": "stream",
          "name": "stdout",
          "text": [
            "File path: /content/drive/MyDrive/Masterarbeit25/MathCONTA_ngram_loglike_generation_data/deepseek-ai/deepseek-math-7b-instruct/MathCONTA_full_nstarts20_n1_2_3_5_7.json\n",
            "Loading existing n-gram loglike generation data from: /content/drive/MyDrive/Masterarbeit25/MathCONTA_ngram_loglike_generation_data/deepseek-ai/deepseek-math-7b-instruct/MathCONTA_full_nstarts20_n1_2_3_5_7.json\n"
          ]
        }
      ]
    },
    {
      "cell_type": "code",
      "source": [
        "get_ngram_loglike_df_from_generation_data(ngram_loglike_data, n=5)"
      ],
      "metadata": {
        "colab": {
          "base_uri": "https://localhost:8080/",
          "height": 424
        },
        "id": "tku7gGorKdmb",
        "outputId": "9f5c4965-59e5-4b39-b9cc-f63de432c5b9"
      },
      "execution_count": null,
      "outputs": [
        {
          "output_type": "execute_result",
          "data": {
            "text/plain": [
              "                ID CATEGORY  LABEL  LABEL_BINARY  n  ngram_loglike\n",
              "0       owm-amc8-1     AMC8  Conta             1  5      -2.547906\n",
              "1       owm-amc8-2     AMC8  Conta             1  5      -5.084937\n",
              "2       owm-amc8-3     AMC8  Conta             1  5      -5.382425\n",
              "3       owm-amc8-4     AMC8  Conta             1  5      -7.412471\n",
              "4       owm-amc8-5     AMC8  Conta             1  5      -5.969972\n",
              "..             ...      ...    ...           ... ..            ...\n",
              "95   clean-forum-6    Forum  Clean             0  5      -4.697241\n",
              "96   clean-forum-7    Forum  Clean             0  5      -3.243642\n",
              "97   clean-forum-8    Forum  Clean             0  5      -3.128943\n",
              "98   clean-forum-9    Forum  Clean             0  5      -4.807599\n",
              "99  clean-forum-10    Forum  Clean             0  5      -8.285596\n",
              "\n",
              "[100 rows x 6 columns]"
            ],
            "text/html": [
              "\n",
              "  <div id=\"df-64d8fc8a-1c79-411d-b5b4-7453e11407f6\" class=\"colab-df-container\">\n",
              "    <div>\n",
              "<style scoped>\n",
              "    .dataframe tbody tr th:only-of-type {\n",
              "        vertical-align: middle;\n",
              "    }\n",
              "\n",
              "    .dataframe tbody tr th {\n",
              "        vertical-align: top;\n",
              "    }\n",
              "\n",
              "    .dataframe thead th {\n",
              "        text-align: right;\n",
              "    }\n",
              "</style>\n",
              "<table border=\"1\" class=\"dataframe\">\n",
              "  <thead>\n",
              "    <tr style=\"text-align: right;\">\n",
              "      <th></th>\n",
              "      <th>ID</th>\n",
              "      <th>CATEGORY</th>\n",
              "      <th>LABEL</th>\n",
              "      <th>LABEL_BINARY</th>\n",
              "      <th>n</th>\n",
              "      <th>ngram_loglike</th>\n",
              "    </tr>\n",
              "  </thead>\n",
              "  <tbody>\n",
              "    <tr>\n",
              "      <th>0</th>\n",
              "      <td>owm-amc8-1</td>\n",
              "      <td>AMC8</td>\n",
              "      <td>Conta</td>\n",
              "      <td>1</td>\n",
              "      <td>5</td>\n",
              "      <td>-2.547906</td>\n",
              "    </tr>\n",
              "    <tr>\n",
              "      <th>1</th>\n",
              "      <td>owm-amc8-2</td>\n",
              "      <td>AMC8</td>\n",
              "      <td>Conta</td>\n",
              "      <td>1</td>\n",
              "      <td>5</td>\n",
              "      <td>-5.084937</td>\n",
              "    </tr>\n",
              "    <tr>\n",
              "      <th>2</th>\n",
              "      <td>owm-amc8-3</td>\n",
              "      <td>AMC8</td>\n",
              "      <td>Conta</td>\n",
              "      <td>1</td>\n",
              "      <td>5</td>\n",
              "      <td>-5.382425</td>\n",
              "    </tr>\n",
              "    <tr>\n",
              "      <th>3</th>\n",
              "      <td>owm-amc8-4</td>\n",
              "      <td>AMC8</td>\n",
              "      <td>Conta</td>\n",
              "      <td>1</td>\n",
              "      <td>5</td>\n",
              "      <td>-7.412471</td>\n",
              "    </tr>\n",
              "    <tr>\n",
              "      <th>4</th>\n",
              "      <td>owm-amc8-5</td>\n",
              "      <td>AMC8</td>\n",
              "      <td>Conta</td>\n",
              "      <td>1</td>\n",
              "      <td>5</td>\n",
              "      <td>-5.969972</td>\n",
              "    </tr>\n",
              "    <tr>\n",
              "      <th>...</th>\n",
              "      <td>...</td>\n",
              "      <td>...</td>\n",
              "      <td>...</td>\n",
              "      <td>...</td>\n",
              "      <td>...</td>\n",
              "      <td>...</td>\n",
              "    </tr>\n",
              "    <tr>\n",
              "      <th>95</th>\n",
              "      <td>clean-forum-6</td>\n",
              "      <td>Forum</td>\n",
              "      <td>Clean</td>\n",
              "      <td>0</td>\n",
              "      <td>5</td>\n",
              "      <td>-4.697241</td>\n",
              "    </tr>\n",
              "    <tr>\n",
              "      <th>96</th>\n",
              "      <td>clean-forum-7</td>\n",
              "      <td>Forum</td>\n",
              "      <td>Clean</td>\n",
              "      <td>0</td>\n",
              "      <td>5</td>\n",
              "      <td>-3.243642</td>\n",
              "    </tr>\n",
              "    <tr>\n",
              "      <th>97</th>\n",
              "      <td>clean-forum-8</td>\n",
              "      <td>Forum</td>\n",
              "      <td>Clean</td>\n",
              "      <td>0</td>\n",
              "      <td>5</td>\n",
              "      <td>-3.128943</td>\n",
              "    </tr>\n",
              "    <tr>\n",
              "      <th>98</th>\n",
              "      <td>clean-forum-9</td>\n",
              "      <td>Forum</td>\n",
              "      <td>Clean</td>\n",
              "      <td>0</td>\n",
              "      <td>5</td>\n",
              "      <td>-4.807599</td>\n",
              "    </tr>\n",
              "    <tr>\n",
              "      <th>99</th>\n",
              "      <td>clean-forum-10</td>\n",
              "      <td>Forum</td>\n",
              "      <td>Clean</td>\n",
              "      <td>0</td>\n",
              "      <td>5</td>\n",
              "      <td>-8.285596</td>\n",
              "    </tr>\n",
              "  </tbody>\n",
              "</table>\n",
              "<p>100 rows × 6 columns</p>\n",
              "</div>\n",
              "    <div class=\"colab-df-buttons\">\n",
              "\n",
              "  <div class=\"colab-df-container\">\n",
              "    <button class=\"colab-df-convert\" onclick=\"convertToInteractive('df-64d8fc8a-1c79-411d-b5b4-7453e11407f6')\"\n",
              "            title=\"Convert this dataframe to an interactive table.\"\n",
              "            style=\"display:none;\">\n",
              "\n",
              "  <svg xmlns=\"http://www.w3.org/2000/svg\" height=\"24px\" viewBox=\"0 -960 960 960\">\n",
              "    <path d=\"M120-120v-720h720v720H120Zm60-500h600v-160H180v160Zm220 220h160v-160H400v160Zm0 220h160v-160H400v160ZM180-400h160v-160H180v160Zm440 0h160v-160H620v160ZM180-180h160v-160H180v160Zm440 0h160v-160H620v160Z\"/>\n",
              "  </svg>\n",
              "    </button>\n",
              "\n",
              "  <style>\n",
              "    .colab-df-container {\n",
              "      display:flex;\n",
              "      gap: 12px;\n",
              "    }\n",
              "\n",
              "    .colab-df-convert {\n",
              "      background-color: #E8F0FE;\n",
              "      border: none;\n",
              "      border-radius: 50%;\n",
              "      cursor: pointer;\n",
              "      display: none;\n",
              "      fill: #1967D2;\n",
              "      height: 32px;\n",
              "      padding: 0 0 0 0;\n",
              "      width: 32px;\n",
              "    }\n",
              "\n",
              "    .colab-df-convert:hover {\n",
              "      background-color: #E2EBFA;\n",
              "      box-shadow: 0px 1px 2px rgba(60, 64, 67, 0.3), 0px 1px 3px 1px rgba(60, 64, 67, 0.15);\n",
              "      fill: #174EA6;\n",
              "    }\n",
              "\n",
              "    .colab-df-buttons div {\n",
              "      margin-bottom: 4px;\n",
              "    }\n",
              "\n",
              "    [theme=dark] .colab-df-convert {\n",
              "      background-color: #3B4455;\n",
              "      fill: #D2E3FC;\n",
              "    }\n",
              "\n",
              "    [theme=dark] .colab-df-convert:hover {\n",
              "      background-color: #434B5C;\n",
              "      box-shadow: 0px 1px 3px 1px rgba(0, 0, 0, 0.15);\n",
              "      filter: drop-shadow(0px 1px 2px rgba(0, 0, 0, 0.3));\n",
              "      fill: #FFFFFF;\n",
              "    }\n",
              "  </style>\n",
              "\n",
              "    <script>\n",
              "      const buttonEl =\n",
              "        document.querySelector('#df-64d8fc8a-1c79-411d-b5b4-7453e11407f6 button.colab-df-convert');\n",
              "      buttonEl.style.display =\n",
              "        google.colab.kernel.accessAllowed ? 'block' : 'none';\n",
              "\n",
              "      async function convertToInteractive(key) {\n",
              "        const element = document.querySelector('#df-64d8fc8a-1c79-411d-b5b4-7453e11407f6');\n",
              "        const dataTable =\n",
              "          await google.colab.kernel.invokeFunction('convertToInteractive',\n",
              "                                                    [key], {});\n",
              "        if (!dataTable) return;\n",
              "\n",
              "        const docLinkHtml = 'Like what you see? Visit the ' +\n",
              "          '<a target=\"_blank\" href=https://colab.research.google.com/notebooks/data_table.ipynb>data table notebook</a>'\n",
              "          + ' to learn more about interactive tables.';\n",
              "        element.innerHTML = '';\n",
              "        dataTable['output_type'] = 'display_data';\n",
              "        await google.colab.output.renderOutput(dataTable, element);\n",
              "        const docLink = document.createElement('div');\n",
              "        docLink.innerHTML = docLinkHtml;\n",
              "        element.appendChild(docLink);\n",
              "      }\n",
              "    </script>\n",
              "  </div>\n",
              "\n",
              "\n",
              "<div id=\"df-63881b60-c3ca-4577-978f-0522998fda16\">\n",
              "  <button class=\"colab-df-quickchart\" onclick=\"quickchart('df-63881b60-c3ca-4577-978f-0522998fda16')\"\n",
              "            title=\"Suggest charts\"\n",
              "            style=\"display:none;\">\n",
              "\n",
              "<svg xmlns=\"http://www.w3.org/2000/svg\" height=\"24px\"viewBox=\"0 0 24 24\"\n",
              "     width=\"24px\">\n",
              "    <g>\n",
              "        <path d=\"M19 3H5c-1.1 0-2 .9-2 2v14c0 1.1.9 2 2 2h14c1.1 0 2-.9 2-2V5c0-1.1-.9-2-2-2zM9 17H7v-7h2v7zm4 0h-2V7h2v10zm4 0h-2v-4h2v4z\"/>\n",
              "    </g>\n",
              "</svg>\n",
              "  </button>\n",
              "\n",
              "<style>\n",
              "  .colab-df-quickchart {\n",
              "      --bg-color: #E8F0FE;\n",
              "      --fill-color: #1967D2;\n",
              "      --hover-bg-color: #E2EBFA;\n",
              "      --hover-fill-color: #174EA6;\n",
              "      --disabled-fill-color: #AAA;\n",
              "      --disabled-bg-color: #DDD;\n",
              "  }\n",
              "\n",
              "  [theme=dark] .colab-df-quickchart {\n",
              "      --bg-color: #3B4455;\n",
              "      --fill-color: #D2E3FC;\n",
              "      --hover-bg-color: #434B5C;\n",
              "      --hover-fill-color: #FFFFFF;\n",
              "      --disabled-bg-color: #3B4455;\n",
              "      --disabled-fill-color: #666;\n",
              "  }\n",
              "\n",
              "  .colab-df-quickchart {\n",
              "    background-color: var(--bg-color);\n",
              "    border: none;\n",
              "    border-radius: 50%;\n",
              "    cursor: pointer;\n",
              "    display: none;\n",
              "    fill: var(--fill-color);\n",
              "    height: 32px;\n",
              "    padding: 0;\n",
              "    width: 32px;\n",
              "  }\n",
              "\n",
              "  .colab-df-quickchart:hover {\n",
              "    background-color: var(--hover-bg-color);\n",
              "    box-shadow: 0 1px 2px rgba(60, 64, 67, 0.3), 0 1px 3px 1px rgba(60, 64, 67, 0.15);\n",
              "    fill: var(--button-hover-fill-color);\n",
              "  }\n",
              "\n",
              "  .colab-df-quickchart-complete:disabled,\n",
              "  .colab-df-quickchart-complete:disabled:hover {\n",
              "    background-color: var(--disabled-bg-color);\n",
              "    fill: var(--disabled-fill-color);\n",
              "    box-shadow: none;\n",
              "  }\n",
              "\n",
              "  .colab-df-spinner {\n",
              "    border: 2px solid var(--fill-color);\n",
              "    border-color: transparent;\n",
              "    border-bottom-color: var(--fill-color);\n",
              "    animation:\n",
              "      spin 1s steps(1) infinite;\n",
              "  }\n",
              "\n",
              "  @keyframes spin {\n",
              "    0% {\n",
              "      border-color: transparent;\n",
              "      border-bottom-color: var(--fill-color);\n",
              "      border-left-color: var(--fill-color);\n",
              "    }\n",
              "    20% {\n",
              "      border-color: transparent;\n",
              "      border-left-color: var(--fill-color);\n",
              "      border-top-color: var(--fill-color);\n",
              "    }\n",
              "    30% {\n",
              "      border-color: transparent;\n",
              "      border-left-color: var(--fill-color);\n",
              "      border-top-color: var(--fill-color);\n",
              "      border-right-color: var(--fill-color);\n",
              "    }\n",
              "    40% {\n",
              "      border-color: transparent;\n",
              "      border-right-color: var(--fill-color);\n",
              "      border-top-color: var(--fill-color);\n",
              "    }\n",
              "    60% {\n",
              "      border-color: transparent;\n",
              "      border-right-color: var(--fill-color);\n",
              "    }\n",
              "    80% {\n",
              "      border-color: transparent;\n",
              "      border-right-color: var(--fill-color);\n",
              "      border-bottom-color: var(--fill-color);\n",
              "    }\n",
              "    90% {\n",
              "      border-color: transparent;\n",
              "      border-bottom-color: var(--fill-color);\n",
              "    }\n",
              "  }\n",
              "</style>\n",
              "\n",
              "  <script>\n",
              "    async function quickchart(key) {\n",
              "      const quickchartButtonEl =\n",
              "        document.querySelector('#' + key + ' button');\n",
              "      quickchartButtonEl.disabled = true;  // To prevent multiple clicks.\n",
              "      quickchartButtonEl.classList.add('colab-df-spinner');\n",
              "      try {\n",
              "        const charts = await google.colab.kernel.invokeFunction(\n",
              "            'suggestCharts', [key], {});\n",
              "      } catch (error) {\n",
              "        console.error('Error during call to suggestCharts:', error);\n",
              "      }\n",
              "      quickchartButtonEl.classList.remove('colab-df-spinner');\n",
              "      quickchartButtonEl.classList.add('colab-df-quickchart-complete');\n",
              "    }\n",
              "    (() => {\n",
              "      let quickchartButtonEl =\n",
              "        document.querySelector('#df-63881b60-c3ca-4577-978f-0522998fda16 button');\n",
              "      quickchartButtonEl.style.display =\n",
              "        google.colab.kernel.accessAllowed ? 'block' : 'none';\n",
              "    })();\n",
              "  </script>\n",
              "</div>\n",
              "\n",
              "    </div>\n",
              "  </div>\n"
            ],
            "application/vnd.google.colaboratory.intrinsic+json": {
              "type": "dataframe",
              "summary": "{\n  \"name\": \"get_ngram_loglike_df_from_generation_data(ngram_loglike_data, n=5)\",\n  \"rows\": 100,\n  \"fields\": [\n    {\n      \"column\": \"ID\",\n      \"properties\": {\n        \"dtype\": \"string\",\n        \"num_unique_values\": 100,\n        \"samples\": [\n          \"owm-forum-4\",\n          \"clean-word-9\",\n          \"clean-aime-1\"\n        ],\n        \"semantic_type\": \"\",\n        \"description\": \"\"\n      }\n    },\n    {\n      \"column\": \"CATEGORY\",\n      \"properties\": {\n        \"dtype\": \"category\",\n        \"num_unique_values\": 4,\n        \"samples\": [\n          \"word-problems\",\n          \"Forum\",\n          \"AMC8\"\n        ],\n        \"semantic_type\": \"\",\n        \"description\": \"\"\n      }\n    },\n    {\n      \"column\": \"LABEL\",\n      \"properties\": {\n        \"dtype\": \"category\",\n        \"num_unique_values\": 2,\n        \"samples\": [\n          \"Clean\",\n          \"Conta\"\n        ],\n        \"semantic_type\": \"\",\n        \"description\": \"\"\n      }\n    },\n    {\n      \"column\": \"LABEL_BINARY\",\n      \"properties\": {\n        \"dtype\": \"number\",\n        \"std\": 0,\n        \"min\": 0,\n        \"max\": 1,\n        \"num_unique_values\": 2,\n        \"samples\": [\n          0,\n          1\n        ],\n        \"semantic_type\": \"\",\n        \"description\": \"\"\n      }\n    },\n    {\n      \"column\": \"n\",\n      \"properties\": {\n        \"dtype\": \"number\",\n        \"std\": 0,\n        \"min\": 5,\n        \"max\": 5,\n        \"num_unique_values\": 1,\n        \"samples\": [\n          5\n        ],\n        \"semantic_type\": \"\",\n        \"description\": \"\"\n      }\n    },\n    {\n      \"column\": \"ngram_loglike\",\n      \"properties\": {\n        \"dtype\": \"number\",\n        \"std\": 2.432954089003609,\n        \"min\": -13.656289672851562,\n        \"max\": -2.547906494140625,\n        \"num_unique_values\": 100,\n        \"samples\": [\n          -7.423361206054688\n        ],\n        \"semantic_type\": \"\",\n        \"description\": \"\"\n      }\n    }\n  ]\n}"
            }
          },
          "metadata": {},
          "execution_count": 101
        }
      ]
    },
    {
      "cell_type": "markdown",
      "source": [
        "## Find best parameters"
      ],
      "metadata": {
        "id": "QeVgSM7jDpoz"
      }
    },
    {
      "cell_type": "code",
      "source": [
        "category='word-problems'\n",
        "ngram_loglike_data_f = [entry for entry in ngram_loglike_data if entry.get('CATEGORY') == category]\n",
        "len(ngram_loglike_data_f)"
      ],
      "metadata": {
        "colab": {
          "base_uri": "https://localhost:8080/"
        },
        "id": "ouCV0SjhvOyf",
        "outputId": "1791dd27-bc8e-4c26-92b5-593af602482a"
      },
      "execution_count": null,
      "outputs": [
        {
          "output_type": "execute_result",
          "data": {
            "text/plain": [
              "24"
            ]
          },
          "metadata": {},
          "execution_count": 111
        }
      ]
    },
    {
      "cell_type": "code",
      "source": [
        "#!Parameter 2D\n",
        "data=ngram_loglike_data_f\n",
        "feature_col=\"ngram_loglike\"\n",
        "label_col=\"LABEL_BINARY\"\n",
        "n_range=n_range\n",
        "cv_folds=5\n",
        "cv_seed=42\n",
        "log_path_base =DRIVE_PATH / \"cdm_data\" / \"MathCONTA_v1\"\n",
        "exp_id=\"overleaf1\"+\"_\"+category\n",
        "method_name=\"ngram_loglike\"\n"
      ],
      "metadata": {
        "id": "RcIIQfKXuTBZ"
      },
      "execution_count": null,
      "outputs": []
    },
    {
      "cell_type": "code",
      "source": [
        "out_dict=tune_ngram_loglike(ngram_data=data,feature_col=feature_col,\n",
        "                          label_col=label_col,cv_folds=cv_folds,cv_seed=cv_seed,\n",
        "                          n_range=n_range, model_id=model_id,data_name=data_name,\n",
        "                          method_name=method_name,log_path_base=log_path_base,exp_id=exp_id)"
      ],
      "metadata": {
        "colab": {
          "base_uri": "https://localhost:8080/"
        },
        "id": "NKDb9iOLjF5x",
        "outputId": "c053e3b6-8c5d-4a17-da98-7887ce19e691"
      },
      "execution_count": null,
      "outputs": [
        {
          "output_type": "stream",
          "name": "stdout",
          "text": [
            "Testing n=1 | median_threshold=-1.774062 | mean_cvacc_test=0.590000\n",
            "Testing n=2 | median_threshold=-2.564381 | mean_cvacc_test=0.580000\n",
            "Testing n=3 | median_threshold=-3.451643 | mean_cvacc_test=0.670000\n",
            "Testing n=5 | median_threshold=-8.636543 | mean_cvacc_test=0.570000\n",
            "Testing n=7 | median_threshold=-9.955922 | mean_cvacc_test=0.700000\n",
            "Best log entry:\n",
            "{'parameter': {'n': 7}, 'median_threshold': -9.955922, 'mean_cvacc_train': 0.749474, 'mean_cvacc_test': 0.7}\n",
            "Accuracy log saved in /content/drive/MyDrive/Masterarbeit25/cdm_data/MathCONTA_v1/deepseek-ai/deepseek-math-7b-instruct/ngram_loglike/exp_MathCONTA_full_accurcylog_overleaf1_word-problems.json\n"
          ]
        }
      ]
    },
    {
      "metadata": {
        "id": "3P15zwdZH-tp"
      },
      "cell_type": "markdown",
      "source": [
        "## Train Test Split (Only relevant once)\n",
        "Subsequent Stratified Train test split for google drive\n",
        "For new data please filter train/test before generating the data"
      ]
    },
    {
      "metadata": {
        "id": "3-gClo28H-tp"
      },
      "cell_type": "code",
      "outputs": [],
      "execution_count": null,
      "source": [
        "dir_token_path"
      ]
    },
    {
      "metadata": {
        "id": "Zy0t5jF1H-tq"
      },
      "cell_type": "code",
      "outputs": [],
      "execution_count": null,
      "source": [
        "train, test = stratified_dict_split(ngram_loglike_data, test_ratio=0.3, seed=42)"
      ]
    },
    {
      "metadata": {
        "id": "BsGJB2icH-tq"
      },
      "cell_type": "code",
      "outputs": [],
      "execution_count": null,
      "source": [
        "\n",
        "target_path=DRIVE_PATH / \"MathCONTA_ngram_loglike_generation_data\"\n",
        "file_path_train=target_path / model_id / \"MathCONTA_train_full_nstarts20_n1_2_3_5_7.json\"\n",
        "with open(file_path_train, 'w') as f:\n",
        "      json.dump(train, f)\n",
        "\n",
        "file_path_test=target_path / model_id / \"MathCONTA_test_full_nstarts20_n1_2_3_5_7.json\"\n",
        "with open(file_path_test, 'w') as f:\n",
        "      json.dump(test, f)"
      ]
    },
    {
      "metadata": {
        "id": "Ficf4UJ6H-tq"
      },
      "cell_type": "markdown",
      "source": [
        "## TRAIN SET CV\n",
        "Find best parameters - CV"
      ]
    },
    {
      "metadata": {
        "id": "l3tJ6pTkH-tq"
      },
      "cell_type": "code",
      "outputs": [],
      "execution_count": null,
      "source": [
        "#how to filter on categories\n",
        "#category='Forum'\n",
        "#MathCONTA_cdd_data_f = [entry for entry in MathCONTA_cdd_data if entry.get('CATEGORY') == category]\n",
        "#len(MathCONTA_cdd_data_f)"
      ]
    },
    {
      "metadata": {
        "id": "vD0-CrlhH-tq"
      },
      "cell_type": "code",
      "outputs": [],
      "execution_count": null,
      "source": [
        "data_name=\"MathCONTA_train_full\" #please add full|problem\n",
        "n_starts=20\n",
        "n_range=[1,2,3,5,7]\n",
        "seed_rand=42\n",
        "start_offset=5\n",
        "random_starts=True\n",
        "force_reprocess=False\n",
        "verbose=False\n",
        "only_problem=False"
      ]
    },
    {
      "metadata": {
        "id": "tDVCljxUH-tq"
      },
      "cell_type": "code",
      "outputs": [],
      "execution_count": null,
      "source": [
        "ngram_loglike_data=create_ngram_loglike_generation_data(model_id=model_id,\n",
        "                               ds_conta=ds_conta,\n",
        "                                model=model, tokenizer=tokenizer,\n",
        "                                 n_starts=n_starts, n=n_range, random_starts=random_starts,\n",
        "                                 seed_rand=seed_rand, start_offset=start_offset, only_problem=only_problem,\n",
        "                                 force_reprocess=force_reprocess, verbose=verbose,\n",
        "                                 data_name=data_name, target_path=DRIVE_PATH / \"MathCONTA_ngram_loglike_generation_data\",\n",
        "                                 base_path_token = DRIVE_PATH / \"MathCONTA_tokens\")"
      ]
    },
    {
      "metadata": {
        "id": "32fP7YVpH-tq"
      },
      "cell_type": "code",
      "outputs": [],
      "execution_count": null,
      "source": [
        "#!Parameter accuracy\n",
        "data=ngram_loglike_data\n",
        "feature_col=\"ngram_loglike\"\n",
        "label_col=\"LABEL_BINARY\"\n",
        "n_range=n_range\n",
        "cv_folds=5\n",
        "cv_seed=42\n",
        "log_path_base =DRIVE_PATH / \"cdm_data\" / \"MathCONTA_v1\"\n",
        "exp_id=\"overleaf2\"\n",
        "method_name=\"ngram_loglike\"\n"
      ]
    },
    {
      "metadata": {
        "id": "_gcjSQzOH-tq"
      },
      "cell_type": "code",
      "outputs": [],
      "execution_count": null,
      "source": [
        "out_dict=tune_ngram_loglike(ngram_data=data,feature_col=feature_col,\n",
        "                          label_col=label_col,cv_folds=cv_folds,cv_seed=cv_seed,\n",
        "                          n_range=n_range, model_id=model_id,data_name=data_name,\n",
        "                          method_name=method_name,log_path_base=log_path_base,exp_id=exp_id)"
      ]
    },
    {
      "metadata": {
        "id": "_GPy2347H-tr"
      },
      "cell_type": "markdown",
      "source": [
        "## TEST SET EVALUATION"
      ]
    },
    {
      "metadata": {
        "id": "1ng9164AH-tr"
      },
      "cell_type": "code",
      "outputs": [],
      "execution_count": null,
      "source": [
        "data_name=\"MathCONTA_test_full\"\n",
        "ngram_loglike_data=create_ngram_loglike_generation_data(model_id=model_id,\n",
        "                               ds_conta=ds_conta,\n",
        "                                model=model, tokenizer=tokenizer,\n",
        "                                 n_starts=n_starts, n=n_range, random_starts=random_starts,\n",
        "                                 seed_rand=seed_rand, start_offset=start_offset, only_problem=only_problem,\n",
        "                                 force_reprocess=force_reprocess, verbose=verbose,\n",
        "                                 data_name=data_name, target_path=DRIVE_PATH / \"MathCONTA_ngram_loglike_generation_data\",\n",
        "                                 base_path_token = DRIVE_PATH / \"MathCONTA_tokens\")"
      ]
    },
    {
      "metadata": {
        "id": "7zYqq73KH-tr"
      },
      "cell_type": "code",
      "outputs": [],
      "execution_count": null,
      "source": [
        "#!Parameter\n",
        "parameter1=1\n",
        "theta=-1.40\n",
        "\n",
        "ngram_ll_df=get_ngram_loglike_df_from_generation_data(ngram_loglike_data, n=parameter1)\n",
        "len(ngram_ll_df)"
      ]
    },
    {
      "metadata": {
        "id": "8A0nPaMfH-tr"
      },
      "cell_type": "code",
      "outputs": [],
      "execution_count": null,
      "source": [
        "test_dict=evaluate_method_standard(\n",
        "    ngram_ll_df,\n",
        "    metric_col=feature_col,\n",
        "    theta=theta,\n",
        "    model_id=model_id,\n",
        "    data_name=data_name,\n",
        "    method_name=method_name,\n",
        "    parameter1=parameter1,\n",
        "    n_bootstrap=1000,\n",
        "    seed=42\n",
        ")\n",
        "test_dict"
      ]
    },
    {
      "metadata": {
        "id": "FUC-q1M7H-tr"
      },
      "cell_type": "code",
      "outputs": [],
      "execution_count": null,
      "source": [
        "save_accuracy_log(log_path_base=log_path_base,model_id=model_id,method_name=method_name,exp_id=exp_id, data_name=data_name,out_dict=test_dict)\n",
        "## RUN END2END"
      ]
    },
    {
      "cell_type": "code",
      "source": [
        "n=1\n",
        "theta=-1.4"
      ],
      "metadata": {
        "id": "d-sTvZo_LFJy"
      },
      "execution_count": null,
      "outputs": []
    },
    {
      "cell_type": "code",
      "source": [
        "run_ngram_loglike(\n",
        "    model_id=model_id,\n",
        "    ds_conta=ds_conta,\n",
        "    model=model,\n",
        "    tokenizer=tokenizer,\n",
        "    data_name=data_name,\n",
        "    force_reprocess=force_reprocess,\n",
        "    n_starts=n_starts,\n",
        "    n_range=n_range,\n",
        "    seed_rand=seed_rand,\n",
        "    start_offset=start_offset,\n",
        "    random_starts=random_starts,\n",
        "    only_problem=only_problem,\n",
        "    verbose=verbose,\n",
        "    n=n,\n",
        "    theta=theta,\n",
        "    target_path=DRIVE_PATH / \"MathCONTA_ngram_loglike_generation_data\",\n",
        "    base_path_token = DRIVE_PATH / \"MathCONTA_tokens\"\n",
        ")\n"
      ],
      "metadata": {
        "colab": {
          "base_uri": "https://localhost:8080/"
        },
        "id": "ZcEaooPx-f4b",
        "outputId": "127515c3-97b5-49da-f81a-b0d3c1a4d4d1"
      },
      "execution_count": null,
      "outputs": [
        {
          "output_type": "stream",
          "name": "stdout",
          "text": [
            "File path: /content/drive/MyDrive/Masterarbeit25/MathCONTA_ngram_loglike_generation_data/deepseek-ai/deepseek-math-7b-instruct/MathCONTA_full_nstarts20_n1_2_3_5_7.json\n",
            "Loading existing n-gram loglike generation data from: /content/drive/MyDrive/Masterarbeit25/MathCONTA_ngram_loglike_generation_data/deepseek-ai/deepseek-math-7b-instruct/MathCONTA_full_nstarts20_n1_2_3_5_7.json\n"
          ]
        },
        {
          "output_type": "execute_result",
          "data": {
            "text/plain": [
              "{'accuracy': 0.66,\n",
              " 'precision': 0.6538461538461539,\n",
              " 'recall': 0.68,\n",
              " 'f1_score': 0.6666666666666666,\n",
              " 'confusion_matrix': array([[32, 18],\n",
              "        [16, 34]])}"
            ]
          },
          "metadata": {},
          "execution_count": 17
        }
      ]
    },
    {
      "metadata": {
        "id": "nl3WGQU9H-tr"
      },
      "cell_type": "markdown",
      "source": [
        "## Combined Evaluation across LLMs"
      ]
    },
    {
      "metadata": {
        "id": "cHjcZFpyH-tr"
      },
      "cell_type": "code",
      "outputs": [],
      "execution_count": null,
      "source": [
        "AutoTokenizer.from_pretrained(model_id)\n",
        "model_ids = [\"deepseek-ai/deepseek-math-7b-instruct\",\n",
        "             \"EleutherAI/llemma_7b\",\n",
        "             \"allenai/OLMo-7B-0724-Instruct-hf\",\n",
        "              \"allenai/OLMo-2-1124-13B-Instruct\"]\n",
        "model_id_combi = \"DS_LE_OL_OL2\""
      ]
    },
    {
      "metadata": {
        "id": "pvxn4PPvH-tr"
      },
      "cell_type": "markdown",
      "source": [
        "## COMBI TRAIN SET CV\n",
        "Find best parameters - CV"
      ]
    },
    {
      "metadata": {
        "id": "txfRnowuH-tz"
      },
      "cell_type": "code",
      "outputs": [],
      "execution_count": null,
      "source": [
        "data_name=\"MathCONTA_train_full\" #please add full|problem\n",
        "n_starts=20\n",
        "n_range=[1,2,3,5,7]\n",
        "seed_rand=42\n",
        "start_offset=5\n",
        "random_starts=True\n",
        "force_reprocess=False\n",
        "verbose=False\n",
        "only_problem=False\n",
        "\n",
        "\n",
        "ngram_loglike_data_combined = []\n",
        "for model_id in model_ids:\n",
        "  ngram_loglike_data=create_ngram_loglike_generation_data(model_id=model_id,\n",
        "                               ds_conta=ds_conta,\n",
        "                                model=model, tokenizer=AutoTokenizer.from_pretrained(model_id),\n",
        "                                 n_starts=n_starts, n=n_range, random_starts=random_starts,\n",
        "                                 seed_rand=seed_rand, start_offset=start_offset, only_problem=only_problem,\n",
        "                                 force_reprocess=force_reprocess, verbose=verbose,\n",
        "                                 data_name=data_name, target_path=DRIVE_PATH / \"MathCONTA_ngram_loglike_generation_data\",\n",
        "                                 base_path_token = DRIVE_PATH / \"MathCONTA_tokens\")\n",
        "  ngram_loglike_data_combined += ngram_loglike_data\n",
        "\n",
        "len(ngram_loglike_data_combined)"
      ]
    },
    {
      "metadata": {
        "id": "CWxYlbWZH-tz"
      },
      "cell_type": "code",
      "outputs": [],
      "execution_count": null,
      "source": [
        "#!Parameter accuracy\n",
        "data=ngram_loglike_data_combined\n",
        "feature_col=\"ngram_loglike\"\n",
        "label_col=\"LABEL_BINARY\"\n",
        "n_range=n_range\n",
        "cv_folds=5\n",
        "cv_seed=42\n",
        "log_path_base =DRIVE_PATH / \"cdm_data\" / \"MathCONTA_v1\"\n",
        "exp_id=\"overleaf2combi\"\n",
        "method_name=\"ngram_loglike\"\n",
        "model_id=model_id_combi\n"
      ]
    },
    {
      "metadata": {
        "id": "4lOj54_nH-tz"
      },
      "cell_type": "code",
      "outputs": [],
      "execution_count": null,
      "source": [
        "out_dict=tune_ngram_loglike(ngram_data=data,feature_col=feature_col,\n",
        "                          label_col=label_col,cv_folds=cv_folds,cv_seed=cv_seed,\n",
        "                          n_range=n_range, model_id=model_id,data_name=data_name,\n",
        "                          method_name=method_name,log_path_base=log_path_base,exp_id=exp_id)"
      ]
    },
    {
      "metadata": {
        "id": "QSZGs40MH-tz"
      },
      "cell_type": "markdown",
      "source": [
        "## TEST SET EVALUATION"
      ]
    },
    {
      "metadata": {
        "id": "4nZCE89MH-tz"
      },
      "cell_type": "code",
      "outputs": [],
      "execution_count": null,
      "source": [
        "data_name=\"MathCONTA_test_full\"\n",
        "ngram_loglike_data_combined = []\n",
        "for model_id in model_ids:\n",
        "  ngram_loglike_data=create_ngram_loglike_generation_data(model_id=model_id,\n",
        "                               ds_conta=ds_conta,\n",
        "                                model=model, tokenizer=AutoTokenizer.from_pretrained(model_id),\n",
        "                                 n_starts=n_starts, n=n_range, random_starts=random_starts,\n",
        "                                 seed_rand=seed_rand, start_offset=start_offset, only_problem=only_problem,\n",
        "                                 force_reprocess=force_reprocess, verbose=verbose,\n",
        "                                 data_name=data_name, target_path=DRIVE_PATH / \"MathCONTA_ngram_loglike_generation_data\",\n",
        "                                 base_path_token = DRIVE_PATH / \"MathCONTA_tokens\")\n",
        "  ngram_loglike_data_combined += ngram_loglike_data\n",
        "\n",
        "len(ngram_loglike_data_combined)"
      ]
    },
    {
      "metadata": {
        "id": "0HslE7kBH-t0"
      },
      "cell_type": "code",
      "outputs": [],
      "execution_count": null,
      "source": [
        "#!Parameter\n",
        "parameter1=1\n",
        "theta=-1.34\n",
        "model_id=model_id_combi\n",
        "\n",
        "ngram_ll_df=get_ngram_loglike_df_from_generation_data(ngram_loglike_data_combined, n=parameter1)\n",
        "len(ngram_ll_df)"
      ]
    },
    {
      "metadata": {
        "id": "i2s3zffaH-t0"
      },
      "cell_type": "code",
      "outputs": [],
      "execution_count": null,
      "source": [
        "test_dict=evaluate_method_standard(\n",
        "    ngram_ll_df,\n",
        "    metric_col=feature_col,\n",
        "    theta=theta,\n",
        "    model_id=model_id,\n",
        "    data_name=data_name,\n",
        "    method_name=method_name,\n",
        "    parameter1=parameter1,\n",
        "    n_bootstrap=1000,\n",
        "    seed=42\n",
        ")\n",
        "test_dict"
      ]
    },
    {
      "metadata": {
        "id": "Dc1ma6wFH-t0"
      },
      "cell_type": "code",
      "outputs": [],
      "execution_count": null,
      "source": [
        "save_accuracy_log(log_path_base=log_path_base,model_id=model_id,method_name=method_name,exp_id=exp_id, data_name=data_name,out_dict=test_dict)"
      ]
    }
  ]
}