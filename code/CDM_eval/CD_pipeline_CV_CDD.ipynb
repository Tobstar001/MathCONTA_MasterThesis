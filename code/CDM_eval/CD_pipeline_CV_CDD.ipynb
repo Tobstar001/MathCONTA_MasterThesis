{
  "nbformat": 4,
  "nbformat_minor": 0,
  "metadata": {
    "colab": {
      "provenance": [],
      "authorship_tag": "ABX9TyPXnrIRpdD4dk2EasCgV92l",
      "include_colab_link": true
    },
    "kernelspec": {
      "name": "python3",
      "display_name": "Python 3"
    },
    "language_info": {
      "name": "python"
    }
  },
  "cells": [
    {
      "cell_type": "markdown",
      "metadata": {
        "id": "view-in-github",
        "colab_type": "text"
      },
      "source": [
        "<a href=\"https://colab.research.google.com/github/friederrr/proof_contamination/blob/main/code/CDM_eval/CD_pipeline_CV_CDD.ipynb\" target=\"_parent\"><img src=\"https://colab.research.google.com/assets/colab-badge.svg\" alt=\"Open In Colab\"/></a>"
      ]
    },
    {
      "cell_type": "markdown",
      "source": [
        "# CD PIPELINE (mit CV) CDD"
      ],
      "metadata": {
        "id": "w6JW4XKqueEl"
      }
    },
    {
      "cell_type": "code",
      "source": [
        "%%capture\n",
        "!pip install datasets"
      ],
      "metadata": {
        "id": "40Cystb9HB6e"
      },
      "execution_count": null,
      "outputs": []
    },
    {
      "cell_type": "code",
      "source": [
        "#mount google drive\n",
        "from google.colab import drive\n",
        "drive.mount('/content/drive',force_remount=True)"
      ],
      "metadata": {
        "colab": {
          "base_uri": "https://localhost:8080/"
        },
        "id": "C305WhL1t-ND",
        "outputId": "5c4def29-3604-48bd-a5bd-60a2d6a621ed"
      },
      "execution_count": null,
      "outputs": [
        {
          "output_type": "stream",
          "name": "stdout",
          "text": [
            "Mounted at /content/drive\n"
          ]
        }
      ]
    },
    {
      "cell_type": "code",
      "execution_count": null,
      "metadata": {
        "id": "PA9MXN_ltYjj"
      },
      "outputs": [],
      "source": [
        "import random\n",
        "import numpy as np\n",
        "import pandas as pd\n",
        "import copy\n",
        "import matplotlib.pyplot as plt\n",
        "from scipy.optimize import curve_fit\n",
        "import torch\n",
        "import json\n",
        "from datetime import datetime\n",
        "import itertools\n",
        "from itertools import cycle, product\n",
        "import re\n",
        "from transformers import AutoModelForCausalLM, AutoTokenizer\n",
        "from datasets import load_dataset\n",
        "from pathlib import Path\n",
        "import statistics\n",
        "from sklearn.model_selection import StratifiedKFold"
      ]
    },
    {
      "cell_type": "code",
      "source": [
        "from CDMs_functions_v1 import *"
      ],
      "metadata": {
        "id": "QqKl5Cugcfz4"
      },
      "execution_count": null,
      "outputs": []
    },
    {
      "cell_type": "markdown",
      "source": [
        "## Model Selektion\n",
        "\n",
        "**OLMO**:\n",
        "\n",
        "- \"allenai/OLMo-7B-0724-hf\": Downlaod (F32): (27 GB), GPU-RAM (bfloat16): 14 GB (T4 sufficient)\n",
        "\n",
        "- \"allenai/OLMo-7B-0724-SFT-hf\": Download (BF16) (14 GB), GPU-RAM (14 GB)\n",
        "\n",
        "- \"allenai/OLMo-7B-0724-Instruct-hf\": Download (BF16) (14 GB), GPU-RAM (14 GB)\n",
        "\n",
        "- \"allenai/OLMo-2-1124-13B-Instruct\": Download (BF16) (28 GB), GPU-RAM (27 GB) -> works fine with A100!\n",
        "\n",
        "**DEEPSEEK**:\n",
        "- \"deepseek-ai/deepseek-math-7b-instruct\":\n",
        "\n",
        "**LEMMA**:\n",
        "- \"EleutherAI/llemma_7b\""
      ],
      "metadata": {
        "id": "UumRYLoGomJ6"
      }
    },
    {
      "cell_type": "code",
      "source": [
        "#!Parameter\n",
        "model_id = \"allenai/OLMo-7B-0724-hf\"\n",
        "DRIVE_PATH=Path('/content/drive/MyDrive/Masterarbeit25/')"
      ],
      "metadata": {
        "id": "nMuaVQOquI_E"
      },
      "execution_count": null,
      "outputs": []
    },
    {
      "cell_type": "code",
      "source": [
        "dir_token_path=DRIVE_PATH / \"MathCONTA_cdd_generation_data\"\n",
        "file_paths=list_files_in_directory(dir_token_path, model_id)"
      ],
      "metadata": {
        "colab": {
          "base_uri": "https://localhost:8080/"
        },
        "id": "jJWEE7f1o_V5",
        "outputId": "011a2897-4c5b-4b63-f61e-708f16f9c560"
      },
      "execution_count": null,
      "outputs": [
        {
          "output_type": "stream",
          "name": "stdout",
          "text": [
            "Files in /content/drive/MyDrive/Masterarbeit25/MathCONTA_cdd_generation_data/allenai/OLMo-7B-0724-hf:\n",
            "\n",
            "OLMo-7B-0724-hf/AIME_sample50_max200_seed42.json\n",
            "OLMo-7B-0724-hf/Forum_sample50_max200_seed42.json\n",
            "OLMo-7B-0724-hf/word-problems_sample50_max200_seed42.json\n",
            "OLMo-7B-0724-hf/AMC8_sample50_max200_seed42.json\n",
            "OLMo-7B-0724-hf/MathCONTA_sample50_max200_seed42.json\n",
            "OLMo-7B-0724-hf/MathCONTA_train_sample50_max200_seed42.json\n",
            "OLMo-7B-0724-hf/MathCONTA_test_sample50_max200_seed42.json\n"
          ]
        }
      ]
    },
    {
      "cell_type": "code",
      "source": [
        "#merge_json_files(file_paths, dir_token_path / model_id / \"MathCONTA_sample50_max200_seed42.json\")"
      ],
      "metadata": {
        "id": "OglBEy1a3P2m"
      },
      "execution_count": null,
      "outputs": []
    },
    {
      "cell_type": "code",
      "source": [
        "#if file exists you don't have to load the models\n",
        "load_models=False\n",
        "if load_models:\n",
        "  model = AutoModelForCausalLM.from_pretrained(model_id, torch_dtype=torch.bfloat16, device_map='auto')\n",
        "  tokenizer = AutoTokenizer.from_pretrained(model_id)\n",
        "else:\n",
        "  model = None\n",
        "  tokenizer = AutoTokenizer.from_pretrained(model_id)\n",
        "  ds_conta = None"
      ],
      "metadata": {
        "id": "VYZtyL4AyeYN"
      },
      "execution_count": null,
      "outputs": []
    },
    {
      "cell_type": "markdown",
      "source": [
        "## DATA Processing/Loading MathCONTA"
      ],
      "metadata": {
        "id": "NhWCX-W2Digm"
      }
    },
    {
      "cell_type": "code",
      "source": [
        "#!Parameter\n",
        "repo_id = \"Tobstar001/MathCONTA\"\n",
        "split = \"test\"\n",
        "config_name=\"core\"\n",
        "\n",
        "ds_conta = load_dataset(path=repo_id,name=config_name,split=split)\n"
      ],
      "metadata": {
        "id": "1DV-oXsPmJCE"
      },
      "execution_count": null,
      "outputs": []
    },
    {
      "cell_type": "code",
      "source": [
        "#filter ds_conta\n",
        "data_name=\"AMC8\"\n",
        "filtered_dataset = ds_conta.filter(lambda example: example[\"CATEGORY\"] == \"AMC8\")\n",
        "len(filtered_dataset)"
      ],
      "metadata": {
        "id": "fs-yDZpmOP19"
      },
      "execution_count": null,
      "outputs": []
    },
    {
      "cell_type": "code",
      "source": [
        "data_name=\"MathCONTA\"\n",
        "MathCONTA_cdd_data=create_cdd_generation_data(model_id=model_id,\n",
        "                                                 ds_conta=ds_conta,\n",
        "                                                 model=model, tokenizer=tokenizer, data_name=data_name,\n",
        "                                                force_reprocess=False,max_new_tokens=200,sample_size=50,\n",
        "                                                 base_path_token=dir_token_path,verbose=False)\n",
        "\n",
        "\n",
        "\n"
      ],
      "metadata": {
        "colab": {
          "base_uri": "https://localhost:8080/"
        },
        "id": "T0_q9KTvlrN0",
        "outputId": "1884fde1-87c2-440f-bc7c-a4b223f7eed9"
      },
      "execution_count": null,
      "outputs": [
        {
          "output_type": "stream",
          "name": "stdout",
          "text": [
            "Loading existing cdd generation data from: /content/drive/MyDrive/Masterarbeit25/MathCONTA_cdd_generation_data/allenai/OLMo-2-1124-13B-Instruct/MathCONTA_sample50_max200_seed42.json\n"
          ]
        }
      ]
    },
    {
      "cell_type": "code",
      "source": [
        "cdd_df=get_cdd_df_from_generation_data(MathCONTA_cdd_data, alpha=0.0)\n",
        "cdd_df"
      ],
      "metadata": {
        "colab": {
          "base_uri": "https://localhost:8080/",
          "height": 677
        },
        "id": "mlK0TE6GazdE",
        "outputId": "4d0d4295-de3a-46f3-d888-c5a0037aec75",
        "collapsed": true
      },
      "execution_count": null,
      "outputs": [
        {
          "output_type": "execute_result",
          "data": {
            "text/plain": [
              "               ID       CATEGORY  LABEL  LABEL_BINARY  alpha  cdd_value\n",
              "0      owm-amc8-9           AMC8  Conta             1    0.3       0.00\n",
              "1     owm-amc8-10           AMC8  Conta             1    0.3       0.00\n",
              "2     owm-amc8-15           AMC8  Conta             1    0.3       0.36\n",
              "3     owm-amc8-17           AMC8  Conta             1    0.3       0.00\n",
              "4      owm-aime-4           AIME  Conta             1    0.3       0.00\n",
              "5      owm-aime-7           AIME  Conta             1    0.3       0.00\n",
              "6    clean-aime-3           AIME  Clean             0    0.3       0.00\n",
              "7    clean-aime-7           AIME  Clean             0    0.3       0.00\n",
              "8    clean-amc8-1           AMC8  Clean             0    0.3       0.76\n",
              "9    clean-amc8-3           AMC8  Clean             0    0.3       0.12\n",
              "10  clean-amc8-10           AMC8  Clean             0    0.3       0.00\n",
              "11  clean-amc8-18           AMC8  Clean             0    0.3       0.30\n",
              "12     owm-word-2  word-problems  Conta             1    0.3       0.00\n",
              "13   clean-word-7  word-problems  Clean             0    0.3       0.00\n",
              "14    owm-word-10  word-problems  Conta             1    0.3       0.80\n",
              "15  clean-word-10  word-problems  Clean             0    0.3       0.94\n",
              "16    owm-forum-3          Forum  Conta             1    0.3       0.00\n",
              "17   owm-forum-10          Forum  Conta             1    0.3       0.00\n",
              "18  clean-forum-6          Forum  Clean             0    0.3       0.00\n",
              "19  clean-forum-7          Forum  Clean             0    0.3       0.74"
            ],
            "text/html": [
              "\n",
              "  <div id=\"df-051c4839-c4a3-4e84-ac6b-232137cd20f6\" class=\"colab-df-container\">\n",
              "    <div>\n",
              "<style scoped>\n",
              "    .dataframe tbody tr th:only-of-type {\n",
              "        vertical-align: middle;\n",
              "    }\n",
              "\n",
              "    .dataframe tbody tr th {\n",
              "        vertical-align: top;\n",
              "    }\n",
              "\n",
              "    .dataframe thead th {\n",
              "        text-align: right;\n",
              "    }\n",
              "</style>\n",
              "<table border=\"1\" class=\"dataframe\">\n",
              "  <thead>\n",
              "    <tr style=\"text-align: right;\">\n",
              "      <th></th>\n",
              "      <th>ID</th>\n",
              "      <th>CATEGORY</th>\n",
              "      <th>LABEL</th>\n",
              "      <th>LABEL_BINARY</th>\n",
              "      <th>alpha</th>\n",
              "      <th>cdd_value</th>\n",
              "    </tr>\n",
              "  </thead>\n",
              "  <tbody>\n",
              "    <tr>\n",
              "      <th>0</th>\n",
              "      <td>owm-amc8-9</td>\n",
              "      <td>AMC8</td>\n",
              "      <td>Conta</td>\n",
              "      <td>1</td>\n",
              "      <td>0.3</td>\n",
              "      <td>0.00</td>\n",
              "    </tr>\n",
              "    <tr>\n",
              "      <th>1</th>\n",
              "      <td>owm-amc8-10</td>\n",
              "      <td>AMC8</td>\n",
              "      <td>Conta</td>\n",
              "      <td>1</td>\n",
              "      <td>0.3</td>\n",
              "      <td>0.00</td>\n",
              "    </tr>\n",
              "    <tr>\n",
              "      <th>2</th>\n",
              "      <td>owm-amc8-15</td>\n",
              "      <td>AMC8</td>\n",
              "      <td>Conta</td>\n",
              "      <td>1</td>\n",
              "      <td>0.3</td>\n",
              "      <td>0.36</td>\n",
              "    </tr>\n",
              "    <tr>\n",
              "      <th>3</th>\n",
              "      <td>owm-amc8-17</td>\n",
              "      <td>AMC8</td>\n",
              "      <td>Conta</td>\n",
              "      <td>1</td>\n",
              "      <td>0.3</td>\n",
              "      <td>0.00</td>\n",
              "    </tr>\n",
              "    <tr>\n",
              "      <th>4</th>\n",
              "      <td>owm-aime-4</td>\n",
              "      <td>AIME</td>\n",
              "      <td>Conta</td>\n",
              "      <td>1</td>\n",
              "      <td>0.3</td>\n",
              "      <td>0.00</td>\n",
              "    </tr>\n",
              "    <tr>\n",
              "      <th>5</th>\n",
              "      <td>owm-aime-7</td>\n",
              "      <td>AIME</td>\n",
              "      <td>Conta</td>\n",
              "      <td>1</td>\n",
              "      <td>0.3</td>\n",
              "      <td>0.00</td>\n",
              "    </tr>\n",
              "    <tr>\n",
              "      <th>6</th>\n",
              "      <td>clean-aime-3</td>\n",
              "      <td>AIME</td>\n",
              "      <td>Clean</td>\n",
              "      <td>0</td>\n",
              "      <td>0.3</td>\n",
              "      <td>0.00</td>\n",
              "    </tr>\n",
              "    <tr>\n",
              "      <th>7</th>\n",
              "      <td>clean-aime-7</td>\n",
              "      <td>AIME</td>\n",
              "      <td>Clean</td>\n",
              "      <td>0</td>\n",
              "      <td>0.3</td>\n",
              "      <td>0.00</td>\n",
              "    </tr>\n",
              "    <tr>\n",
              "      <th>8</th>\n",
              "      <td>clean-amc8-1</td>\n",
              "      <td>AMC8</td>\n",
              "      <td>Clean</td>\n",
              "      <td>0</td>\n",
              "      <td>0.3</td>\n",
              "      <td>0.76</td>\n",
              "    </tr>\n",
              "    <tr>\n",
              "      <th>9</th>\n",
              "      <td>clean-amc8-3</td>\n",
              "      <td>AMC8</td>\n",
              "      <td>Clean</td>\n",
              "      <td>0</td>\n",
              "      <td>0.3</td>\n",
              "      <td>0.12</td>\n",
              "    </tr>\n",
              "    <tr>\n",
              "      <th>10</th>\n",
              "      <td>clean-amc8-10</td>\n",
              "      <td>AMC8</td>\n",
              "      <td>Clean</td>\n",
              "      <td>0</td>\n",
              "      <td>0.3</td>\n",
              "      <td>0.00</td>\n",
              "    </tr>\n",
              "    <tr>\n",
              "      <th>11</th>\n",
              "      <td>clean-amc8-18</td>\n",
              "      <td>AMC8</td>\n",
              "      <td>Clean</td>\n",
              "      <td>0</td>\n",
              "      <td>0.3</td>\n",
              "      <td>0.30</td>\n",
              "    </tr>\n",
              "    <tr>\n",
              "      <th>12</th>\n",
              "      <td>owm-word-2</td>\n",
              "      <td>word-problems</td>\n",
              "      <td>Conta</td>\n",
              "      <td>1</td>\n",
              "      <td>0.3</td>\n",
              "      <td>0.00</td>\n",
              "    </tr>\n",
              "    <tr>\n",
              "      <th>13</th>\n",
              "      <td>clean-word-7</td>\n",
              "      <td>word-problems</td>\n",
              "      <td>Clean</td>\n",
              "      <td>0</td>\n",
              "      <td>0.3</td>\n",
              "      <td>0.00</td>\n",
              "    </tr>\n",
              "    <tr>\n",
              "      <th>14</th>\n",
              "      <td>owm-word-10</td>\n",
              "      <td>word-problems</td>\n",
              "      <td>Conta</td>\n",
              "      <td>1</td>\n",
              "      <td>0.3</td>\n",
              "      <td>0.80</td>\n",
              "    </tr>\n",
              "    <tr>\n",
              "      <th>15</th>\n",
              "      <td>clean-word-10</td>\n",
              "      <td>word-problems</td>\n",
              "      <td>Clean</td>\n",
              "      <td>0</td>\n",
              "      <td>0.3</td>\n",
              "      <td>0.94</td>\n",
              "    </tr>\n",
              "    <tr>\n",
              "      <th>16</th>\n",
              "      <td>owm-forum-3</td>\n",
              "      <td>Forum</td>\n",
              "      <td>Conta</td>\n",
              "      <td>1</td>\n",
              "      <td>0.3</td>\n",
              "      <td>0.00</td>\n",
              "    </tr>\n",
              "    <tr>\n",
              "      <th>17</th>\n",
              "      <td>owm-forum-10</td>\n",
              "      <td>Forum</td>\n",
              "      <td>Conta</td>\n",
              "      <td>1</td>\n",
              "      <td>0.3</td>\n",
              "      <td>0.00</td>\n",
              "    </tr>\n",
              "    <tr>\n",
              "      <th>18</th>\n",
              "      <td>clean-forum-6</td>\n",
              "      <td>Forum</td>\n",
              "      <td>Clean</td>\n",
              "      <td>0</td>\n",
              "      <td>0.3</td>\n",
              "      <td>0.00</td>\n",
              "    </tr>\n",
              "    <tr>\n",
              "      <th>19</th>\n",
              "      <td>clean-forum-7</td>\n",
              "      <td>Forum</td>\n",
              "      <td>Clean</td>\n",
              "      <td>0</td>\n",
              "      <td>0.3</td>\n",
              "      <td>0.74</td>\n",
              "    </tr>\n",
              "  </tbody>\n",
              "</table>\n",
              "</div>\n",
              "    <div class=\"colab-df-buttons\">\n",
              "\n",
              "  <div class=\"colab-df-container\">\n",
              "    <button class=\"colab-df-convert\" onclick=\"convertToInteractive('df-051c4839-c4a3-4e84-ac6b-232137cd20f6')\"\n",
              "            title=\"Convert this dataframe to an interactive table.\"\n",
              "            style=\"display:none;\">\n",
              "\n",
              "  <svg xmlns=\"http://www.w3.org/2000/svg\" height=\"24px\" viewBox=\"0 -960 960 960\">\n",
              "    <path d=\"M120-120v-720h720v720H120Zm60-500h600v-160H180v160Zm220 220h160v-160H400v160Zm0 220h160v-160H400v160ZM180-400h160v-160H180v160Zm440 0h160v-160H620v160ZM180-180h160v-160H180v160Zm440 0h160v-160H620v160Z\"/>\n",
              "  </svg>\n",
              "    </button>\n",
              "\n",
              "  <style>\n",
              "    .colab-df-container {\n",
              "      display:flex;\n",
              "      gap: 12px;\n",
              "    }\n",
              "\n",
              "    .colab-df-convert {\n",
              "      background-color: #E8F0FE;\n",
              "      border: none;\n",
              "      border-radius: 50%;\n",
              "      cursor: pointer;\n",
              "      display: none;\n",
              "      fill: #1967D2;\n",
              "      height: 32px;\n",
              "      padding: 0 0 0 0;\n",
              "      width: 32px;\n",
              "    }\n",
              "\n",
              "    .colab-df-convert:hover {\n",
              "      background-color: #E2EBFA;\n",
              "      box-shadow: 0px 1px 2px rgba(60, 64, 67, 0.3), 0px 1px 3px 1px rgba(60, 64, 67, 0.15);\n",
              "      fill: #174EA6;\n",
              "    }\n",
              "\n",
              "    .colab-df-buttons div {\n",
              "      margin-bottom: 4px;\n",
              "    }\n",
              "\n",
              "    [theme=dark] .colab-df-convert {\n",
              "      background-color: #3B4455;\n",
              "      fill: #D2E3FC;\n",
              "    }\n",
              "\n",
              "    [theme=dark] .colab-df-convert:hover {\n",
              "      background-color: #434B5C;\n",
              "      box-shadow: 0px 1px 3px 1px rgba(0, 0, 0, 0.15);\n",
              "      filter: drop-shadow(0px 1px 2px rgba(0, 0, 0, 0.3));\n",
              "      fill: #FFFFFF;\n",
              "    }\n",
              "  </style>\n",
              "\n",
              "    <script>\n",
              "      const buttonEl =\n",
              "        document.querySelector('#df-051c4839-c4a3-4e84-ac6b-232137cd20f6 button.colab-df-convert');\n",
              "      buttonEl.style.display =\n",
              "        google.colab.kernel.accessAllowed ? 'block' : 'none';\n",
              "\n",
              "      async function convertToInteractive(key) {\n",
              "        const element = document.querySelector('#df-051c4839-c4a3-4e84-ac6b-232137cd20f6');\n",
              "        const dataTable =\n",
              "          await google.colab.kernel.invokeFunction('convertToInteractive',\n",
              "                                                    [key], {});\n",
              "        if (!dataTable) return;\n",
              "\n",
              "        const docLinkHtml = 'Like what you see? Visit the ' +\n",
              "          '<a target=\"_blank\" href=https://colab.research.google.com/notebooks/data_table.ipynb>data table notebook</a>'\n",
              "          + ' to learn more about interactive tables.';\n",
              "        element.innerHTML = '';\n",
              "        dataTable['output_type'] = 'display_data';\n",
              "        await google.colab.output.renderOutput(dataTable, element);\n",
              "        const docLink = document.createElement('div');\n",
              "        docLink.innerHTML = docLinkHtml;\n",
              "        element.appendChild(docLink);\n",
              "      }\n",
              "    </script>\n",
              "  </div>\n",
              "\n",
              "\n",
              "<div id=\"df-7ab49dee-9f17-4b96-9e8b-6e1b5a4042b7\">\n",
              "  <button class=\"colab-df-quickchart\" onclick=\"quickchart('df-7ab49dee-9f17-4b96-9e8b-6e1b5a4042b7')\"\n",
              "            title=\"Suggest charts\"\n",
              "            style=\"display:none;\">\n",
              "\n",
              "<svg xmlns=\"http://www.w3.org/2000/svg\" height=\"24px\"viewBox=\"0 0 24 24\"\n",
              "     width=\"24px\">\n",
              "    <g>\n",
              "        <path d=\"M19 3H5c-1.1 0-2 .9-2 2v14c0 1.1.9 2 2 2h14c1.1 0 2-.9 2-2V5c0-1.1-.9-2-2-2zM9 17H7v-7h2v7zm4 0h-2V7h2v10zm4 0h-2v-4h2v4z\"/>\n",
              "    </g>\n",
              "</svg>\n",
              "  </button>\n",
              "\n",
              "<style>\n",
              "  .colab-df-quickchart {\n",
              "      --bg-color: #E8F0FE;\n",
              "      --fill-color: #1967D2;\n",
              "      --hover-bg-color: #E2EBFA;\n",
              "      --hover-fill-color: #174EA6;\n",
              "      --disabled-fill-color: #AAA;\n",
              "      --disabled-bg-color: #DDD;\n",
              "  }\n",
              "\n",
              "  [theme=dark] .colab-df-quickchart {\n",
              "      --bg-color: #3B4455;\n",
              "      --fill-color: #D2E3FC;\n",
              "      --hover-bg-color: #434B5C;\n",
              "      --hover-fill-color: #FFFFFF;\n",
              "      --disabled-bg-color: #3B4455;\n",
              "      --disabled-fill-color: #666;\n",
              "  }\n",
              "\n",
              "  .colab-df-quickchart {\n",
              "    background-color: var(--bg-color);\n",
              "    border: none;\n",
              "    border-radius: 50%;\n",
              "    cursor: pointer;\n",
              "    display: none;\n",
              "    fill: var(--fill-color);\n",
              "    height: 32px;\n",
              "    padding: 0;\n",
              "    width: 32px;\n",
              "  }\n",
              "\n",
              "  .colab-df-quickchart:hover {\n",
              "    background-color: var(--hover-bg-color);\n",
              "    box-shadow: 0 1px 2px rgba(60, 64, 67, 0.3), 0 1px 3px 1px rgba(60, 64, 67, 0.15);\n",
              "    fill: var(--button-hover-fill-color);\n",
              "  }\n",
              "\n",
              "  .colab-df-quickchart-complete:disabled,\n",
              "  .colab-df-quickchart-complete:disabled:hover {\n",
              "    background-color: var(--disabled-bg-color);\n",
              "    fill: var(--disabled-fill-color);\n",
              "    box-shadow: none;\n",
              "  }\n",
              "\n",
              "  .colab-df-spinner {\n",
              "    border: 2px solid var(--fill-color);\n",
              "    border-color: transparent;\n",
              "    border-bottom-color: var(--fill-color);\n",
              "    animation:\n",
              "      spin 1s steps(1) infinite;\n",
              "  }\n",
              "\n",
              "  @keyframes spin {\n",
              "    0% {\n",
              "      border-color: transparent;\n",
              "      border-bottom-color: var(--fill-color);\n",
              "      border-left-color: var(--fill-color);\n",
              "    }\n",
              "    20% {\n",
              "      border-color: transparent;\n",
              "      border-left-color: var(--fill-color);\n",
              "      border-top-color: var(--fill-color);\n",
              "    }\n",
              "    30% {\n",
              "      border-color: transparent;\n",
              "      border-left-color: var(--fill-color);\n",
              "      border-top-color: var(--fill-color);\n",
              "      border-right-color: var(--fill-color);\n",
              "    }\n",
              "    40% {\n",
              "      border-color: transparent;\n",
              "      border-right-color: var(--fill-color);\n",
              "      border-top-color: var(--fill-color);\n",
              "    }\n",
              "    60% {\n",
              "      border-color: transparent;\n",
              "      border-right-color: var(--fill-color);\n",
              "    }\n",
              "    80% {\n",
              "      border-color: transparent;\n",
              "      border-right-color: var(--fill-color);\n",
              "      border-bottom-color: var(--fill-color);\n",
              "    }\n",
              "    90% {\n",
              "      border-color: transparent;\n",
              "      border-bottom-color: var(--fill-color);\n",
              "    }\n",
              "  }\n",
              "</style>\n",
              "\n",
              "  <script>\n",
              "    async function quickchart(key) {\n",
              "      const quickchartButtonEl =\n",
              "        document.querySelector('#' + key + ' button');\n",
              "      quickchartButtonEl.disabled = true;  // To prevent multiple clicks.\n",
              "      quickchartButtonEl.classList.add('colab-df-spinner');\n",
              "      try {\n",
              "        const charts = await google.colab.kernel.invokeFunction(\n",
              "            'suggestCharts', [key], {});\n",
              "      } catch (error) {\n",
              "        console.error('Error during call to suggestCharts:', error);\n",
              "      }\n",
              "      quickchartButtonEl.classList.remove('colab-df-spinner');\n",
              "      quickchartButtonEl.classList.add('colab-df-quickchart-complete');\n",
              "    }\n",
              "    (() => {\n",
              "      let quickchartButtonEl =\n",
              "        document.querySelector('#df-7ab49dee-9f17-4b96-9e8b-6e1b5a4042b7 button');\n",
              "      quickchartButtonEl.style.display =\n",
              "        google.colab.kernel.accessAllowed ? 'block' : 'none';\n",
              "    })();\n",
              "  </script>\n",
              "</div>\n",
              "\n",
              "  <div id=\"id_de3364a3-05cd-4332-a5f4-9776bbcb60cd\">\n",
              "    <style>\n",
              "      .colab-df-generate {\n",
              "        background-color: #E8F0FE;\n",
              "        border: none;\n",
              "        border-radius: 50%;\n",
              "        cursor: pointer;\n",
              "        display: none;\n",
              "        fill: #1967D2;\n",
              "        height: 32px;\n",
              "        padding: 0 0 0 0;\n",
              "        width: 32px;\n",
              "      }\n",
              "\n",
              "      .colab-df-generate:hover {\n",
              "        background-color: #E2EBFA;\n",
              "        box-shadow: 0px 1px 2px rgba(60, 64, 67, 0.3), 0px 1px 3px 1px rgba(60, 64, 67, 0.15);\n",
              "        fill: #174EA6;\n",
              "      }\n",
              "\n",
              "      [theme=dark] .colab-df-generate {\n",
              "        background-color: #3B4455;\n",
              "        fill: #D2E3FC;\n",
              "      }\n",
              "\n",
              "      [theme=dark] .colab-df-generate:hover {\n",
              "        background-color: #434B5C;\n",
              "        box-shadow: 0px 1px 3px 1px rgba(0, 0, 0, 0.15);\n",
              "        filter: drop-shadow(0px 1px 2px rgba(0, 0, 0, 0.3));\n",
              "        fill: #FFFFFF;\n",
              "      }\n",
              "    </style>\n",
              "    <button class=\"colab-df-generate\" onclick=\"generateWithVariable('cdd_df')\"\n",
              "            title=\"Generate code using this dataframe.\"\n",
              "            style=\"display:none;\">\n",
              "\n",
              "  <svg xmlns=\"http://www.w3.org/2000/svg\" height=\"24px\"viewBox=\"0 0 24 24\"\n",
              "       width=\"24px\">\n",
              "    <path d=\"M7,19H8.4L18.45,9,17,7.55,7,17.6ZM5,21V16.75L18.45,3.32a2,2,0,0,1,2.83,0l1.4,1.43a1.91,1.91,0,0,1,.58,1.4,1.91,1.91,0,0,1-.58,1.4L9.25,21ZM18.45,9,17,7.55Zm-12,3A5.31,5.31,0,0,0,4.9,8.1,5.31,5.31,0,0,0,1,6.5,5.31,5.31,0,0,0,4.9,4.9,5.31,5.31,0,0,0,6.5,1,5.31,5.31,0,0,0,8.1,4.9,5.31,5.31,0,0,0,12,6.5,5.46,5.46,0,0,0,6.5,12Z\"/>\n",
              "  </svg>\n",
              "    </button>\n",
              "    <script>\n",
              "      (() => {\n",
              "      const buttonEl =\n",
              "        document.querySelector('#id_de3364a3-05cd-4332-a5f4-9776bbcb60cd button.colab-df-generate');\n",
              "      buttonEl.style.display =\n",
              "        google.colab.kernel.accessAllowed ? 'block' : 'none';\n",
              "\n",
              "      buttonEl.onclick = () => {\n",
              "        google.colab.notebook.generateWithVariable('cdd_df');\n",
              "      }\n",
              "      })();\n",
              "    </script>\n",
              "  </div>\n",
              "\n",
              "    </div>\n",
              "  </div>\n"
            ],
            "application/vnd.google.colaboratory.intrinsic+json": {
              "type": "dataframe",
              "variable_name": "cdd_df",
              "summary": "{\n  \"name\": \"cdd_df\",\n  \"rows\": 20,\n  \"fields\": [\n    {\n      \"column\": \"ID\",\n      \"properties\": {\n        \"dtype\": \"string\",\n        \"num_unique_values\": 20,\n        \"samples\": [\n          \"owm-amc8-9\",\n          \"owm-forum-10\",\n          \"clean-word-10\"\n        ],\n        \"semantic_type\": \"\",\n        \"description\": \"\"\n      }\n    },\n    {\n      \"column\": \"CATEGORY\",\n      \"properties\": {\n        \"dtype\": \"category\",\n        \"num_unique_values\": 4,\n        \"samples\": [\n          \"AIME\",\n          \"Forum\",\n          \"AMC8\"\n        ],\n        \"semantic_type\": \"\",\n        \"description\": \"\"\n      }\n    },\n    {\n      \"column\": \"LABEL\",\n      \"properties\": {\n        \"dtype\": \"category\",\n        \"num_unique_values\": 2,\n        \"samples\": [\n          \"Clean\",\n          \"Conta\"\n        ],\n        \"semantic_type\": \"\",\n        \"description\": \"\"\n      }\n    },\n    {\n      \"column\": \"LABEL_BINARY\",\n      \"properties\": {\n        \"dtype\": \"number\",\n        \"std\": 0,\n        \"min\": 0,\n        \"max\": 1,\n        \"num_unique_values\": 2,\n        \"samples\": [\n          0,\n          1\n        ],\n        \"semantic_type\": \"\",\n        \"description\": \"\"\n      }\n    },\n    {\n      \"column\": \"alpha\",\n      \"properties\": {\n        \"dtype\": \"number\",\n        \"std\": 5.695323946259567e-17,\n        \"min\": 0.3,\n        \"max\": 0.3,\n        \"num_unique_values\": 1,\n        \"samples\": [\n          0.3\n        ],\n        \"semantic_type\": \"\",\n        \"description\": \"\"\n      }\n    },\n    {\n      \"column\": \"cdd_value\",\n      \"properties\": {\n        \"dtype\": \"number\",\n        \"std\": 0.3304526401292946,\n        \"min\": 0.0,\n        \"max\": 0.9400000000000002,\n        \"num_unique_values\": 8,\n        \"samples\": [\n          0.36\n        ],\n        \"semantic_type\": \"\",\n        \"description\": \"\"\n      }\n    }\n  ]\n}"
            }
          },
          "metadata": {},
          "execution_count": 11
        }
      ]
    },
    {
      "cell_type": "markdown",
      "source": [
        "## Train Test Split (Only relevant once)\n",
        "Subsequent Stratified Train test split for google drive\n",
        "For new data please filter train/test before generating the data"
      ],
      "metadata": {
        "id": "7XjqrOBD33Tw"
      }
    },
    {
      "cell_type": "code",
      "source": [
        "train, test = stratified_dict_split(MathCONTA_cdd_data, test_ratio=0.3, seed=42)"
      ],
      "metadata": {
        "id": "4xjzCi7g4OL_",
        "outputId": "ddf052af-1511-4bad-f9a7-ec8d9b337200",
        "colab": {
          "base_uri": "https://localhost:8080/"
        }
      },
      "execution_count": null,
      "outputs": [
        {
          "output_type": "stream",
          "name": "stdout",
          "text": [
            "Train size: 70, Test size: 30\n",
            "{'owm-word-2', 'clean-word-9', 'clean-amc8-3', 'owm-aime-7', 'clean-aime-3', 'clean-amc8-14', 'owm-word-10', 'clean-amc8-10', 'owm-amc8-17', 'owm-forum-10', 'clean-amc8-18', 'owm-word-5', 'owm-amc8-9', 'clean-word-7', 'owm-amc8-12', 'clean-forum-7', 'owm-amc8-10', 'clean-forum-6', 'owm-forum-3', 'owm-aime-3', 'owm-aime-4', 'clean-word-12', 'owm-amc8-15', 'clean-aime-4', 'clean-amc8-1', 'clean-forum-9', 'clean-word-10', 'owm-word-9', 'clean-aime-7', 'owm-forum-5'}\n"
          ]
        }
      ]
    },
    {
      "cell_type": "code",
      "source": [
        "#train_path: dir_token_path / model_id / \"MathCONTA_train_sample50_max200_seed42.json\", test path accordingly\n",
        "file_path_train=dir_token_path / model_id / \"MathCONTA_train_sample50_max200_seed42.json\"\n",
        "with open(file_path_train, 'w') as f:\n",
        "      json.dump(train, f)\n",
        "\n",
        "file_path_test=dir_token_path / model_id / \"MathCONTA_test_sample50_max200_seed42.json\"\n",
        "with open(file_path_test, 'w') as f:\n",
        "      json.dump(test, f)"
      ],
      "metadata": {
        "id": "WKcpbFZX62Aq"
      },
      "execution_count": null,
      "outputs": []
    },
    {
      "cell_type": "markdown",
      "source": [
        "## TRAIN SET CV\n",
        "Find best parameters - CV"
      ],
      "metadata": {
        "id": "QeVgSM7jDpoz"
      }
    },
    {
      "cell_type": "code",
      "source": [
        "#how to filter on categories\n",
        "#category='Forum'\n",
        "#MathCONTA_cdd_data_f = [entry for entry in MathCONTA_cdd_data if entry.get('CATEGORY') == category]\n",
        "#len(MathCONTA_cdd_data_f)"
      ],
      "metadata": {
        "id": "gywAyUqZvn7S"
      },
      "execution_count": null,
      "outputs": []
    },
    {
      "cell_type": "code",
      "source": [
        "data_name=\"MathCONTA_train\"\n",
        "MathCONTA_cdd_data=create_cdd_generation_data(model_id=model_id,\n",
        "                                                 ds_conta=ds_conta,\n",
        "                                                 model=model, tokenizer=tokenizer, data_name=data_name,\n",
        "                                                force_reprocess=False,max_new_tokens=200,sample_size=50,\n",
        "                                                 base_path_token=dir_token_path,verbose=False)"
      ],
      "metadata": {
        "id": "aKDiAmQlIRSx",
        "outputId": "3b59ed77-4271-4579-b72f-58b4e3f927a0",
        "colab": {
          "base_uri": "https://localhost:8080/"
        }
      },
      "execution_count": null,
      "outputs": [
        {
          "output_type": "stream",
          "name": "stdout",
          "text": [
            "Loading existing cdd generation data from: /content/drive/MyDrive/Masterarbeit25/MathCONTA_cdd_generation_data/allenai/OLMo-7B-0724-hf/MathCONTA_train_sample50_max200_seed42.json\n"
          ]
        }
      ]
    },
    {
      "cell_type": "code",
      "source": [
        "#!Parameter 2D\n",
        "cdd_generation_data=MathCONTA_cdd_data\n",
        "feature_col=\"cdd_value\"\n",
        "label_col=\"LABEL_BINARY\"\n",
        "alpha_range=[round(float(alpha), 3) for alpha in np.arange(0,0.31,0.1)]\n",
        "cv_folds=5\n",
        "cv_seed=42\n",
        "log_path_base =DRIVE_PATH / \"cdm_data\" / \"MathCONTA_v1\"\n",
        "exp_id=\"overleaf2\"#+\"_\"+category\n",
        "method_name=\"CDD\"\n"
      ],
      "metadata": {
        "id": "RcIIQfKXuTBZ"
      },
      "execution_count": null,
      "outputs": []
    },
    {
      "cell_type": "code",
      "source": [
        "out_dict=tune_cdd(cdd_generation_data=cdd_generation_data,feature_col=feature_col,\n",
        "                          label_col=label_col,cv_folds=cv_folds,cv_seed=cv_seed,\n",
        "                          alpha_range=alpha_range, model_id=model_id,data_name=data_name,\n",
        "                          method_name=method_name,log_path_base=log_path_base,exp_id=exp_id)"
      ],
      "metadata": {
        "colab": {
          "base_uri": "https://localhost:8080/"
        },
        "id": "NKDb9iOLjF5x",
        "outputId": "cfb3a940-8498-4d21-d3b1-7632a5db5b19"
      },
      "execution_count": null,
      "outputs": [
        {
          "output_type": "stream",
          "name": "stdout",
          "text": [
            "Testing alpha=0.0 | median_threshold=0.000000 | mean_cvacc_test=0.485714\n",
            "Testing alpha=0.1 | median_threshold=0.000000 | mean_cvacc_test=0.500000\n",
            "Testing alpha=0.2 | median_threshold=0.000000 | mean_cvacc_test=0.500000\n",
            "Testing alpha=0.3 | median_threshold=0.000000 | mean_cvacc_test=0.500000\n",
            "Best log entry:\n",
            "{'parameter': {'alpha': 0.1}, 'global_threshold': 0.0, 'median_threshold': 0.0, 'mean_cvacc_train': 0.5, 'mean_cvacc_test': 0.5}\n",
            "Accuracy log saved in /content/drive/MyDrive/Masterarbeit25/cdm_data/MathCONTA_v1/allenai/OLMo-7B-0724-hf/CDD/MathCONTA_train_accuracylog_overleaf2.json\n"
          ]
        }
      ]
    },
    {
      "cell_type": "markdown",
      "source": [
        "## TEST SET EVALUATION"
      ],
      "metadata": {
        "id": "2vPgtddTCRFJ"
      }
    },
    {
      "cell_type": "code",
      "source": [
        "data_name=\"MathCONTA_test\"\n",
        "MathCONTA_cdd_data=create_cdd_generation_data(model_id=model_id,\n",
        "                                                 ds_conta=ds_conta,\n",
        "                                                 model=model, tokenizer=tokenizer, data_name=data_name,\n",
        "                                                force_reprocess=False,max_new_tokens=200,sample_size=50,\n",
        "                                                 base_path_token=dir_token_path,verbose=False)"
      ],
      "metadata": {
        "id": "R4lXg-IhCP8B",
        "outputId": "ab096a8a-919d-4b0f-aed6-0f07870b5d99",
        "colab": {
          "base_uri": "https://localhost:8080/"
        }
      },
      "execution_count": null,
      "outputs": [
        {
          "output_type": "stream",
          "name": "stdout",
          "text": [
            "Loading existing cdd generation data from: /content/drive/MyDrive/Masterarbeit25/MathCONTA_cdd_generation_data/allenai/OLMo-2-1124-13B-Instruct/MathCONTA_test_sample50_max200_seed42.json\n"
          ]
        }
      ]
    },
    {
      "cell_type": "code",
      "source": [
        "#!Parameter\n",
        "parameter1=0.3\n",
        "theta=0.01\n",
        "data_name=\"MathCONTA_test\"\n",
        "exp_id_test=exp_id\n",
        "\n",
        "cdd_df=get_cdd_df_from_generation_data(MathCONTA_cdd_data, alpha=parameter1)\n",
        "len(cdd_df)"
      ],
      "metadata": {
        "id": "dek4Ro6EC5ZL",
        "outputId": "d4c645b8-7e66-4ad2-9673-06b548b70b80",
        "colab": {
          "base_uri": "https://localhost:8080/"
        }
      },
      "execution_count": null,
      "outputs": [
        {
          "output_type": "execute_result",
          "data": {
            "text/plain": [
              "30"
            ]
          },
          "metadata": {},
          "execution_count": 14
        }
      ]
    },
    {
      "cell_type": "code",
      "source": [
        "test_dict=evaluate_method_standard(\n",
        "    cdd_df,\n",
        "    metric_col=feature_col,\n",
        "    theta=theta,\n",
        "    model_id=model_id,\n",
        "    data_name=data_name,\n",
        "    method_name=method_name,\n",
        "    parameter1=parameter1,\n",
        "    n_bootstrap=1000,\n",
        "    seed=42\n",
        ")\n",
        "test_dict"
      ],
      "metadata": {
        "id": "engCPfhKfvcL",
        "outputId": "6405efcd-1d92-4a99-f2f8-649466db089a",
        "colab": {
          "base_uri": "https://localhost:8080/"
        }
      },
      "execution_count": null,
      "outputs": [
        {
          "output_type": "execute_result",
          "data": {
            "text/plain": [
              "{'model_id': 'allenai/OLMo-2-1124-13B-Instruct',\n",
              " 'data_name': 'MathCONTA_test',\n",
              " 'datetime': '2025-04-11T13:39:56.434730',\n",
              " 'method_name': 'CDD',\n",
              " 'parameter': {'parameter1': 0.3, 'parameter2': None, 'theta': '0.01'},\n",
              " 'metrics': {'accuracy': 0.43333333333333335,\n",
              "  'accuracy_95CI': (0.26666666666666666, 0.6333333333333333),\n",
              "  'precision': 0.375,\n",
              "  'recall': 0.2,\n",
              "  'f1_score': 0.2608695652173913,\n",
              "  'confusion_matrix': [[10, 5], [12, 3]],\n",
              "  'mcnemar_b': 10,\n",
              "  'mcnemar_c': 12,\n",
              "  'mcnemar_p_value': 0.8318119049072266},\n",
              " 'n_bootstrap': 1000,\n",
              " 'seed': 42}"
            ]
          },
          "metadata": {},
          "execution_count": 15
        }
      ]
    },
    {
      "cell_type": "code",
      "source": [
        "save_accuracy_log(log_path_base=log_path_base,model_id=model_id,method_name=method_name,exp_id=exp_id_test, data_name=data_name,out_dict=test_dict)"
      ],
      "metadata": {
        "id": "UuGCVaPKAQdn",
        "outputId": "deeaa051-4a0d-43b1-8f28-48d7c2d94a73",
        "colab": {
          "base_uri": "https://localhost:8080/"
        }
      },
      "execution_count": null,
      "outputs": [
        {
          "output_type": "stream",
          "name": "stdout",
          "text": [
            "Accuracy log saved in /content/drive/MyDrive/Masterarbeit25/cdm_data/MathCONTA_v1/allenai/OLMo-2-1124-13B-Instruct/CDD/MathCONTA_test_accuracylog_overleaf2.json\n"
          ]
        }
      ]
    },
    {
      "cell_type": "markdown",
      "source": [
        "## RUN END2END"
      ],
      "metadata": {
        "id": "BWSDsuB-n06m"
      }
    },
    {
      "cell_type": "code",
      "source": [
        "#full\n",
        "data_name='MathCONTA_test'\n",
        "run_CDD(model_id=model_id, ds_conta=ds_conta, model=model, tokenizer=tokenizer,\n",
        "         force_reprocess=False, dir_token_path=dir_token_path, max_new_tokens=200,sample_size=50,\n",
        "         alpha=0.3, theta=0.31,data_name=data_name)"
      ],
      "metadata": {
        "colab": {
          "base_uri": "https://localhost:8080/"
        },
        "id": "ZcEaooPx-f4b",
        "outputId": "82ba16bc-6057-4462-83ea-9b4b3228a6fc"
      },
      "execution_count": null,
      "outputs": [
        {
          "output_type": "stream",
          "name": "stdout",
          "text": [
            "Loading existing cdd generation data from: /content/drive/MyDrive/Masterarbeit25/MathCONTA_cdd_generation_data/deepseek-ai/deepseek-math-7b-instruct/MathCONTA_test_sample50_max200_seed42.json\n"
          ]
        },
        {
          "output_type": "execute_result",
          "data": {
            "text/plain": [
              "{'accuracy': 0.45,\n",
              " 'precision': 0.4,\n",
              " 'recall': 0.2,\n",
              " 'f1_score': 0.26666666666666666}"
            ]
          },
          "metadata": {},
          "execution_count": 8
        }
      ]
    },
    {
      "cell_type": "markdown",
      "source": [
        "## Combined Evaluation across LLMs"
      ],
      "metadata": {
        "id": "w_9tv9B5klKk"
      }
    },
    {
      "cell_type": "code",
      "source": [
        "model_ids = [\"deepseek-ai/deepseek-math-7b-instruct\",\n",
        "             \"EleutherAI/llemma_7b\",\n",
        "             \"allenai/OLMo-7B-0724-Instruct-hf\",\n",
        "              \"allenai/OLMo-2-1124-13B-Instruct\"]\n",
        "model_id_combi = \"DS_LE_OL_OL2\""
      ],
      "metadata": {
        "id": "YBxDmbU7N4eD"
      },
      "execution_count": null,
      "outputs": []
    },
    {
      "cell_type": "markdown",
      "source": [
        "### Combined TRAIN SET CV\n",
        "Find best parameters - CV"
      ],
      "metadata": {
        "id": "OBeR8QQbNvp3"
      }
    },
    {
      "cell_type": "code",
      "source": [
        "data_name=\"MathCONTA_train\"\n",
        "\n",
        "MathCONTA_cdd_data_combined = []\n",
        "for model_id in model_ids:\n",
        "  MathCONTA_cdd_data=create_cdd_generation_data(model_id=model_id,\n",
        "                                                  ds_conta=ds_conta,\n",
        "                                                  model=model, tokenizer=tokenizer, data_name=data_name,\n",
        "                                                  force_reprocess=False,max_new_tokens=200,sample_size=50,\n",
        "                                                  base_path_token=dir_token_path,verbose=False)\n",
        "  MathCONTA_cdd_data_combined += MathCONTA_cdd_data\n",
        "\n",
        "len(MathCONTA_cdd_data_combined)"
      ],
      "metadata": {
        "outputId": "4cee9afa-d679-4d82-cd8b-885fc2e4fbed",
        "colab": {
          "base_uri": "https://localhost:8080/"
        },
        "id": "8gvUt_UYNvp4"
      },
      "execution_count": null,
      "outputs": [
        {
          "output_type": "stream",
          "name": "stdout",
          "text": [
            "Loading existing cdd generation data from: /content/drive/MyDrive/Masterarbeit25/MathCONTA_cdd_generation_data/deepseek-ai/deepseek-math-7b-instruct/MathCONTA_train_sample50_max200_seed42.json\n",
            "Loading existing cdd generation data from: /content/drive/MyDrive/Masterarbeit25/MathCONTA_cdd_generation_data/EleutherAI/llemma_7b/MathCONTA_train_sample50_max200_seed42.json\n",
            "Loading existing cdd generation data from: /content/drive/MyDrive/Masterarbeit25/MathCONTA_cdd_generation_data/allenai/OLMo-7B-0724-Instruct-hf/MathCONTA_train_sample50_max200_seed42.json\n",
            "Loading existing cdd generation data from: /content/drive/MyDrive/Masterarbeit25/MathCONTA_cdd_generation_data/allenai/OLMo-2-1124-13B-Instruct/MathCONTA_train_sample50_max200_seed42.json\n"
          ]
        },
        {
          "output_type": "execute_result",
          "data": {
            "text/plain": [
              "280"
            ]
          },
          "metadata": {},
          "execution_count": 9
        }
      ]
    },
    {
      "cell_type": "code",
      "source": [
        "#!Parameter 2D\n",
        "method_name=\"CDD\"\n",
        "cdd_generation_data=MathCONTA_cdd_data_combined\n",
        "feature_col=\"cdd_value\"\n",
        "label_col=\"LABEL_BINARY\"\n",
        "alpha_range=[round(float(alpha), 3) for alpha in np.arange(0,0.31,0.1)]\n",
        "cv_folds=5\n",
        "cv_seed=42\n",
        "log_path_base =DRIVE_PATH / \"cdm_data\" / \"MathCONTA_v1\"\n",
        "\n",
        "exp_id=\"overleaf2combi\"#+\"_\"+category\n",
        "model_id=model_id_combi"
      ],
      "metadata": {
        "id": "zQ6NyZ5PNvp4"
      },
      "execution_count": null,
      "outputs": []
    },
    {
      "cell_type": "code",
      "source": [
        "out_dict=tune_cdd(cdd_generation_data=cdd_generation_data,feature_col=feature_col,\n",
        "                          label_col=label_col,cv_folds=cv_folds,cv_seed=cv_seed,\n",
        "                          alpha_range=alpha_range, model_id=model_id,data_name=data_name,\n",
        "                          method_name=method_name,log_path_base=log_path_base,exp_id=exp_id)"
      ],
      "metadata": {
        "colab": {
          "base_uri": "https://localhost:8080/"
        },
        "outputId": "adc3c680-5318-4bb2-f772-9cddb364b7de",
        "id": "jYQ4a5dCNvp4"
      },
      "execution_count": null,
      "outputs": [
        {
          "output_type": "stream",
          "name": "stdout",
          "text": [
            "Testing alpha=0.0 | median_threshold=0.000000 | mean_cvacc_test=0.500000\n",
            "Testing alpha=0.1 | median_threshold=0.010000 | mean_cvacc_test=0.485714\n",
            "Testing alpha=0.2 | median_threshold=0.230000 | mean_cvacc_test=0.517857\n",
            "Testing alpha=0.3 | median_threshold=0.330000 | mean_cvacc_test=0.525000\n",
            "Best log entry:\n",
            "{'parameter': {'alpha': 0.3}, 'global_threshold': 0.33, 'median_threshold': 0.33, 'mean_cvacc_train': 0.528571, 'mean_cvacc_test': 0.525}\n",
            "Accuracy log saved in /content/drive/MyDrive/Masterarbeit25/cdm_data/MathCONTA_v1/DS_LE_OL_OL2/CDD/MathCONTA_train_accuracylog_overleaf2combi.json\n"
          ]
        }
      ]
    },
    {
      "cell_type": "markdown",
      "source": [
        "### Combined TEST SET EVALUATION"
      ],
      "metadata": {
        "id": "DbWTT6rfNvp4"
      }
    },
    {
      "cell_type": "code",
      "source": [
        "data_name=\"MathCONTA_test\"\n",
        "MathCONTA_cdd_data_combined = []\n",
        "for model_id in model_ids:\n",
        "  MathCONTA_cdd_data=create_cdd_generation_data(model_id=model_id,\n",
        "                                                  ds_conta=ds_conta,\n",
        "                                                  model=model, tokenizer=tokenizer, data_name=data_name,\n",
        "                                                  force_reprocess=False,max_new_tokens=200,sample_size=50,\n",
        "                                                  base_path_token=dir_token_path,verbose=False)\n",
        "  MathCONTA_cdd_data_combined += MathCONTA_cdd_data\n",
        "\n",
        "len(MathCONTA_cdd_data_combined)"
      ],
      "metadata": {
        "outputId": "63a89411-1cde-43a2-b32e-7e96ddce472e",
        "colab": {
          "base_uri": "https://localhost:8080/"
        },
        "id": "3d5_9JakNvp5"
      },
      "execution_count": null,
      "outputs": [
        {
          "output_type": "stream",
          "name": "stdout",
          "text": [
            "Loading existing cdd generation data from: /content/drive/MyDrive/Masterarbeit25/MathCONTA_cdd_generation_data/deepseek-ai/deepseek-math-7b-instruct/MathCONTA_test_sample50_max200_seed42.json\n",
            "Loading existing cdd generation data from: /content/drive/MyDrive/Masterarbeit25/MathCONTA_cdd_generation_data/EleutherAI/llemma_7b/MathCONTA_test_sample50_max200_seed42.json\n",
            "Loading existing cdd generation data from: /content/drive/MyDrive/Masterarbeit25/MathCONTA_cdd_generation_data/allenai/OLMo-7B-0724-Instruct-hf/MathCONTA_test_sample50_max200_seed42.json\n",
            "Loading existing cdd generation data from: /content/drive/MyDrive/Masterarbeit25/MathCONTA_cdd_generation_data/allenai/OLMo-2-1124-13B-Instruct/MathCONTA_test_sample50_max200_seed42.json\n"
          ]
        },
        {
          "output_type": "execute_result",
          "data": {
            "text/plain": [
              "120"
            ]
          },
          "metadata": {},
          "execution_count": 13
        }
      ]
    },
    {
      "cell_type": "code",
      "source": [
        "#!Parameter\n",
        "parameter1=0.3\n",
        "theta=0.33\n",
        "data_name=\"MathCONTA_test\"\n",
        "exp_id_test=exp_id\n",
        "model_id = model_id_combi\n",
        "\n",
        "cdd_df=get_cdd_df_from_generation_data(MathCONTA_cdd_data_combined, alpha=parameter1)\n",
        "len(cdd_df)"
      ],
      "metadata": {
        "outputId": "c5d925f1-574c-4a11-8cc8-03994754bf52",
        "colab": {
          "base_uri": "https://localhost:8080/"
        },
        "id": "Vp0hQE2kNvp5"
      },
      "execution_count": null,
      "outputs": [
        {
          "output_type": "execute_result",
          "data": {
            "text/plain": [
              "120"
            ]
          },
          "metadata": {},
          "execution_count": 15
        }
      ]
    },
    {
      "cell_type": "code",
      "source": [
        "test_dict=evaluate_method_standard(\n",
        "    cdd_df,\n",
        "    metric_col=feature_col,\n",
        "    theta=theta,\n",
        "    model_id=model_id,\n",
        "    data_name=data_name,\n",
        "    method_name=method_name,\n",
        "    parameter1=parameter1,\n",
        "    n_bootstrap=1000,\n",
        "    seed=42\n",
        ")\n",
        "test_dict"
      ],
      "metadata": {
        "outputId": "c185cecf-754f-42c1-a6dd-0263fc91f4a1",
        "colab": {
          "base_uri": "https://localhost:8080/"
        },
        "id": "VlXoDcMRNvp5"
      },
      "execution_count": null,
      "outputs": [
        {
          "output_type": "execute_result",
          "data": {
            "text/plain": [
              "{'model_id': 'DS_LE_OL_OL2',\n",
              " 'data_name': 'MathCONTA_test',\n",
              " 'datetime': '2025-04-12T18:34:41.239154',\n",
              " 'method_name': 'CDD',\n",
              " 'parameter': {'parameter1': 0.3, 'parameter2': None, 'theta': '0.33'},\n",
              " 'metrics': {'accuracy': 0.48333333333333334,\n",
              "  'accuracy_95CI': (0.39166666666666666, 0.5833333333333334),\n",
              "  'precision': 0.375,\n",
              "  'recall': 0.05,\n",
              "  'f1_score': 0.08823529411764706,\n",
              "  'confusion_matrix': [[55, 5], [57, 3]],\n",
              "  'mcnemar_b': 55,\n",
              "  'mcnemar_c': 57,\n",
              "  'mcnemar_p_value': 0.9247750936572267},\n",
              " 'n_bootstrap': 1000,\n",
              " 'seed': 42}"
            ]
          },
          "metadata": {},
          "execution_count": 17
        }
      ]
    },
    {
      "cell_type": "code",
      "source": [
        "save_accuracy_log(log_path_base=log_path_base,model_id=model_id,method_name=method_name,exp_id=exp_id_test, data_name=data_name,out_dict=test_dict)"
      ],
      "metadata": {
        "outputId": "f0cce144-ce68-4ef6-a370-37eb4e331842",
        "colab": {
          "base_uri": "https://localhost:8080/"
        },
        "id": "Nq5bEqRfNvp5"
      },
      "execution_count": null,
      "outputs": [
        {
          "output_type": "stream",
          "name": "stdout",
          "text": [
            "Accuracy log saved in /content/drive/MyDrive/Masterarbeit25/cdm_data/MathCONTA_v1/DS_LE_OL_OL2/CDD/MathCONTA_test_accuracylog_overleaf2combi.json\n"
          ]
        }
      ]
    }
  ]
}