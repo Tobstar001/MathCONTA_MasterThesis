{
  "nbformat": 4,
  "nbformat_minor": 0,
  "metadata": {
    "colab": {
      "provenance": [],
      "authorship_tag": "ABX9TyPc+GvKemH436vVqeoarxDi",
      "include_colab_link": true
    },
    "kernelspec": {
      "name": "python3",
      "display_name": "Python 3"
    },
    "language_info": {
      "name": "python"
    }
  },
  "cells": [
    {
      "cell_type": "markdown",
      "metadata": {
        "id": "view-in-github",
        "colab_type": "text"
      },
      "source": [
        "<a href=\"https://colab.research.google.com/github/friederrr/proof_contamination/blob/main/code/CDM_eval/CD_pipeline_CV_minK.ipynb\" target=\"_parent\"><img src=\"https://colab.research.google.com/assets/colab-badge.svg\" alt=\"Open In Colab\"/></a>"
      ]
    },
    {
      "cell_type": "markdown",
      "source": [
        "# CD PIPELINE (mit CV) minK"
      ],
      "metadata": {
        "id": "w6JW4XKqueEl"
      }
    },
    {
      "cell_type": "code",
      "source": [
        "%%capture\n",
        "!pip install datasets"
      ],
      "metadata": {
        "id": "40Cystb9HB6e"
      },
      "execution_count": null,
      "outputs": []
    },
    {
      "cell_type": "code",
      "execution_count": null,
      "metadata": {
        "id": "PA9MXN_ltYjj"
      },
      "outputs": [],
      "source": [
        "import random\n",
        "import numpy as np\n",
        "import pandas as pd\n",
        "import copy\n",
        "import matplotlib.pyplot as plt\n",
        "from scipy.optimize import curve_fit\n",
        "import torch\n",
        "import json\n",
        "from datetime import datetime\n",
        "import itertools\n",
        "from itertools import cycle\n",
        "import re\n",
        "from transformers import AutoModelForCausalLM, AutoTokenizer\n",
        "from datasets import load_dataset\n",
        "from pathlib import Path\n",
        "import statistics\n",
        "from sklearn.model_selection import StratifiedKFold"
      ]
    },
    {
      "cell_type": "code",
      "source": [
        "#mount google drive\n",
        "from google.colab import drive\n",
        "drive.mount('/content/drive')"
      ],
      "metadata": {
        "colab": {
          "base_uri": "https://localhost:8080/"
        },
        "id": "C305WhL1t-ND",
        "outputId": "9e0749d7-f029-4e49-c013-50c89dee6099"
      },
      "execution_count": null,
      "outputs": [
        {
          "output_type": "stream",
          "name": "stdout",
          "text": [
            "Mounted at /content/drive\n"
          ]
        }
      ]
    },
    {
      "cell_type": "code",
      "source": [
        "from CDMs_functions_v1 import *"
      ],
      "metadata": {
        "id": "QqKl5Cugcfz4"
      },
      "execution_count": null,
      "outputs": []
    },
    {
      "cell_type": "markdown",
      "source": [
        "## Model Selektion for minK\n",
        "\n",
        "**OLMO**:\n",
        "\n",
        "- \"allenai/OLMo-7B-0724-hf\": Downlaod (F32): (27 GB), GPU-RAM (bfloat16): 14 GB (T4 sufficient)\n",
        "\n",
        "- \"allenai/OLMo-7B-0724-SFT-hf\": Download (BF16) (14 GB), GPU-RAM (14 GB)\n",
        "\n",
        "- \"allenai/OLMo-7B-0724-Instruct-hf\": Download (BF16) (14 GB), GPU-RAM (14 GB)\n",
        "\n",
        "- \"allenai/OLMo-2-1124-13B-Instruct\": Download (BF16) (28 GB), GPU-RAM (27 GB) -> works fine with A100!\n",
        "\n",
        "- \"allenai/OLMo-2-0325-32B-Instruct\": Download (BF16) (65 GB), GPU-RAM (34 GB). It needs about 15min to answer one question with A100 (meta-device offloading). However, besides from that, the pipeline was compatible. Though, it is not recommended to use it with A100.\n",
        "\n",
        "**DEEPSEEK**:\n",
        "- \"deepseek-ai/deepseek-math-7b-instruct\":\n",
        "\n",
        "**LEMMA**:\n",
        "- \"EleutherAI/llemma_7b\""
      ],
      "metadata": {
        "id": "UumRYLoGomJ6"
      }
    },
    {
      "cell_type": "code",
      "source": [
        "#!Parameter\n",
        "model_id = \"allenai/OLMo-2-1124-13B-Instruct\"\n",
        "method_name= \"minK\"\n",
        "DRIVE_PATH=Path('/content/drive/MyDrive/Masterarbeit25/')"
      ],
      "metadata": {
        "id": "nMuaVQOquI_E"
      },
      "execution_count": null,
      "outputs": []
    },
    {
      "cell_type": "code",
      "source": [
        "dir_token_path=DRIVE_PATH / \"MathCONTA_tokens\"\n",
        "_=list_files_in_directory(dir_token_path, model_id)"
      ],
      "metadata": {
        "colab": {
          "base_uri": "https://localhost:8080/"
        },
        "id": "jJWEE7f1o_V5",
        "outputId": "f47678f7-3f90-42e8-9035-f23a69014e72"
      },
      "execution_count": null,
      "outputs": [
        {
          "output_type": "stream",
          "name": "stdout",
          "text": [
            "/content/drive/MyDrive/Masterarbeit25/MathCONTA_tokens/allenai/OLMo-2-1124-13B-Instruct is not a valid directory.\n"
          ]
        }
      ]
    },
    {
      "cell_type": "code",
      "source": [
        "#if file exists you don't have to load the models\n",
        "load_models=False\n",
        "if load_models:\n",
        "  model = AutoModelForCausalLM.from_pretrained(model_id, torch_dtype=torch.bfloat16, device_map='auto')\n",
        "  tokenizer = AutoTokenizer.from_pretrained(model_id)\n",
        "else:\n",
        "  model = None\n",
        "  tokenizer = None\n",
        "  ds_conta=None"
      ],
      "metadata": {
        "id": "VYZtyL4AyeYN"
      },
      "execution_count": null,
      "outputs": []
    },
    {
      "cell_type": "markdown",
      "source": [
        "## DATA Processing/Loading MathCONTA"
      ],
      "metadata": {
        "id": "NhWCX-W2Digm"
      }
    },
    {
      "cell_type": "code",
      "source": [
        "#!Parameter\n",
        "repo_id = \"Tobstar001/MathCONTA\"\n",
        "split = \"test\"\n",
        "config_name=\"core\"\n",
        "\n",
        "ds_conta = load_dataset(path=repo_id,name=config_name,split=split)"
      ],
      "metadata": {
        "id": "1DV-oXsPmJCE"
      },
      "execution_count": null,
      "outputs": []
    },
    {
      "cell_type": "code",
      "source": [
        "data_name=\"MathCONTA\"\n",
        "MathCONTA_token_data=create_mathconta_token_data(model_id=model_id,\n",
        "                                                 ds_conta=ds_conta,\n",
        "                                                 model=model, tokenizer=tokenizer, data_name=data_name,\n",
        "                                                 only_problem=False, force_reprocess=False,\n",
        "                                                 base_path_token=dir_token_path)"
      ],
      "metadata": {
        "colab": {
          "base_uri": "https://localhost:8080/"
        },
        "id": "T0_q9KTvlrN0",
        "outputId": "a98cf46e-9fee-466e-893d-cb967f2fcb3c"
      },
      "execution_count": null,
      "outputs": [
        {
          "output_type": "stream",
          "name": "stdout",
          "text": [
            "Processing token data from scratch...\n",
            "Processed token data saved to: /content/drive/MyDrive/Masterarbeit25/MathCONTA_tokens/allenai/OLMo-2-1124-13B-Instruct/MathCONTA_token_data.json\n"
          ]
        }
      ]
    },
    {
      "cell_type": "markdown",
      "source": [
        "## Train Test Split (Only relevant once)\n",
        "Subsequent Stratified Train test split for google drive\n",
        "For new data please filter train/test before generating the data"
      ],
      "metadata": {
        "id": "7XjqrOBD33Tw"
      }
    },
    {
      "cell_type": "code",
      "source": [
        "train, test = stratified_dict_split(MathCONTA_token_data, test_ratio=0.3, seed=42)"
      ],
      "metadata": {
        "id": "4xjzCi7g4OL_",
        "outputId": "4f0dc7e1-5c4b-43df-8bc2-ed6082527c8c",
        "colab": {
          "base_uri": "https://localhost:8080/"
        }
      },
      "execution_count": null,
      "outputs": [
        {
          "output_type": "stream",
          "name": "stdout",
          "text": [
            "Train size: 70, Test size: 30\n",
            "{'owm-word-9', 'owm-amc8-17', 'owm-word-2', 'owm-word-10', 'clean-forum-9', 'owm-forum-10', 'clean-amc8-14', 'clean-forum-6', 'owm-forum-5', 'owm-aime-3', 'owm-amc8-15', 'clean-amc8-1', 'owm-word-5', 'clean-aime-3', 'clean-amc8-18', 'clean-word-7', 'clean-aime-7', 'owm-forum-3', 'clean-amc8-10', 'clean-amc8-3', 'owm-aime-7', 'clean-aime-4', 'owm-amc8-10', 'clean-word-9', 'clean-forum-7', 'owm-amc8-9', 'owm-aime-4', 'clean-word-10', 'clean-word-12', 'owm-amc8-12'}\n"
          ]
        }
      ]
    },
    {
      "cell_type": "code",
      "source": [
        "\n",
        "file_path_train=dir_token_path / model_id / \"MathCONTA_train_token_data.json\"\n",
        "with open(file_path_train, 'w') as f:\n",
        "      json.dump(train, f)\n",
        "\n",
        "file_path_test=dir_token_path / model_id / \"MathCONTA_test_token_data.json\"\n",
        "with open(file_path_test, 'w') as f:\n",
        "      json.dump(test, f)"
      ],
      "metadata": {
        "id": "WKcpbFZX62Aq"
      },
      "execution_count": null,
      "outputs": []
    },
    {
      "cell_type": "markdown",
      "source": [
        "## TRAIN SET CV\n",
        "Find best parameters - CV"
      ],
      "metadata": {
        "id": "QeVgSM7jDpoz"
      }
    },
    {
      "cell_type": "code",
      "source": [
        "#category='AMC8'\n",
        "#MathCONTA_token_f = [entry for entry in MathCONTA_token_data if entry.get('CATEGORY') == category]\n",
        "#len(MathCONTA_token_f)"
      ],
      "metadata": {
        "id": "0gfl3ziH3WUX",
        "outputId": "b4a39db5-7ef8-4b09-c53a-42980cc5193c",
        "colab": {
          "base_uri": "https://localhost:8080/"
        }
      },
      "execution_count": null,
      "outputs": [
        {
          "output_type": "execute_result",
          "data": {
            "text/plain": [
              "36"
            ]
          },
          "metadata": {},
          "execution_count": 24
        }
      ]
    },
    {
      "cell_type": "code",
      "source": [
        "data_name=\"MathCONTA_train\"\n",
        "MathCONTA_token_data=create_mathconta_token_data(model_id=model_id,\n",
        "                                                 ds_conta=ds_conta,\n",
        "                                                 model=model, tokenizer=tokenizer,data_name=data_name,\n",
        "                                                 only_problem=False, force_reprocess=False,\n",
        "                                                 base_path_token=dir_token_path)"
      ],
      "metadata": {
        "id": "9bSoDKNBsEVX",
        "outputId": "d49f512b-38aa-4c6e-b4d6-0bdf7f4dd56b",
        "colab": {
          "base_uri": "https://localhost:8080/"
        }
      },
      "execution_count": null,
      "outputs": [
        {
          "output_type": "stream",
          "name": "stdout",
          "text": [
            "Loading existing token data from: /content/drive/MyDrive/Masterarbeit25/MathCONTA_tokens/allenai/OLMo-2-1124-13B-Instruct/MathCONTA_train_token_data.json\n"
          ]
        }
      ]
    },
    {
      "cell_type": "code",
      "source": [
        "#!Parameter\n",
        "token_data=MathCONTA_token_data\n",
        "data_name=\"MathCONTA_train\"\n",
        "feature_col=\"minK_value\"\n",
        "label_col=\"LABEL_BINARY\"\n",
        "k_range=[5,10,20,30]\n",
        "cv_folds=5\n",
        "cv_seed=42\n",
        "log_path_base =DRIVE_PATH / \"cdm_data\" / \"MathCONTA_v1\"\n",
        "exp_id=\"overleaf2\""
      ],
      "metadata": {
        "id": "epe_ye-FNptF"
      },
      "execution_count": null,
      "outputs": []
    },
    {
      "cell_type": "code",
      "source": [
        "out_dict=tune_minK(token_data,feature_col,label_col,k_range,cv_folds,\n",
        "                   model_id,data_name,cv_seed,method_name,\n",
        "                   log_path_base, exp_id)"
      ],
      "metadata": {
        "colab": {
          "base_uri": "https://localhost:8080/"
        },
        "id": "RcIIQfKXuTBZ",
        "outputId": "9904db8f-7d8f-474e-f0ae-f970f90c4bdd"
      },
      "execution_count": null,
      "outputs": [
        {
          "output_type": "stream",
          "name": "stdout",
          "text": [
            "Testing k=5 | median_threshold=0.000163 | mean_cvacc_test=0.685714\n",
            "Testing k=10 | median_threshold=0.000708 | mean_cvacc_test=0.542857\n",
            "Testing k=20 | median_threshold=0.004856 | mean_cvacc_test=0.528571\n",
            "Testing k=30 | median_threshold=0.017989 | mean_cvacc_test=0.557143\n",
            "Best log entry:\n",
            "{'parameter': {'k': 5}, 'global_threshold': 0.000163, 'median_threshold': 0.000163, 'mean_cvacc_train': 0.685714, 'mean_cvacc_test': 0.685714}\n",
            "Accuracy log saved in /content/drive/MyDrive/Masterarbeit25/cdm_data/MathCONTA_v1/allenai/OLMo-2-1124-13B-Instruct/minK/MathCONTA_train_accuracylog_overleaf2.json\n"
          ]
        }
      ]
    },
    {
      "cell_type": "markdown",
      "source": [
        "## TEST SET EVALUATION"
      ],
      "metadata": {
        "id": "QekBKrIVuxcE"
      }
    },
    {
      "cell_type": "code",
      "source": [
        "data_name=\"MathCONTA_test\"\n",
        "MathCONTA_token_data=create_mathconta_token_data(model_id=model_id,\n",
        "                                                 ds_conta=ds_conta,\n",
        "                                                 model=model, tokenizer=tokenizer,data_name=data_name,\n",
        "                                                 only_problem=False, force_reprocess=False,\n",
        "                                                 base_path_token=dir_token_path)"
      ],
      "metadata": {
        "id": "smdIH12Yu0N_",
        "outputId": "54ae6552-ff47-4cec-a58c-f4f665eae407",
        "colab": {
          "base_uri": "https://localhost:8080/"
        }
      },
      "execution_count": null,
      "outputs": [
        {
          "output_type": "stream",
          "name": "stdout",
          "text": [
            "Loading existing token data from: /content/drive/MyDrive/Masterarbeit25/MathCONTA_tokens/allenai/OLMo-2-1124-13B-Instruct/MathCONTA_test_token_data.json\n"
          ]
        }
      ]
    },
    {
      "cell_type": "code",
      "source": [
        "#!parameter\n",
        "parameter1=5\n",
        "theta=0.000163\n",
        "data_name=\"MathCONTA_test\"\n",
        "exp_id_test=exp_id\n",
        "method_name=method_name\n",
        "metric_col=feature_col\n",
        "log_path_base=log_path_base\n",
        "\n",
        "minK_df = get_minK_df_from_tokendata(MathCONTA_token_data,k=parameter1)\n",
        "len(minK_df)"
      ],
      "metadata": {
        "id": "_BHhK4llvDIp",
        "outputId": "9e5b0ddf-4b6e-4fec-deb9-bbf737428382",
        "colab": {
          "base_uri": "https://localhost:8080/"
        }
      },
      "execution_count": null,
      "outputs": [
        {
          "output_type": "execute_result",
          "data": {
            "text/plain": [
              "30"
            ]
          },
          "metadata": {},
          "execution_count": 16
        }
      ]
    },
    {
      "cell_type": "code",
      "source": [
        "test_dict=evaluate_method_standard(\n",
        "    minK_df,\n",
        "    metric_col=feature_col,\n",
        "    theta=theta,\n",
        "    model_id=model_id,\n",
        "    data_name=data_name,\n",
        "    method_name=method_name,\n",
        "    parameter1=parameter1,\n",
        "    n_bootstrap=1000,\n",
        "    seed=42\n",
        ")\n",
        "test_dict"
      ],
      "metadata": {
        "id": "4CAOK-wVvWXb",
        "outputId": "ab51a355-17db-4c24-e2b3-9d73903e0e95",
        "colab": {
          "base_uri": "https://localhost:8080/"
        }
      },
      "execution_count": null,
      "outputs": [
        {
          "output_type": "execute_result",
          "data": {
            "text/plain": [
              "{'model_id': 'allenai/OLMo-2-1124-13B-Instruct',\n",
              " 'data_name': 'MathCONTA_test',\n",
              " 'datetime': '2025-04-11T12:08:06.599004',\n",
              " 'method_name': 'minK',\n",
              " 'parameter': {'parameter1': 5, 'parameter2': None, 'theta': '0.000163'},\n",
              " 'metrics': {'accuracy': 0.5333333333333333,\n",
              "  'accuracy_95CI': (0.36666666666666664, 0.7333333333333333),\n",
              "  'precision': 0.5384615384615384,\n",
              "  'recall': 0.4666666666666667,\n",
              "  'f1_score': 0.5,\n",
              "  'confusion_matrix': [[9, 6], [8, 7]],\n",
              "  'mcnemar_b': 9,\n",
              "  'mcnemar_c': 8,\n",
              "  'mcnemar_p_value': 1.0},\n",
              " 'n_bootstrap': 1000,\n",
              " 'seed': 42}"
            ]
          },
          "metadata": {},
          "execution_count": 17
        }
      ]
    },
    {
      "cell_type": "code",
      "source": [
        "save_accuracy_log(log_path_base=log_path_base,model_id=model_id,method_name=method_name,exp_id=exp_id_test, data_name=data_name,out_dict=test_dict)"
      ],
      "metadata": {
        "id": "BuLATjCVvd4p",
        "outputId": "e051db7b-9ec4-4011-b4cb-70bc58a735b3",
        "colab": {
          "base_uri": "https://localhost:8080/"
        }
      },
      "execution_count": null,
      "outputs": [
        {
          "output_type": "stream",
          "name": "stdout",
          "text": [
            "Accuracy log saved in /content/drive/MyDrive/Masterarbeit25/cdm_data/MathCONTA_v1/allenai/OLMo-2-1124-13B-Instruct/minK/MathCONTA_test_accuracylog_overleaf2.json\n"
          ]
        }
      ]
    },
    {
      "cell_type": "markdown",
      "source": [
        "## RUN END2END"
      ],
      "metadata": {
        "id": "BWSDsuB-n06m"
      }
    },
    {
      "cell_type": "code",
      "source": [
        "run_minK(model_id=model_id, ds_conta=ds_conta, model=model, tokenizer=tokenizer,\n",
        "         only_problem=False, force_reprocess=False, dir_token_path=dir_token_path,\n",
        "         k=5, theta=0.0002)\n",
        "\n"
      ],
      "metadata": {
        "colab": {
          "base_uri": "https://localhost:8080/"
        },
        "id": "rYXgw_65n7ZJ",
        "outputId": "578f42a7-defb-4d77-a7fb-0c114c166c03"
      },
      "execution_count": null,
      "outputs": [
        {
          "output_type": "stream",
          "name": "stdout",
          "text": [
            "Loading existing token data from: /content/drive/MyDrive/Masterarbeit25/MathCONTA_tokens/deepseek-ai/deepseek-math-7b-instruct/MathCONTA_token_data.json\n"
          ]
        },
        {
          "output_type": "execute_result",
          "data": {
            "text/plain": [
              "{'accuracy': 0.63,\n",
              " 'precision': 0.6226415094339622,\n",
              " 'recall': 0.66,\n",
              " 'f1_score': 0.6407766990291263}"
            ]
          },
          "metadata": {},
          "execution_count": 14
        }
      ]
    },
    {
      "cell_type": "markdown",
      "source": [
        "## Combined Evaluation across LLMs\n",
        "\n",
        "!!Prerequisit: Train/Test splits already stored in DRIVE for the relevant models"
      ],
      "metadata": {
        "id": "w_9tv9B5klKk"
      }
    },
    {
      "cell_type": "code",
      "source": [
        "model_ids = [\"deepseek-ai/deepseek-math-7b-instruct\",\n",
        "             \"EleutherAI/llemma_7b\",\n",
        "             \"allenai/OLMo-7B-0724-Instruct-hf\",\n",
        "              \"allenai/OLMo-2-1124-13B-Instruct\"]\n",
        "model_id_combi = \"DS_LE_OL_OL2\""
      ],
      "metadata": {
        "id": "0aepzlbW4oN4"
      },
      "execution_count": null,
      "outputs": []
    },
    {
      "cell_type": "markdown",
      "source": [
        "### Combi CV TRAIN"
      ],
      "metadata": {
        "id": "Qnc5UEMm6_S1"
      }
    },
    {
      "cell_type": "code",
      "source": [
        "method_name=\"minK\"\n",
        "data_name=\"MathCONTA_train\"\n",
        "feature_col=\"minK_value\"\n",
        "label_col=\"LABEL_BINARY\"\n",
        "\n",
        "\n",
        "MathCONTA_token_data_combined = []\n",
        "for model_id in model_ids:\n",
        "  MathCONTA_token_data=create_mathconta_token_data(model_id=model_id,\n",
        "                                                 ds_conta=ds_conta,\n",
        "                                                 model=model, tokenizer=tokenizer,data_name=data_name,\n",
        "                                                 only_problem=False, force_reprocess=False,\n",
        "                                                 base_path_token=dir_token_path)\n",
        "  MathCONTA_token_data_combined += MathCONTA_token_data\n",
        "\n",
        "len(MathCONTA_token_data_combined)"
      ],
      "metadata": {
        "colab": {
          "base_uri": "https://localhost:8080/"
        },
        "id": "KJ79yARLz5Su",
        "outputId": "583c2fd2-e991-412f-d4ef-863e89c23d21"
      },
      "execution_count": null,
      "outputs": [
        {
          "output_type": "stream",
          "name": "stdout",
          "text": [
            "Loading existing token data from: /content/drive/MyDrive/Masterarbeit25/MathCONTA_tokens/deepseek-ai/deepseek-math-7b-instruct/MathCONTA_train_token_data.json\n",
            "Loading existing token data from: /content/drive/MyDrive/Masterarbeit25/MathCONTA_tokens/EleutherAI/llemma_7b/MathCONTA_train_token_data.json\n",
            "Loading existing token data from: /content/drive/MyDrive/Masterarbeit25/MathCONTA_tokens/allenai/OLMo-7B-0724-Instruct-hf/MathCONTA_train_token_data.json\n",
            "Loading existing token data from: /content/drive/MyDrive/Masterarbeit25/MathCONTA_tokens/allenai/OLMo-2-1124-13B-Instruct/MathCONTA_train_token_data.json\n"
          ]
        },
        {
          "output_type": "execute_result",
          "data": {
            "text/plain": [
              "280"
            ]
          },
          "metadata": {},
          "execution_count": 27
        }
      ]
    },
    {
      "cell_type": "code",
      "source": [
        "\n",
        "#!Parameter\n",
        "token_data=MathCONTA_token_data_combined\n",
        "data_name=\"MathCONTA_train\"\n",
        "feature_col=\"minK_value\"\n",
        "label_col=\"LABEL_BINARY\"\n",
        "k_range=[5,10,20,30]\n",
        "cv_folds=5\n",
        "cv_seed=42\n",
        "log_path_base =DRIVE_PATH / \"cdm_data\" / \"MathCONTA_v1\"\n",
        "exp_id=\"overleaf2combi\""
      ],
      "metadata": {
        "id": "BHgLkibK6CNP"
      },
      "execution_count": null,
      "outputs": []
    },
    {
      "cell_type": "code",
      "source": [
        "out_dict=tune_minK(token_data,feature_col,label_col,k_range,cv_folds,\n",
        "                   model_id_combi,data_name,cv_seed,method_name,\n",
        "                   log_path_base, exp_id)"
      ],
      "metadata": {
        "colab": {
          "base_uri": "https://localhost:8080/"
        },
        "id": "9Aj2PWUF6PoZ",
        "outputId": "1fed8377-f0fa-4b36-b215-a73255de5278"
      },
      "execution_count": null,
      "outputs": [
        {
          "output_type": "stream",
          "name": "stdout",
          "text": [
            "Testing k=5 | median_threshold=0.000165 | mean_cvacc_test=0.550000\n",
            "Testing k=10 | median_threshold=0.002847 | mean_cvacc_test=0.535714\n",
            "Testing k=20 | median_threshold=0.017388 | mean_cvacc_test=0.550000\n",
            "Testing k=30 | median_threshold=0.069660 | mean_cvacc_test=0.546429\n",
            "Best log entry:\n",
            "{'parameter': {'k': 5}, 'global_threshold': 0.000164, 'median_threshold': 0.000165, 'mean_cvacc_train': 0.583929, 'mean_cvacc_test': 0.55}\n",
            "Accuracy log saved in /content/drive/MyDrive/Masterarbeit25/cdm_data/MathCONTA_v1/DS_LE_OL_OL2/minK/MathCONTA_train_accuracylog_overleaf2combi.json\n"
          ]
        }
      ]
    },
    {
      "cell_type": "markdown",
      "source": [
        "### Combi TEST"
      ],
      "metadata": {
        "id": "ngHvxaTa7CFu"
      }
    },
    {
      "cell_type": "code",
      "source": [
        "data_name=\"MathCONTA_test\"\n",
        "MathCONTA_token_data_combined = []\n",
        "\n",
        "for model_id in model_ids:\n",
        "    MathCONTA_token_data=create_mathconta_token_data(model_id=model_id,\n",
        "                                                  ds_conta=ds_conta,\n",
        "                                                  model=model, tokenizer=tokenizer,data_name=data_name,\n",
        "                                                  only_problem=False, force_reprocess=False,\n",
        "                                                  base_path_token=dir_token_path)\n",
        "    MathCONTA_token_data_combined += MathCONTA_token_data\n",
        "\n",
        "len(MathCONTA_token_data_combined)"
      ],
      "metadata": {
        "colab": {
          "base_uri": "https://localhost:8080/"
        },
        "id": "VlLDz2nr7LLu",
        "outputId": "cf0f97d3-5335-421f-cbdd-b829f310c2c5"
      },
      "execution_count": null,
      "outputs": [
        {
          "output_type": "stream",
          "name": "stdout",
          "text": [
            "Loading existing token data from: /content/drive/MyDrive/Masterarbeit25/MathCONTA_tokens/deepseek-ai/deepseek-math-7b-instruct/MathCONTA_test_token_data.json\n",
            "Loading existing token data from: /content/drive/MyDrive/Masterarbeit25/MathCONTA_tokens/EleutherAI/llemma_7b/MathCONTA_test_token_data.json\n",
            "Loading existing token data from: /content/drive/MyDrive/Masterarbeit25/MathCONTA_tokens/allenai/OLMo-7B-0724-Instruct-hf/MathCONTA_test_token_data.json\n",
            "Loading existing token data from: /content/drive/MyDrive/Masterarbeit25/MathCONTA_tokens/allenai/OLMo-2-1124-13B-Instruct/MathCONTA_test_token_data.json\n"
          ]
        },
        {
          "output_type": "execute_result",
          "data": {
            "text/plain": [
              "120"
            ]
          },
          "metadata": {},
          "execution_count": 41
        }
      ]
    },
    {
      "cell_type": "code",
      "source": [
        "#!parameter\n",
        "parameter1=5\n",
        "theta=0.000164\n",
        "data_name=\"MathCONTA_test\"\n",
        "\n",
        "exp_id_test=exp_id\n",
        "method_name=method_name\n",
        "metric_col=feature_col\n",
        "log_path_base=log_path_base\n",
        "\n",
        "minK_df = get_minK_df_from_tokendata(MathCONTA_token_data_combined,k=parameter1)\n",
        "len(minK_df)"
      ],
      "metadata": {
        "colab": {
          "base_uri": "https://localhost:8080/"
        },
        "id": "2ak5dtxD7Y3c",
        "outputId": "d60d4a8e-f664-4f0f-c900-ee5c3f94d02c"
      },
      "execution_count": null,
      "outputs": [
        {
          "output_type": "execute_result",
          "data": {
            "text/plain": [
              "120"
            ]
          },
          "metadata": {},
          "execution_count": 42
        }
      ]
    },
    {
      "cell_type": "code",
      "source": [
        "test_dict=evaluate_method_standard(\n",
        "    minK_df,\n",
        "    metric_col=feature_col,\n",
        "    theta=theta,\n",
        "    model_id=model_id_combi,\n",
        "    data_name=data_name,\n",
        "    method_name=method_name,\n",
        "    parameter1=parameter1,\n",
        "    n_bootstrap=1000,\n",
        "    seed=42\n",
        ")\n",
        "test_dict"
      ],
      "metadata": {
        "colab": {
          "base_uri": "https://localhost:8080/"
        },
        "id": "kcxetw8L72s4",
        "outputId": "410ae06d-db3f-4946-8cc7-f138f5f73088"
      },
      "execution_count": null,
      "outputs": [
        {
          "output_type": "execute_result",
          "data": {
            "text/plain": [
              "{'model_id': 'DS_LE_OL_OL2',\n",
              " 'data_name': 'MathCONTA_test',\n",
              " 'datetime': '2025-04-12T17:24:12.689370',\n",
              " 'method_name': 'minK',\n",
              " 'parameter': {'parameter1': 5, 'parameter2': None, 'theta': '0.000164'},\n",
              " 'metrics': {'accuracy': 0.5583333333333333,\n",
              "  'accuracy_95CI': (0.475, 0.6418749999999999),\n",
              "  'precision': 0.5432098765432098,\n",
              "  'recall': 0.7333333333333333,\n",
              "  'f1_score': 0.624113475177305,\n",
              "  'confusion_matrix': [[23, 37], [16, 44]],\n",
              "  'mcnemar_b': 23,\n",
              "  'mcnemar_c': 16,\n",
              "  'mcnemar_p_value': 0.3367836351899315},\n",
              " 'n_bootstrap': 1000,\n",
              " 'seed': 42}"
            ]
          },
          "metadata": {},
          "execution_count": 43
        }
      ]
    },
    {
      "cell_type": "code",
      "source": [
        "save_accuracy_log(log_path_base=log_path_base,model_id=model_id_combi,method_name=method_name,exp_id=exp_id_test, data_name=data_name,out_dict=test_dict)"
      ],
      "metadata": {
        "colab": {
          "base_uri": "https://localhost:8080/"
        },
        "id": "bqDsIj4K8DH1",
        "outputId": "5b674812-bb1d-4e59-fbb0-ce7c9ad77fe3"
      },
      "execution_count": null,
      "outputs": [
        {
          "output_type": "stream",
          "name": "stdout",
          "text": [
            "Accuracy log saved in /content/drive/MyDrive/Masterarbeit25/cdm_data/MathCONTA_v1/DS_LE_OL_OL2/minK/MathCONTA_test_accuracylog_overleaf2combi.json\n"
          ]
        }
      ]
    }
  ]
}