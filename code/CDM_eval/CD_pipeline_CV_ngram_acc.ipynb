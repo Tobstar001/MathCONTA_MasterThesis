{
  "nbformat": 4,
  "nbformat_minor": 0,
  "metadata": {
    "colab": {
      "provenance": [],
      "collapsed_sections": [
        "BWSDsuB-n06m"
      ],
      "authorship_tag": "ABX9TyN/zxQChuMj/tOia6u2SzyT",
      "include_colab_link": true
    },
    "kernelspec": {
      "name": "python3",
      "display_name": "Python 3"
    },
    "language_info": {
      "name": "python"
    }
  },
  "cells": [
    {
      "cell_type": "markdown",
      "metadata": {
        "id": "view-in-github",
        "colab_type": "text"
      },
      "source": [
        "<a href=\"https://colab.research.google.com/github/friederrr/proof_contamination/blob/main/code/CDM_eval/CD_pipeline_CV_ngram_acc.ipynb\" target=\"_parent\"><img src=\"https://colab.research.google.com/assets/colab-badge.svg\" alt=\"Open In Colab\"/></a>"
      ]
    },
    {
      "cell_type": "markdown",
      "source": [
        "# CD PIPELINE (mit CV) n-gram accuracy"
      ],
      "metadata": {
        "id": "w6JW4XKqueEl"
      }
    },
    {
      "cell_type": "code",
      "source": [
        "%%capture\n",
        "!pip install datasets"
      ],
      "metadata": {
        "id": "40Cystb9HB6e"
      },
      "execution_count": null,
      "outputs": []
    },
    {
      "cell_type": "code",
      "source": [
        "#mount google drive\n",
        "from google.colab import drive\n",
        "drive.mount('/content/drive')"
      ],
      "metadata": {
        "colab": {
          "base_uri": "https://localhost:8080/"
        },
        "id": "C305WhL1t-ND",
        "outputId": "400bcb3a-d997-40fb-e77b-d71870c01784"
      },
      "execution_count": null,
      "outputs": [
        {
          "output_type": "stream",
          "name": "stdout",
          "text": [
            "Mounted at /content/drive\n"
          ]
        }
      ]
    },
    {
      "cell_type": "code",
      "execution_count": null,
      "metadata": {
        "id": "PA9MXN_ltYjj"
      },
      "outputs": [],
      "source": [
        "import random\n",
        "import numpy as np\n",
        "import pandas as pd\n",
        "import copy\n",
        "import matplotlib.pyplot as plt\n",
        "from scipy.optimize import curve_fit\n",
        "import torch\n",
        "import json\n",
        "from datetime import datetime\n",
        "import itertools\n",
        "from itertools import cycle, product\n",
        "import re\n",
        "from transformers import AutoModelForCausalLM, AutoTokenizer\n",
        "from datasets import load_dataset\n",
        "from pathlib import Path\n",
        "import statistics\n",
        "from sklearn.model_selection import StratifiedKFold"
      ]
    },
    {
      "cell_type": "code",
      "source": [
        "from CDMs_functions_v1 import *"
      ],
      "metadata": {
        "id": "QqKl5Cugcfz4"
      },
      "execution_count": null,
      "outputs": []
    },
    {
      "cell_type": "markdown",
      "source": [
        "## Model Selektion\n",
        "\n",
        "**OLMO**:\n",
        "\n",
        "- \"allenai/OLMo-7B-0724-hf\": Downlaod (F32): (27 GB), GPU-RAM (bfloat16): 14 GB (T4 sufficient)\n",
        "\n",
        "- \"allenai/OLMo-7B-0724-SFT-hf\": Download (BF16) (14 GB), GPU-RAM (14 GB)\n",
        "\n",
        "- \"allenai/OLMo-7B-0724-Instruct-hf\": Download (BF16) (14 GB), GPU-RAM (14 GB)\n",
        "\n",
        "- \"allenai/OLMo-2-1124-13B-Instruct\": Download (BF16) (28 GB), GPU-RAM (27 GB) -> works fine with A100!\n",
        "\n",
        "- \"allenai/OLMo-2-0325-32B-Instruct\": Download (BF16) (65 GB), GPU-RAM (34 GB). It needs about 15min to answer one question with A100 (meta-device offloading). However, besides from that, the pipeline was compatible. Though, it is not recommended to use it with A100.\n",
        "\n",
        "**DEEPSEEK**:\n",
        "- \"deepseek-ai/deepseek-math-7b-instruct\":\n",
        "\n",
        "**LEMMA**:\n",
        "- \"EleutherAI/llemma_7b\""
      ],
      "metadata": {
        "id": "UumRYLoGomJ6"
      }
    },
    {
      "cell_type": "code",
      "source": [
        "#!Parameter\n",
        "model_id = \"allenai/OLMo-2-1124-13B-Instruct\"\n",
        "DRIVE_PATH=Path('/content/drive/MyDrive/Masterarbeit25/')"
      ],
      "metadata": {
        "id": "nMuaVQOquI_E"
      },
      "execution_count": null,
      "outputs": []
    },
    {
      "cell_type": "code",
      "source": [
        "dir_token_path=DRIVE_PATH / \"MathCONTA_ngram_generation_data\"\n",
        "file_paths=list_files_in_directory(dir_token_path, model_id)"
      ],
      "metadata": {
        "colab": {
          "base_uri": "https://localhost:8080/"
        },
        "id": "jJWEE7f1o_V5",
        "outputId": "87ed732e-1cf7-400c-d631-53409f634a3c"
      },
      "execution_count": null,
      "outputs": [
        {
          "output_type": "stream",
          "name": "stdout",
          "text": [
            "Files in /content/drive/MyDrive/Masterarbeit25/MathCONTA_ngram_generation_data/allenai/OLMo-2-1124-13B-Instruct:\n",
            "\n",
            "OLMo-2-1124-13B-Instruct/Forum_full_temp0_nstarts20_n1_2_3_5_7_seed42.json\n",
            "OLMo-2-1124-13B-Instruct/AMC8_full_temp0_nstarts20_n1_2_3_5_7_seed42.json\n",
            "OLMo-2-1124-13B-Instruct/AIME_full_temp0_nstarts20_n1_2_3_5_7_seed42.json\n",
            "OLMo-2-1124-13B-Instruct/word-problems_full_temp0_nstarts20_n1_2_3_5_7_seed42.json\n",
            "OLMo-2-1124-13B-Instruct/MathCONTA_full_temp0_nstarts20_n1_2_3_5_7_seed42.json\n",
            "OLMo-2-1124-13B-Instruct/MathCONTA_train_full_temp0_nstarts20_n1_2_3_5_7_seed42.json\n",
            "OLMo-2-1124-13B-Instruct/MathCONTA_test_full_temp0_nstarts20_n1_2_3_5_7_seed42.json\n"
          ]
        }
      ]
    },
    {
      "cell_type": "code",
      "source": [
        "#merge_json_files(file_paths, dir_token_path / model_id / \"MathCONTA_full_temp0_nstarts20_n1_2_3_5_7_seed42.json\")"
      ],
      "metadata": {
        "id": "m9iWH3zmwRVk"
      },
      "execution_count": null,
      "outputs": []
    },
    {
      "cell_type": "code",
      "source": [
        "#if file exists you don't have to load the models\n",
        "load_models=False\n",
        "if load_models:\n",
        "  model = AutoModelForCausalLM.from_pretrained(model_id, torch_dtype=torch.bfloat16, device_map='auto')\n",
        "  tokenizer = AutoTokenizer.from_pretrained(model_id)\n",
        "else:\n",
        "  model = None\n",
        "  tokenizer = None\n",
        "  ds_conta = None"
      ],
      "metadata": {
        "id": "VYZtyL4AyeYN"
      },
      "execution_count": null,
      "outputs": []
    },
    {
      "cell_type": "markdown",
      "source": [
        "## DATA Processing/Loading (Standard)"
      ],
      "metadata": {
        "id": "NhWCX-W2Digm"
      }
    },
    {
      "cell_type": "code",
      "source": [
        "#!Parameter\n",
        "repo_id = \"Tobstar001/MathCONTA\"\n",
        "split = \"test\"\n",
        "config_name=\"core\"\n",
        "\n",
        "ds_conta = load_dataset(path=repo_id,name=config_name,split=split)"
      ],
      "metadata": {
        "id": "1DV-oXsPmJCE"
      },
      "execution_count": null,
      "outputs": []
    },
    {
      "cell_type": "code",
      "source": [
        "#filter ds_conta\n",
        "#ds_conta_w = ds_conta.filter(lambda example: example[\"CATEGORY\"] == \"word-problems\")\n",
        "ds_conta_ai = ds_conta.filter(lambda example: example[\"CATEGORY\"] == \"AIME\")\n",
        "ds_conta_am = ds_conta.filter(lambda example: example[\"CATEGORY\"] == \"AMC8\")\n",
        "ds_conta_f = ds_conta.filter(lambda example: example[\"CATEGORY\"] == \"Forum\")"
      ],
      "metadata": {
        "id": "fs-yDZpmOP19"
      },
      "execution_count": null,
      "outputs": []
    },
    {
      "cell_type": "code",
      "source": [
        "data_name=\"MathCONTA_full_temp0\" #please add full|problem and tempx to the name: e.g. AIME_full_temp0\n",
        "n_starts=20\n",
        "n_range=[1,2,3,5,7]\n",
        "temp=0.0\n",
        "torch_seed=42\n",
        "seed_rand=42\n",
        "start_offset=5\n",
        "random_starts=True\n",
        "only_problem=False\n",
        "force_reprocess=False\n",
        "verbose=False\n",
        "data=ds_conta\n",
        "\n",
        "MathCONTA_ngram_data=create_ngram_generation_data(model_id=model_id,ds_conta=data,\n",
        "                                                 model=model, tokenizer=tokenizer, data_name=data_name,\n",
        "                                                force_reprocess=force_reprocess,n_starts=n_starts,n=n_range,temp=temp,\n",
        "                                                 torch_seed=torch_seed,seed_rand=seed_rand,start_offset=start_offset,random_starts=random_starts,\n",
        "                                                 only_problem=only_problem,verbose=verbose,\n",
        "                                                 base_path_token=dir_token_path)"
      ],
      "metadata": {
        "id": "3v2yQl897gKv",
        "outputId": "6d16c594-6177-481b-f26b-8156dd239ad0",
        "colab": {
          "base_uri": "https://localhost:8080/"
        }
      },
      "execution_count": null,
      "outputs": [
        {
          "output_type": "stream",
          "name": "stdout",
          "text": [
            "File path: /content/drive/MyDrive/Masterarbeit25/MathCONTA_ngram_generation_data/allenai/OLMo-2-1124-13B-Instruct/MathCONTA_full_temp0_nstarts20_n1_2_3_5_7_seed42.json\n",
            "Loading existing n-gram generation data from: /content/drive/MyDrive/Masterarbeit25/MathCONTA_ngram_generation_data/allenai/OLMo-2-1124-13B-Instruct/MathCONTA_full_temp0_nstarts20_n1_2_3_5_7_seed42.json\n"
          ]
        }
      ]
    },
    {
      "cell_type": "code",
      "source": [
        "ngram_df=get_ngram_df_from_generation_data(MathCONTA_ngram_data, n=2)\n",
        "ngram_df"
      ],
      "metadata": {
        "colab": {
          "base_uri": "https://localhost:8080/",
          "height": 424
        },
        "id": "jQLZCANsA-5y",
        "outputId": "79e68170-3216-4763-a044-5b2b65b29765",
        "collapsed": true
      },
      "execution_count": null,
      "outputs": [
        {
          "output_type": "execute_result",
          "data": {
            "text/plain": [
              "                ID       CATEGORY  LABEL  LABEL_BINARY  n  ngram_acc\n",
              "0       owm-word-1  word-problems  Conta             1  2       0.30\n",
              "1     clean-word-1  word-problems  Clean             0  2       0.50\n",
              "2       owm-word-2  word-problems  Conta             1  2       0.15\n",
              "3     clean-word-2  word-problems  Clean             0  2       0.40\n",
              "4       owm-word-3  word-problems  Conta             1  2       0.35\n",
              "..             ...            ...    ...           ... ..        ...\n",
              "95   clean-forum-6          Forum  Clean             0  2       0.45\n",
              "96   clean-forum-7          Forum  Clean             0  2       0.50\n",
              "97   clean-forum-8          Forum  Clean             0  2       0.50\n",
              "98   clean-forum-9          Forum  Clean             0  2       0.75\n",
              "99  clean-forum-10          Forum  Clean             0  2       0.30\n",
              "\n",
              "[100 rows x 6 columns]"
            ],
            "text/html": [
              "\n",
              "  <div id=\"df-19a5cc57-da3f-420b-b088-5c5d4a27d957\" class=\"colab-df-container\">\n",
              "    <div>\n",
              "<style scoped>\n",
              "    .dataframe tbody tr th:only-of-type {\n",
              "        vertical-align: middle;\n",
              "    }\n",
              "\n",
              "    .dataframe tbody tr th {\n",
              "        vertical-align: top;\n",
              "    }\n",
              "\n",
              "    .dataframe thead th {\n",
              "        text-align: right;\n",
              "    }\n",
              "</style>\n",
              "<table border=\"1\" class=\"dataframe\">\n",
              "  <thead>\n",
              "    <tr style=\"text-align: right;\">\n",
              "      <th></th>\n",
              "      <th>ID</th>\n",
              "      <th>CATEGORY</th>\n",
              "      <th>LABEL</th>\n",
              "      <th>LABEL_BINARY</th>\n",
              "      <th>n</th>\n",
              "      <th>ngram_acc</th>\n",
              "    </tr>\n",
              "  </thead>\n",
              "  <tbody>\n",
              "    <tr>\n",
              "      <th>0</th>\n",
              "      <td>owm-word-1</td>\n",
              "      <td>word-problems</td>\n",
              "      <td>Conta</td>\n",
              "      <td>1</td>\n",
              "      <td>2</td>\n",
              "      <td>0.30</td>\n",
              "    </tr>\n",
              "    <tr>\n",
              "      <th>1</th>\n",
              "      <td>clean-word-1</td>\n",
              "      <td>word-problems</td>\n",
              "      <td>Clean</td>\n",
              "      <td>0</td>\n",
              "      <td>2</td>\n",
              "      <td>0.50</td>\n",
              "    </tr>\n",
              "    <tr>\n",
              "      <th>2</th>\n",
              "      <td>owm-word-2</td>\n",
              "      <td>word-problems</td>\n",
              "      <td>Conta</td>\n",
              "      <td>1</td>\n",
              "      <td>2</td>\n",
              "      <td>0.15</td>\n",
              "    </tr>\n",
              "    <tr>\n",
              "      <th>3</th>\n",
              "      <td>clean-word-2</td>\n",
              "      <td>word-problems</td>\n",
              "      <td>Clean</td>\n",
              "      <td>0</td>\n",
              "      <td>2</td>\n",
              "      <td>0.40</td>\n",
              "    </tr>\n",
              "    <tr>\n",
              "      <th>4</th>\n",
              "      <td>owm-word-3</td>\n",
              "      <td>word-problems</td>\n",
              "      <td>Conta</td>\n",
              "      <td>1</td>\n",
              "      <td>2</td>\n",
              "      <td>0.35</td>\n",
              "    </tr>\n",
              "    <tr>\n",
              "      <th>...</th>\n",
              "      <td>...</td>\n",
              "      <td>...</td>\n",
              "      <td>...</td>\n",
              "      <td>...</td>\n",
              "      <td>...</td>\n",
              "      <td>...</td>\n",
              "    </tr>\n",
              "    <tr>\n",
              "      <th>95</th>\n",
              "      <td>clean-forum-6</td>\n",
              "      <td>Forum</td>\n",
              "      <td>Clean</td>\n",
              "      <td>0</td>\n",
              "      <td>2</td>\n",
              "      <td>0.45</td>\n",
              "    </tr>\n",
              "    <tr>\n",
              "      <th>96</th>\n",
              "      <td>clean-forum-7</td>\n",
              "      <td>Forum</td>\n",
              "      <td>Clean</td>\n",
              "      <td>0</td>\n",
              "      <td>2</td>\n",
              "      <td>0.50</td>\n",
              "    </tr>\n",
              "    <tr>\n",
              "      <th>97</th>\n",
              "      <td>clean-forum-8</td>\n",
              "      <td>Forum</td>\n",
              "      <td>Clean</td>\n",
              "      <td>0</td>\n",
              "      <td>2</td>\n",
              "      <td>0.50</td>\n",
              "    </tr>\n",
              "    <tr>\n",
              "      <th>98</th>\n",
              "      <td>clean-forum-9</td>\n",
              "      <td>Forum</td>\n",
              "      <td>Clean</td>\n",
              "      <td>0</td>\n",
              "      <td>2</td>\n",
              "      <td>0.75</td>\n",
              "    </tr>\n",
              "    <tr>\n",
              "      <th>99</th>\n",
              "      <td>clean-forum-10</td>\n",
              "      <td>Forum</td>\n",
              "      <td>Clean</td>\n",
              "      <td>0</td>\n",
              "      <td>2</td>\n",
              "      <td>0.30</td>\n",
              "    </tr>\n",
              "  </tbody>\n",
              "</table>\n",
              "<p>100 rows × 6 columns</p>\n",
              "</div>\n",
              "    <div class=\"colab-df-buttons\">\n",
              "\n",
              "  <div class=\"colab-df-container\">\n",
              "    <button class=\"colab-df-convert\" onclick=\"convertToInteractive('df-19a5cc57-da3f-420b-b088-5c5d4a27d957')\"\n",
              "            title=\"Convert this dataframe to an interactive table.\"\n",
              "            style=\"display:none;\">\n",
              "\n",
              "  <svg xmlns=\"http://www.w3.org/2000/svg\" height=\"24px\" viewBox=\"0 -960 960 960\">\n",
              "    <path d=\"M120-120v-720h720v720H120Zm60-500h600v-160H180v160Zm220 220h160v-160H400v160Zm0 220h160v-160H400v160ZM180-400h160v-160H180v160Zm440 0h160v-160H620v160ZM180-180h160v-160H180v160Zm440 0h160v-160H620v160Z\"/>\n",
              "  </svg>\n",
              "    </button>\n",
              "\n",
              "  <style>\n",
              "    .colab-df-container {\n",
              "      display:flex;\n",
              "      gap: 12px;\n",
              "    }\n",
              "\n",
              "    .colab-df-convert {\n",
              "      background-color: #E8F0FE;\n",
              "      border: none;\n",
              "      border-radius: 50%;\n",
              "      cursor: pointer;\n",
              "      display: none;\n",
              "      fill: #1967D2;\n",
              "      height: 32px;\n",
              "      padding: 0 0 0 0;\n",
              "      width: 32px;\n",
              "    }\n",
              "\n",
              "    .colab-df-convert:hover {\n",
              "      background-color: #E2EBFA;\n",
              "      box-shadow: 0px 1px 2px rgba(60, 64, 67, 0.3), 0px 1px 3px 1px rgba(60, 64, 67, 0.15);\n",
              "      fill: #174EA6;\n",
              "    }\n",
              "\n",
              "    .colab-df-buttons div {\n",
              "      margin-bottom: 4px;\n",
              "    }\n",
              "\n",
              "    [theme=dark] .colab-df-convert {\n",
              "      background-color: #3B4455;\n",
              "      fill: #D2E3FC;\n",
              "    }\n",
              "\n",
              "    [theme=dark] .colab-df-convert:hover {\n",
              "      background-color: #434B5C;\n",
              "      box-shadow: 0px 1px 3px 1px rgba(0, 0, 0, 0.15);\n",
              "      filter: drop-shadow(0px 1px 2px rgba(0, 0, 0, 0.3));\n",
              "      fill: #FFFFFF;\n",
              "    }\n",
              "  </style>\n",
              "\n",
              "    <script>\n",
              "      const buttonEl =\n",
              "        document.querySelector('#df-19a5cc57-da3f-420b-b088-5c5d4a27d957 button.colab-df-convert');\n",
              "      buttonEl.style.display =\n",
              "        google.colab.kernel.accessAllowed ? 'block' : 'none';\n",
              "\n",
              "      async function convertToInteractive(key) {\n",
              "        const element = document.querySelector('#df-19a5cc57-da3f-420b-b088-5c5d4a27d957');\n",
              "        const dataTable =\n",
              "          await google.colab.kernel.invokeFunction('convertToInteractive',\n",
              "                                                    [key], {});\n",
              "        if (!dataTable) return;\n",
              "\n",
              "        const docLinkHtml = 'Like what you see? Visit the ' +\n",
              "          '<a target=\"_blank\" href=https://colab.research.google.com/notebooks/data_table.ipynb>data table notebook</a>'\n",
              "          + ' to learn more about interactive tables.';\n",
              "        element.innerHTML = '';\n",
              "        dataTable['output_type'] = 'display_data';\n",
              "        await google.colab.output.renderOutput(dataTable, element);\n",
              "        const docLink = document.createElement('div');\n",
              "        docLink.innerHTML = docLinkHtml;\n",
              "        element.appendChild(docLink);\n",
              "      }\n",
              "    </script>\n",
              "  </div>\n",
              "\n",
              "\n",
              "<div id=\"df-aee86b36-677c-4ed7-9a01-d97c43a25bca\">\n",
              "  <button class=\"colab-df-quickchart\" onclick=\"quickchart('df-aee86b36-677c-4ed7-9a01-d97c43a25bca')\"\n",
              "            title=\"Suggest charts\"\n",
              "            style=\"display:none;\">\n",
              "\n",
              "<svg xmlns=\"http://www.w3.org/2000/svg\" height=\"24px\"viewBox=\"0 0 24 24\"\n",
              "     width=\"24px\">\n",
              "    <g>\n",
              "        <path d=\"M19 3H5c-1.1 0-2 .9-2 2v14c0 1.1.9 2 2 2h14c1.1 0 2-.9 2-2V5c0-1.1-.9-2-2-2zM9 17H7v-7h2v7zm4 0h-2V7h2v10zm4 0h-2v-4h2v4z\"/>\n",
              "    </g>\n",
              "</svg>\n",
              "  </button>\n",
              "\n",
              "<style>\n",
              "  .colab-df-quickchart {\n",
              "      --bg-color: #E8F0FE;\n",
              "      --fill-color: #1967D2;\n",
              "      --hover-bg-color: #E2EBFA;\n",
              "      --hover-fill-color: #174EA6;\n",
              "      --disabled-fill-color: #AAA;\n",
              "      --disabled-bg-color: #DDD;\n",
              "  }\n",
              "\n",
              "  [theme=dark] .colab-df-quickchart {\n",
              "      --bg-color: #3B4455;\n",
              "      --fill-color: #D2E3FC;\n",
              "      --hover-bg-color: #434B5C;\n",
              "      --hover-fill-color: #FFFFFF;\n",
              "      --disabled-bg-color: #3B4455;\n",
              "      --disabled-fill-color: #666;\n",
              "  }\n",
              "\n",
              "  .colab-df-quickchart {\n",
              "    background-color: var(--bg-color);\n",
              "    border: none;\n",
              "    border-radius: 50%;\n",
              "    cursor: pointer;\n",
              "    display: none;\n",
              "    fill: var(--fill-color);\n",
              "    height: 32px;\n",
              "    padding: 0;\n",
              "    width: 32px;\n",
              "  }\n",
              "\n",
              "  .colab-df-quickchart:hover {\n",
              "    background-color: var(--hover-bg-color);\n",
              "    box-shadow: 0 1px 2px rgba(60, 64, 67, 0.3), 0 1px 3px 1px rgba(60, 64, 67, 0.15);\n",
              "    fill: var(--button-hover-fill-color);\n",
              "  }\n",
              "\n",
              "  .colab-df-quickchart-complete:disabled,\n",
              "  .colab-df-quickchart-complete:disabled:hover {\n",
              "    background-color: var(--disabled-bg-color);\n",
              "    fill: var(--disabled-fill-color);\n",
              "    box-shadow: none;\n",
              "  }\n",
              "\n",
              "  .colab-df-spinner {\n",
              "    border: 2px solid var(--fill-color);\n",
              "    border-color: transparent;\n",
              "    border-bottom-color: var(--fill-color);\n",
              "    animation:\n",
              "      spin 1s steps(1) infinite;\n",
              "  }\n",
              "\n",
              "  @keyframes spin {\n",
              "    0% {\n",
              "      border-color: transparent;\n",
              "      border-bottom-color: var(--fill-color);\n",
              "      border-left-color: var(--fill-color);\n",
              "    }\n",
              "    20% {\n",
              "      border-color: transparent;\n",
              "      border-left-color: var(--fill-color);\n",
              "      border-top-color: var(--fill-color);\n",
              "    }\n",
              "    30% {\n",
              "      border-color: transparent;\n",
              "      border-left-color: var(--fill-color);\n",
              "      border-top-color: var(--fill-color);\n",
              "      border-right-color: var(--fill-color);\n",
              "    }\n",
              "    40% {\n",
              "      border-color: transparent;\n",
              "      border-right-color: var(--fill-color);\n",
              "      border-top-color: var(--fill-color);\n",
              "    }\n",
              "    60% {\n",
              "      border-color: transparent;\n",
              "      border-right-color: var(--fill-color);\n",
              "    }\n",
              "    80% {\n",
              "      border-color: transparent;\n",
              "      border-right-color: var(--fill-color);\n",
              "      border-bottom-color: var(--fill-color);\n",
              "    }\n",
              "    90% {\n",
              "      border-color: transparent;\n",
              "      border-bottom-color: var(--fill-color);\n",
              "    }\n",
              "  }\n",
              "</style>\n",
              "\n",
              "  <script>\n",
              "    async function quickchart(key) {\n",
              "      const quickchartButtonEl =\n",
              "        document.querySelector('#' + key + ' button');\n",
              "      quickchartButtonEl.disabled = true;  // To prevent multiple clicks.\n",
              "      quickchartButtonEl.classList.add('colab-df-spinner');\n",
              "      try {\n",
              "        const charts = await google.colab.kernel.invokeFunction(\n",
              "            'suggestCharts', [key], {});\n",
              "      } catch (error) {\n",
              "        console.error('Error during call to suggestCharts:', error);\n",
              "      }\n",
              "      quickchartButtonEl.classList.remove('colab-df-spinner');\n",
              "      quickchartButtonEl.classList.add('colab-df-quickchart-complete');\n",
              "    }\n",
              "    (() => {\n",
              "      let quickchartButtonEl =\n",
              "        document.querySelector('#df-aee86b36-677c-4ed7-9a01-d97c43a25bca button');\n",
              "      quickchartButtonEl.style.display =\n",
              "        google.colab.kernel.accessAllowed ? 'block' : 'none';\n",
              "    })();\n",
              "  </script>\n",
              "</div>\n",
              "\n",
              "  <div id=\"id_66a0bfe8-47f3-42c1-bb23-acdb36fa8f98\">\n",
              "    <style>\n",
              "      .colab-df-generate {\n",
              "        background-color: #E8F0FE;\n",
              "        border: none;\n",
              "        border-radius: 50%;\n",
              "        cursor: pointer;\n",
              "        display: none;\n",
              "        fill: #1967D2;\n",
              "        height: 32px;\n",
              "        padding: 0 0 0 0;\n",
              "        width: 32px;\n",
              "      }\n",
              "\n",
              "      .colab-df-generate:hover {\n",
              "        background-color: #E2EBFA;\n",
              "        box-shadow: 0px 1px 2px rgba(60, 64, 67, 0.3), 0px 1px 3px 1px rgba(60, 64, 67, 0.15);\n",
              "        fill: #174EA6;\n",
              "      }\n",
              "\n",
              "      [theme=dark] .colab-df-generate {\n",
              "        background-color: #3B4455;\n",
              "        fill: #D2E3FC;\n",
              "      }\n",
              "\n",
              "      [theme=dark] .colab-df-generate:hover {\n",
              "        background-color: #434B5C;\n",
              "        box-shadow: 0px 1px 3px 1px rgba(0, 0, 0, 0.15);\n",
              "        filter: drop-shadow(0px 1px 2px rgba(0, 0, 0, 0.3));\n",
              "        fill: #FFFFFF;\n",
              "      }\n",
              "    </style>\n",
              "    <button class=\"colab-df-generate\" onclick=\"generateWithVariable('ngram_df')\"\n",
              "            title=\"Generate code using this dataframe.\"\n",
              "            style=\"display:none;\">\n",
              "\n",
              "  <svg xmlns=\"http://www.w3.org/2000/svg\" height=\"24px\"viewBox=\"0 0 24 24\"\n",
              "       width=\"24px\">\n",
              "    <path d=\"M7,19H8.4L18.45,9,17,7.55,7,17.6ZM5,21V16.75L18.45,3.32a2,2,0,0,1,2.83,0l1.4,1.43a1.91,1.91,0,0,1,.58,1.4,1.91,1.91,0,0,1-.58,1.4L9.25,21ZM18.45,9,17,7.55Zm-12,3A5.31,5.31,0,0,0,4.9,8.1,5.31,5.31,0,0,0,1,6.5,5.31,5.31,0,0,0,4.9,4.9,5.31,5.31,0,0,0,6.5,1,5.31,5.31,0,0,0,8.1,4.9,5.31,5.31,0,0,0,12,6.5,5.46,5.46,0,0,0,6.5,12Z\"/>\n",
              "  </svg>\n",
              "    </button>\n",
              "    <script>\n",
              "      (() => {\n",
              "      const buttonEl =\n",
              "        document.querySelector('#id_66a0bfe8-47f3-42c1-bb23-acdb36fa8f98 button.colab-df-generate');\n",
              "      buttonEl.style.display =\n",
              "        google.colab.kernel.accessAllowed ? 'block' : 'none';\n",
              "\n",
              "      buttonEl.onclick = () => {\n",
              "        google.colab.notebook.generateWithVariable('ngram_df');\n",
              "      }\n",
              "      })();\n",
              "    </script>\n",
              "  </div>\n",
              "\n",
              "    </div>\n",
              "  </div>\n"
            ],
            "application/vnd.google.colaboratory.intrinsic+json": {
              "type": "dataframe",
              "variable_name": "ngram_df",
              "summary": "{\n  \"name\": \"ngram_df\",\n  \"rows\": 100,\n  \"fields\": [\n    {\n      \"column\": \"ID\",\n      \"properties\": {\n        \"dtype\": \"string\",\n        \"num_unique_values\": 100,\n        \"samples\": [\n          \"owm-forum-4\",\n          \"clean-amc8-12\",\n          \"clean-aime-1\"\n        ],\n        \"semantic_type\": \"\",\n        \"description\": \"\"\n      }\n    },\n    {\n      \"column\": \"CATEGORY\",\n      \"properties\": {\n        \"dtype\": \"category\",\n        \"num_unique_values\": 4,\n        \"samples\": [\n          \"AMC8\",\n          \"Forum\",\n          \"word-problems\"\n        ],\n        \"semantic_type\": \"\",\n        \"description\": \"\"\n      }\n    },\n    {\n      \"column\": \"LABEL\",\n      \"properties\": {\n        \"dtype\": \"category\",\n        \"num_unique_values\": 2,\n        \"samples\": [\n          \"Clean\",\n          \"Conta\"\n        ],\n        \"semantic_type\": \"\",\n        \"description\": \"\"\n      }\n    },\n    {\n      \"column\": \"LABEL_BINARY\",\n      \"properties\": {\n        \"dtype\": \"number\",\n        \"std\": 0,\n        \"min\": 0,\n        \"max\": 1,\n        \"num_unique_values\": 2,\n        \"samples\": [\n          0,\n          1\n        ],\n        \"semantic_type\": \"\",\n        \"description\": \"\"\n      }\n    },\n    {\n      \"column\": \"n\",\n      \"properties\": {\n        \"dtype\": \"number\",\n        \"std\": 0,\n        \"min\": 2,\n        \"max\": 2,\n        \"num_unique_values\": 1,\n        \"samples\": [\n          2\n        ],\n        \"semantic_type\": \"\",\n        \"description\": \"\"\n      }\n    },\n    {\n      \"column\": \"ngram_acc\",\n      \"properties\": {\n        \"dtype\": \"number\",\n        \"std\": 0.13394839199173586,\n        \"min\": 0.15,\n        \"max\": 0.8,\n        \"num_unique_values\": 14,\n        \"samples\": [\n          0.45\n        ],\n        \"semantic_type\": \"\",\n        \"description\": \"\"\n      }\n    }\n  ]\n}"
            }
          },
          "metadata": {},
          "execution_count": 12
        }
      ]
    },
    {
      "cell_type": "markdown",
      "source": [
        "## Train Test Split (Only relevant once)\n",
        "Subsequent Stratified Train test split for google drive\n",
        "For new data please filter train/test before generating the data"
      ],
      "metadata": {
        "id": "7XjqrOBD33Tw"
      }
    },
    {
      "cell_type": "code",
      "source": [
        "train, test = stratified_dict_split(MathCONTA_ngram_data, test_ratio=0.3, seed=42)"
      ],
      "metadata": {
        "id": "4xjzCi7g4OL_",
        "outputId": "d0e884c8-1048-4909-ef79-bcbacaef258a",
        "colab": {
          "base_uri": "https://localhost:8080/"
        }
      },
      "execution_count": null,
      "outputs": [
        {
          "output_type": "stream",
          "name": "stdout",
          "text": [
            "Train size: 70, Test size: 30\n",
            "{'owm-aime-4', 'owm-forum-10', 'owm-amc8-12', 'clean-forum-6', 'owm-amc8-9', 'clean-forum-7', 'owm-forum-5', 'clean-word-12', 'owm-word-10', 'clean-word-7', 'clean-aime-3', 'owm-amc8-15', 'owm-aime-7', 'clean-amc8-10', 'owm-word-5', 'clean-amc8-3', 'clean-word-10', 'clean-amc8-14', 'owm-word-2', 'owm-amc8-10', 'owm-word-9', 'owm-forum-3', 'clean-aime-4', 'clean-amc8-18', 'clean-aime-7', 'clean-amc8-1', 'clean-word-9', 'owm-amc8-17', 'clean-forum-9', 'owm-aime-3'}\n"
          ]
        }
      ]
    },
    {
      "cell_type": "code",
      "source": [
        "#train_path: dir_token_path / model_id / \"MathCONTA_train_sample50_max200_seed42.json\", test path accordingly\n",
        "file_path_train=dir_token_path / model_id / \"MathCONTA_train_full_temp0_nstarts20_n1_2_3_5_7_seed42.json\"\n",
        "with open(file_path_train, 'w') as f:\n",
        "      json.dump(train, f)\n",
        "\n",
        "file_path_test=dir_token_path / model_id / \"MathCONTA_test_full_temp0_nstarts20_n1_2_3_5_7_seed42.json\"\n",
        "with open(file_path_test, 'w') as f:\n",
        "      json.dump(test, f)"
      ],
      "metadata": {
        "id": "WKcpbFZX62Aq"
      },
      "execution_count": null,
      "outputs": []
    },
    {
      "cell_type": "markdown",
      "source": [
        "## TRAIN SET CV - Parameter Tuning"
      ],
      "metadata": {
        "id": "QeVgSM7jDpoz"
      }
    },
    {
      "cell_type": "code",
      "source": [
        "#how to filter on categories\n",
        "#category='word-problems'\n",
        "#MathCONTA_ngram_data_f = [entry for entry in MathCONTA_ngram_data if entry.get('CATEGORY') == category]\n",
        "#len(MathCONTA_ngram_data_f)"
      ],
      "metadata": {
        "id": "H8DNFfdzyiuP",
        "outputId": "9241465d-7574-490e-894e-2eb07e76d0ea",
        "colab": {
          "base_uri": "https://localhost:8080/"
        }
      },
      "execution_count": null,
      "outputs": [
        {
          "output_type": "execute_result",
          "data": {
            "text/plain": [
              "24"
            ]
          },
          "metadata": {},
          "execution_count": 29
        }
      ]
    },
    {
      "cell_type": "code",
      "source": [
        "data_name=\"MathCONTA_train_full_temp0\" #please add full|problem and tempx to the name: e.g. AIME_full_temp0\n",
        "n_starts=20\n",
        "n_range=[1,2,3,5,7]\n",
        "temp=0.0\n",
        "torch_seed=42\n",
        "seed_rand=42\n",
        "start_offset=5\n",
        "random_starts=True\n",
        "only_problem=False\n",
        "force_reprocess=False\n",
        "verbose=False\n",
        "data=ds_conta\n",
        "\n",
        "MathCONTA_ngram_data=create_ngram_generation_data(model_id=model_id,ds_conta=data,\n",
        "                                                 model=model, tokenizer=tokenizer, data_name=data_name,\n",
        "                                                force_reprocess=force_reprocess,n_starts=n_starts,n=n_range,temp=temp,\n",
        "                                                 torch_seed=torch_seed,seed_rand=seed_rand,start_offset=start_offset,random_starts=random_starts,\n",
        "                                                 only_problem=only_problem,verbose=verbose,\n",
        "                                                 base_path_token=dir_token_path)"
      ],
      "metadata": {
        "id": "ZMKyw1Sulejf",
        "outputId": "a13692ef-1078-4bf1-9801-c15146ede669",
        "colab": {
          "base_uri": "https://localhost:8080/"
        }
      },
      "execution_count": null,
      "outputs": [
        {
          "output_type": "stream",
          "name": "stdout",
          "text": [
            "File path: /content/drive/MyDrive/Masterarbeit25/MathCONTA_ngram_generation_data/allenai/OLMo-2-1124-13B-Instruct/MathCONTA_train_full_temp0_nstarts20_n1_2_3_5_7_seed42.json\n",
            "Loading existing n-gram generation data from: /content/drive/MyDrive/Masterarbeit25/MathCONTA_ngram_generation_data/allenai/OLMo-2-1124-13B-Instruct/MathCONTA_train_full_temp0_nstarts20_n1_2_3_5_7_seed42.json\n"
          ]
        }
      ]
    },
    {
      "cell_type": "code",
      "source": [
        "#!Parameter 2D\n",
        "data=MathCONTA_ngram_data\n",
        "feature_col=\"ngram_acc\"\n",
        "label_col=\"LABEL_BINARY\"\n",
        "n_range=n_range\n",
        "cv_folds=5\n",
        "cv_seed=42\n",
        "log_path_base =DRIVE_PATH / \"cdm_data\" / \"MathCONTA_v1\"\n",
        "exp_id=\"overleaf2\"#+'_'+category\n",
        "method_name=\"ngram_acc\"\n"
      ],
      "metadata": {
        "id": "RcIIQfKXuTBZ"
      },
      "execution_count": null,
      "outputs": []
    },
    {
      "cell_type": "code",
      "source": [
        "out_dict=tune_ngram_acc(ngram_data=data,feature_col=feature_col,\n",
        "                          label_col=label_col,cv_folds=cv_folds,cv_seed=cv_seed,\n",
        "                          n_range=n_range, model_id=model_id,data_name=data_name,\n",
        "                          method_name=method_name,log_path_base=log_path_base,exp_id=exp_id)"
      ],
      "metadata": {
        "colab": {
          "base_uri": "https://localhost:8080/"
        },
        "id": "NKDb9iOLjF5x",
        "outputId": "6722b3a4-ec11-458f-9cbd-9885d0bd7688"
      },
      "execution_count": null,
      "outputs": [
        {
          "output_type": "stream",
          "name": "stdout",
          "text": [
            "Testing n=1 | median_threshold=0.325000 | mean_cvacc_test=0.485714\n",
            "Testing n=2 | median_threshold=0.525000 | mean_cvacc_test=0.457143\n",
            "Testing n=3 | median_threshold=0.425000 | mean_cvacc_test=0.414286\n",
            "Testing n=5 | median_threshold=0.375000 | mean_cvacc_test=0.442857\n",
            "Testing n=7 | median_threshold=0.050000 | mean_cvacc_test=0.414286\n",
            "Best log entry:\n",
            "{'parameter': {'n': 1}, 'global_threshold': 0.325, 'median_threshold': 0.325, 'mean_cvacc_train': 0.521429, 'mean_cvacc_test': 0.485714}\n",
            "Accuracy log saved in /content/drive/MyDrive/Masterarbeit25/cdm_data/MathCONTA_v1/allenai/OLMo-2-1124-13B-Instruct/ngram_acc/MathCONTA_train_full_temp0_accuracylog_overleaf2.json\n"
          ]
        }
      ]
    },
    {
      "cell_type": "markdown",
      "source": [
        "## TEST SET EVALUATION"
      ],
      "metadata": {
        "id": "2vPgtddTCRFJ"
      }
    },
    {
      "cell_type": "code",
      "source": [
        "data_name=\"MathCONTA_test_full_temp0\"\n",
        "MathCONTA_ngram_data=create_ngram_generation_data(model_id=model_id,ds_conta=data,\n",
        "                                                 model=model, tokenizer=tokenizer, data_name=data_name,\n",
        "                                                force_reprocess=force_reprocess,n_starts=n_starts,n=n_range,temp=temp,\n",
        "                                                 torch_seed=torch_seed,seed_rand=seed_rand,start_offset=start_offset,random_starts=random_starts,\n",
        "                                                 only_problem=only_problem,verbose=verbose,\n",
        "                                                 base_path_token=dir_token_path)"
      ],
      "metadata": {
        "id": "R4lXg-IhCP8B",
        "outputId": "c5435f40-ca1a-4f0f-f88b-a50a371d0042",
        "colab": {
          "base_uri": "https://localhost:8080/"
        }
      },
      "execution_count": null,
      "outputs": [
        {
          "output_type": "stream",
          "name": "stdout",
          "text": [
            "File path: /content/drive/MyDrive/Masterarbeit25/MathCONTA_ngram_generation_data/allenai/OLMo-2-1124-13B-Instruct/MathCONTA_test_full_temp0_nstarts20_n1_2_3_5_7_seed42.json\n",
            "Loading existing n-gram generation data from: /content/drive/MyDrive/Masterarbeit25/MathCONTA_ngram_generation_data/allenai/OLMo-2-1124-13B-Instruct/MathCONTA_test_full_temp0_nstarts20_n1_2_3_5_7_seed42.json\n"
          ]
        }
      ]
    },
    {
      "cell_type": "code",
      "source": [
        "#!Parameter\n",
        "parameter1=1\n",
        "theta=0.325\n",
        "exp_id_test=exp_id\n",
        "method_name=method_name\n",
        "metric_col=feature_col\n",
        "log_path_base=log_path_base\n",
        "\n",
        "ngram_df=get_ngram_df_from_generation_data(MathCONTA_ngram_data, n=parameter1)\n",
        "len(ngram_df)"
      ],
      "metadata": {
        "id": "dek4Ro6EC5ZL",
        "outputId": "75440d14-1fcb-48ca-956c-e964eeb9c2dc",
        "colab": {
          "base_uri": "https://localhost:8080/"
        }
      },
      "execution_count": null,
      "outputs": [
        {
          "output_type": "execute_result",
          "data": {
            "text/plain": [
              "30"
            ]
          },
          "metadata": {},
          "execution_count": 21
        }
      ]
    },
    {
      "cell_type": "code",
      "source": [
        "test_dict=evaluate_method_standard(\n",
        "    ngram_df,\n",
        "    metric_col=metric_col,\n",
        "    theta=theta,\n",
        "    model_id=model_id,\n",
        "    data_name=data_name,\n",
        "    method_name=method_name,\n",
        "    parameter1=parameter1,\n",
        "    n_bootstrap=1000,\n",
        "    seed=42\n",
        ")\n",
        "test_dict"
      ],
      "metadata": {
        "id": "engCPfhKfvcL",
        "outputId": "d8acb036-528a-49f8-b235-b786fb55a416",
        "colab": {
          "base_uri": "https://localhost:8080/"
        }
      },
      "execution_count": null,
      "outputs": [
        {
          "output_type": "execute_result",
          "data": {
            "text/plain": [
              "{'model_id': 'allenai/OLMo-2-1124-13B-Instruct',\n",
              " 'data_name': 'MathCONTA_test_full_temp0',\n",
              " 'datetime': '2025-04-11T17:32:32.011931',\n",
              " 'method_name': 'ngram_acc',\n",
              " 'parameter': {'parameter1': 1, 'parameter2': None, 'theta': '0.325'},\n",
              " 'metrics': {'accuracy': 0.5,\n",
              "  'accuracy_95CI': (0.3325, 0.6674999999999992),\n",
              "  'precision': 0.5,\n",
              "  'recall': 1.0,\n",
              "  'f1_score': 0.6666666666666666,\n",
              "  'confusion_matrix': [[0, 15], [0, 15]],\n",
              "  'mcnemar_b': 0,\n",
              "  'mcnemar_c': 0,\n",
              "  'mcnemar_p_value': 1.0},\n",
              " 'n_bootstrap': 1000,\n",
              " 'seed': 42}"
            ]
          },
          "metadata": {},
          "execution_count": 22
        }
      ]
    },
    {
      "cell_type": "code",
      "source": [
        "save_accuracy_log(log_path_base=log_path_base,model_id=model_id,method_name=method_name,exp_id=exp_id_test, data_name=data_name,out_dict=test_dict)"
      ],
      "metadata": {
        "id": "UuGCVaPKAQdn",
        "outputId": "263082fc-d22b-43b5-94a0-165537ace1d5",
        "colab": {
          "base_uri": "https://localhost:8080/"
        }
      },
      "execution_count": null,
      "outputs": [
        {
          "output_type": "stream",
          "name": "stdout",
          "text": [
            "Accuracy log saved in /content/drive/MyDrive/Masterarbeit25/cdm_data/MathCONTA_v1/allenai/OLMo-2-1124-13B-Instruct/ngram_acc/MathCONTA_test_full_temp0_accuracylog_overleaf2.json\n"
          ]
        }
      ]
    },
    {
      "cell_type": "markdown",
      "source": [
        "## RUN END2END"
      ],
      "metadata": {
        "id": "BWSDsuB-n06m"
      }
    },
    {
      "cell_type": "code",
      "source": [
        "n=5\n",
        "theta=0.075"
      ],
      "metadata": {
        "id": "d-sTvZo_LFJy"
      },
      "execution_count": null,
      "outputs": []
    },
    {
      "cell_type": "code",
      "source": [
        "run_ngram(\n",
        "    model_id=model_id,\n",
        "    filtered_ds=filtered_ds,\n",
        "    model=model,\n",
        "    tokenizer=tokenizer,\n",
        "    data_name=data_name,\n",
        "    force_reprocess=force_reprocess,\n",
        "    n_starts=n_starts,\n",
        "    n_range=n_range,\n",
        "    temp=temp,\n",
        "    torch_seed=torch_seed,\n",
        "    seed_rand=seed_rand,\n",
        "    start_offset=start_offset,\n",
        "    random_starts=random_starts,\n",
        "    only_problem=only_problem,\n",
        "    verbose=verbose,\n",
        "    dir_token_path=dir_token_path,\n",
        "    n=n,\n",
        "    theta=theta\n",
        ")\n"
      ],
      "metadata": {
        "colab": {
          "base_uri": "https://localhost:8080/"
        },
        "id": "ZcEaooPx-f4b",
        "outputId": "ea8901d8-fb29-4aa5-cc1d-41b5d28c8afb"
      },
      "execution_count": null,
      "outputs": [
        {
          "output_type": "stream",
          "name": "stdout",
          "text": [
            "File path: /content/drive/MyDrive/Masterarbeit25/MathCONTA_ngram_generation_data/deepseek-ai/deepseek-math-7b-instruct/AIME_full_temp0_nstarts20_n1_2_3_5_7_seed42.json\n",
            "Loading existing n-gram generation data from: /content/drive/MyDrive/Masterarbeit25/MathCONTA_ngram_generation_data/deepseek-ai/deepseek-math-7b-instruct/AIME_full_temp0_nstarts20_n1_2_3_5_7_seed42.json\n"
          ]
        },
        {
          "output_type": "execute_result",
          "data": {
            "text/plain": [
              "{'accuracy': 0.55,\n",
              " 'precision': 0.5263157894736842,\n",
              " 'recall': 1.0,\n",
              " 'f1_score': 0.6896551724137931,\n",
              " 'confusion_matrix': array([[ 1,  9],\n",
              "        [ 0, 10]])}"
            ]
          },
          "metadata": {},
          "execution_count": 16
        }
      ]
    },
    {
      "cell_type": "markdown",
      "source": [
        "## Combined Evaluation across LLMs"
      ],
      "metadata": {
        "id": "w_9tv9B5klKk"
      }
    },
    {
      "cell_type": "code",
      "source": [
        "model_ids = [\"deepseek-ai/deepseek-math-7b-instruct\",\n",
        "             \"EleutherAI/llemma_7b\",\n",
        "             \"allenai/OLMo-7B-0724-Instruct-hf\",\n",
        "              \"allenai/OLMo-2-1124-13B-Instruct\"]\n",
        "model_id_combi = \"DS_LE_OL_OL2\""
      ],
      "metadata": {
        "id": "pPnInY4PkxVh"
      },
      "execution_count": null,
      "outputs": []
    },
    {
      "cell_type": "markdown",
      "source": [
        "## TRAIN SET CV - Parameter Tuning"
      ],
      "metadata": {
        "id": "Wh2v4qj4T8qp"
      }
    },
    {
      "cell_type": "code",
      "source": [
        "data_name=\"MathCONTA_train_full_temp0\" #please add full|problem and tempx to the name: e.g. AIME_full_temp0\n",
        "n_starts=20\n",
        "n_range=[1,2,3,5,7]\n",
        "temp=0.0\n",
        "torch_seed=42\n",
        "seed_rand=42\n",
        "start_offset=5\n",
        "random_starts=True\n",
        "only_problem=False\n",
        "force_reprocess=False\n",
        "verbose=False\n",
        "data=ds_conta\n",
        "\n",
        "\n",
        "MathCONTA_ngram_data_combined = []\n",
        "for model_id in model_ids:\n",
        "  MathCONTA_ngram_data=create_ngram_generation_data(model_id=model_id,ds_conta=data,\n",
        "                                                  model=model, tokenizer=tokenizer, data_name=data_name,\n",
        "                                                  force_reprocess=force_reprocess,n_starts=n_starts,n=n_range,temp=temp,\n",
        "                                                  torch_seed=torch_seed,seed_rand=seed_rand,start_offset=start_offset,random_starts=random_starts,\n",
        "                                                  only_problem=only_problem,verbose=verbose,\n",
        "                                                  base_path_token=dir_token_path)\n",
        "  MathCONTA_ngram_data_combined += MathCONTA_ngram_data\n",
        "\n",
        "len(MathCONTA_ngram_data_combined)"
      ],
      "metadata": {
        "outputId": "e8597b6c-e145-4002-86de-040a35f934e8",
        "colab": {
          "base_uri": "https://localhost:8080/"
        },
        "id": "ahihjqzET8qq"
      },
      "execution_count": null,
      "outputs": [
        {
          "output_type": "stream",
          "name": "stdout",
          "text": [
            "File path: /content/drive/MyDrive/Masterarbeit25/MathCONTA_ngram_generation_data/deepseek-ai/deepseek-math-7b-instruct/MathCONTA_train_full_temp0_nstarts20_n1_2_3_5_7_seed42.json\n",
            "Loading existing n-gram generation data from: /content/drive/MyDrive/Masterarbeit25/MathCONTA_ngram_generation_data/deepseek-ai/deepseek-math-7b-instruct/MathCONTA_train_full_temp0_nstarts20_n1_2_3_5_7_seed42.json\n",
            "File path: /content/drive/MyDrive/Masterarbeit25/MathCONTA_ngram_generation_data/EleutherAI/llemma_7b/MathCONTA_train_full_temp0_nstarts20_n1_2_3_5_7_seed42.json\n",
            "Loading existing n-gram generation data from: /content/drive/MyDrive/Masterarbeit25/MathCONTA_ngram_generation_data/EleutherAI/llemma_7b/MathCONTA_train_full_temp0_nstarts20_n1_2_3_5_7_seed42.json\n",
            "File path: /content/drive/MyDrive/Masterarbeit25/MathCONTA_ngram_generation_data/allenai/OLMo-7B-0724-Instruct-hf/MathCONTA_train_full_temp0_nstarts20_n1_2_3_5_7_seed42.json\n",
            "Loading existing n-gram generation data from: /content/drive/MyDrive/Masterarbeit25/MathCONTA_ngram_generation_data/allenai/OLMo-7B-0724-Instruct-hf/MathCONTA_train_full_temp0_nstarts20_n1_2_3_5_7_seed42.json\n",
            "File path: /content/drive/MyDrive/Masterarbeit25/MathCONTA_ngram_generation_data/allenai/OLMo-2-1124-13B-Instruct/MathCONTA_train_full_temp0_nstarts20_n1_2_3_5_7_seed42.json\n",
            "Loading existing n-gram generation data from: /content/drive/MyDrive/Masterarbeit25/MathCONTA_ngram_generation_data/allenai/OLMo-2-1124-13B-Instruct/MathCONTA_train_full_temp0_nstarts20_n1_2_3_5_7_seed42.json\n"
          ]
        },
        {
          "output_type": "execute_result",
          "data": {
            "text/plain": [
              "280"
            ]
          },
          "metadata": {},
          "execution_count": 9
        }
      ]
    },
    {
      "cell_type": "code",
      "source": [
        "#!Parameter 2D\n",
        "data=MathCONTA_ngram_data_combined\n",
        "feature_col=\"ngram_acc\"\n",
        "label_col=\"LABEL_BINARY\"\n",
        "n_range=n_range\n",
        "cv_folds=5\n",
        "cv_seed=42\n",
        "log_path_base =DRIVE_PATH / \"cdm_data\" / \"MathCONTA_v1\"\n",
        "exp_id=\"overleaf2combi\"#+'_'+category\n",
        "method_name=\"ngram_acc\"\n",
        "model_id = model_id_combi"
      ],
      "metadata": {
        "id": "9YDgiCc-T8qq"
      },
      "execution_count": null,
      "outputs": []
    },
    {
      "cell_type": "code",
      "source": [
        "out_dict=tune_ngram_acc(ngram_data=data,feature_col=feature_col,\n",
        "                          label_col=label_col,cv_folds=cv_folds,cv_seed=cv_seed,\n",
        "                          n_range=n_range, model_id=model_id,data_name=data_name,\n",
        "                          method_name=method_name,log_path_base=log_path_base,exp_id=exp_id)"
      ],
      "metadata": {
        "colab": {
          "base_uri": "https://localhost:8080/"
        },
        "outputId": "1039570f-9351-4f89-9b36-9534397eab11",
        "id": "GfmTaw4AT8qq"
      },
      "execution_count": null,
      "outputs": [
        {
          "output_type": "stream",
          "name": "stdout",
          "text": [
            "Testing n=1 | median_threshold=0.700000 | mean_cvacc_test=0.603571\n",
            "Testing n=2 | median_threshold=0.525000 | mean_cvacc_test=0.567857\n",
            "Testing n=3 | median_threshold=0.375000 | mean_cvacc_test=0.535714\n",
            "Testing n=5 | median_threshold=0.275000 | mean_cvacc_test=0.525000\n",
            "Testing n=7 | median_threshold=0.125000 | mean_cvacc_test=0.471429\n",
            "Best log entry:\n",
            "{'parameter': {'n': 1}, 'global_threshold': 0.675, 'median_threshold': 0.7, 'mean_cvacc_train': 0.603571, 'mean_cvacc_test': 0.603571}\n",
            "Accuracy log saved in /content/drive/MyDrive/Masterarbeit25/cdm_data/MathCONTA_v1/DS_LE_OL_OL2/ngram_acc/MathCONTA_train_full_temp0_accuracylog_overleaf2combi.json\n"
          ]
        }
      ]
    },
    {
      "cell_type": "markdown",
      "source": [
        "## TEST SET EVALUATION"
      ],
      "metadata": {
        "id": "JMMz1aUeT8qq"
      }
    },
    {
      "cell_type": "code",
      "source": [
        "data_name=\"MathCONTA_test_full_temp0\"\n",
        "MathCONTA_ngram_data_combined = []\n",
        "for model_id in model_ids:\n",
        "  MathCONTA_ngram_data=create_ngram_generation_data(model_id=model_id,ds_conta=data,\n",
        "                                                  model=model, tokenizer=tokenizer, data_name=data_name,\n",
        "                                                  force_reprocess=force_reprocess,n_starts=n_starts,n=n_range,temp=temp,\n",
        "                                                  torch_seed=torch_seed,seed_rand=seed_rand,start_offset=start_offset,random_starts=random_starts,\n",
        "                                                  only_problem=only_problem,verbose=verbose,\n",
        "                                                  base_path_token=dir_token_path)\n",
        "  MathCONTA_ngram_data_combined += MathCONTA_ngram_data\n",
        "\n",
        "len(MathCONTA_ngram_data_combined)"
      ],
      "metadata": {
        "outputId": "a8f192dc-4491-4d98-df34-5d8608b2964b",
        "colab": {
          "base_uri": "https://localhost:8080/"
        },
        "id": "658C5Oc7T8qr"
      },
      "execution_count": null,
      "outputs": [
        {
          "output_type": "stream",
          "name": "stdout",
          "text": [
            "File path: /content/drive/MyDrive/Masterarbeit25/MathCONTA_ngram_generation_data/deepseek-ai/deepseek-math-7b-instruct/MathCONTA_test_full_temp0_nstarts20_n1_2_3_5_7_seed42.json\n",
            "Loading existing n-gram generation data from: /content/drive/MyDrive/Masterarbeit25/MathCONTA_ngram_generation_data/deepseek-ai/deepseek-math-7b-instruct/MathCONTA_test_full_temp0_nstarts20_n1_2_3_5_7_seed42.json\n",
            "File path: /content/drive/MyDrive/Masterarbeit25/MathCONTA_ngram_generation_data/EleutherAI/llemma_7b/MathCONTA_test_full_temp0_nstarts20_n1_2_3_5_7_seed42.json\n",
            "Loading existing n-gram generation data from: /content/drive/MyDrive/Masterarbeit25/MathCONTA_ngram_generation_data/EleutherAI/llemma_7b/MathCONTA_test_full_temp0_nstarts20_n1_2_3_5_7_seed42.json\n",
            "File path: /content/drive/MyDrive/Masterarbeit25/MathCONTA_ngram_generation_data/allenai/OLMo-7B-0724-Instruct-hf/MathCONTA_test_full_temp0_nstarts20_n1_2_3_5_7_seed42.json\n",
            "Loading existing n-gram generation data from: /content/drive/MyDrive/Masterarbeit25/MathCONTA_ngram_generation_data/allenai/OLMo-7B-0724-Instruct-hf/MathCONTA_test_full_temp0_nstarts20_n1_2_3_5_7_seed42.json\n",
            "File path: /content/drive/MyDrive/Masterarbeit25/MathCONTA_ngram_generation_data/allenai/OLMo-2-1124-13B-Instruct/MathCONTA_test_full_temp0_nstarts20_n1_2_3_5_7_seed42.json\n",
            "Loading existing n-gram generation data from: /content/drive/MyDrive/Masterarbeit25/MathCONTA_ngram_generation_data/allenai/OLMo-2-1124-13B-Instruct/MathCONTA_test_full_temp0_nstarts20_n1_2_3_5_7_seed42.json\n"
          ]
        },
        {
          "output_type": "execute_result",
          "data": {
            "text/plain": [
              "120"
            ]
          },
          "metadata": {},
          "execution_count": 12
        }
      ]
    },
    {
      "cell_type": "code",
      "source": [
        "#!Parameter\n",
        "parameter1=1\n",
        "theta=0.675\n",
        "exp_id_test=exp_id\n",
        "method_name=method_name\n",
        "metric_col=feature_col\n",
        "log_path_base=log_path_base\n",
        "model_id=model_id_combi\n",
        "\n",
        "ngram_df=get_ngram_df_from_generation_data(MathCONTA_ngram_data_combined, n=parameter1)\n",
        "len(ngram_df)"
      ],
      "metadata": {
        "outputId": "7e9b020b-86a2-4d91-c322-36c1613f0647",
        "colab": {
          "base_uri": "https://localhost:8080/"
        },
        "id": "4gu_ls_yT8qr"
      },
      "execution_count": null,
      "outputs": [
        {
          "output_type": "execute_result",
          "data": {
            "text/plain": [
              "120"
            ]
          },
          "metadata": {},
          "execution_count": 14
        }
      ]
    },
    {
      "cell_type": "code",
      "source": [
        "test_dict=evaluate_method_standard(\n",
        "    ngram_df,\n",
        "    metric_col=metric_col,\n",
        "    theta=theta,\n",
        "    model_id=model_id,\n",
        "    data_name=data_name,\n",
        "    method_name=method_name,\n",
        "    parameter1=parameter1,\n",
        "    n_bootstrap=1000,\n",
        "    seed=42\n",
        ")\n",
        "test_dict"
      ],
      "metadata": {
        "outputId": "1cefdb0c-809d-4e7a-8eba-26b627557c39",
        "colab": {
          "base_uri": "https://localhost:8080/"
        },
        "id": "PgE7QFxJT8qs"
      },
      "execution_count": null,
      "outputs": [
        {
          "output_type": "execute_result",
          "data": {
            "text/plain": [
              "{'model_id': 'DS_LE_OL_OL2',\n",
              " 'data_name': 'MathCONTA_test_full_temp0',\n",
              " 'datetime': '2025-04-12T18:47:43.987977',\n",
              " 'method_name': 'ngram_acc',\n",
              " 'parameter': {'parameter1': 1, 'parameter2': None, 'theta': '0.675'},\n",
              " 'metrics': {'accuracy': 0.525,\n",
              "  'accuracy_95CI': (0.43333333333333335, 0.6083333333333333),\n",
              "  'precision': 0.5254237288135594,\n",
              "  'recall': 0.5166666666666667,\n",
              "  'f1_score': 0.5210084033613446,\n",
              "  'confusion_matrix': [[32, 28], [29, 31]],\n",
              "  'mcnemar_b': 32,\n",
              "  'mcnemar_c': 29,\n",
              "  'mcnemar_p_value': 0.7981526273057179},\n",
              " 'n_bootstrap': 1000,\n",
              " 'seed': 42}"
            ]
          },
          "metadata": {},
          "execution_count": 15
        }
      ]
    },
    {
      "cell_type": "code",
      "source": [
        "save_accuracy_log(log_path_base=log_path_base,model_id=model_id,method_name=method_name,exp_id=exp_id_test, data_name=data_name,out_dict=test_dict)"
      ],
      "metadata": {
        "outputId": "ee0e9bc2-9e67-4af7-a70c-9e639b44f277",
        "colab": {
          "base_uri": "https://localhost:8080/"
        },
        "id": "-U1DXVRkT8qs"
      },
      "execution_count": null,
      "outputs": [
        {
          "output_type": "stream",
          "name": "stdout",
          "text": [
            "Accuracy log saved in /content/drive/MyDrive/Masterarbeit25/cdm_data/MathCONTA_v1/DS_LE_OL_OL2/ngram_acc/MathCONTA_test_full_temp0_accuracylog_overleaf2combi.json\n"
          ]
        }
      ]
    }
  ]
}