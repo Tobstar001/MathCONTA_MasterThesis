{
  "nbformat": 4,
  "nbformat_minor": 0,
  "metadata": {
    "colab": {
      "provenance": [],
      "collapsed_sections": [
        "8JQlvvUB3gMu"
      ],
      "authorship_tag": "ABX9TyO4QXA/TPlbgRbI07FP/aR7",
      "include_colab_link": true
    },
    "kernelspec": {
      "name": "python3",
      "display_name": "Python 3"
    },
    "language_info": {
      "name": "python"
    }
  },
  "cells": [
    {
      "cell_type": "markdown",
      "metadata": {
        "id": "view-in-github",
        "colab_type": "text"
      },
      "source": [
        "<a href=\"https://colab.research.google.com/github/friederrr/proof_contamination/blob/main/code/CDM_eval/CD_pipeline_CV_ngram_cdd.ipynb\" target=\"_parent\"><img src=\"https://colab.research.google.com/assets/colab-badge.svg\" alt=\"Open In Colab\"/></a>"
      ]
    },
    {
      "cell_type": "markdown",
      "source": [
        "# CD PIPELINE (mit CV) n-gram CDD"
      ],
      "metadata": {
        "id": "w6JW4XKqueEl"
      }
    },
    {
      "cell_type": "code",
      "source": [
        "%%capture\n",
        "!pip install datasets"
      ],
      "metadata": {
        "id": "40Cystb9HB6e"
      },
      "execution_count": null,
      "outputs": []
    },
    {
      "cell_type": "code",
      "source": [
        "#mount google drive\n",
        "from google.colab import drive\n",
        "drive.mount('/content/drive', force_remount=True)"
      ],
      "metadata": {
        "colab": {
          "base_uri": "https://localhost:8080/"
        },
        "id": "C305WhL1t-ND",
        "outputId": "a994d1a5-e5a1-4a3e-865e-1eab74dc77b0"
      },
      "execution_count": null,
      "outputs": [
        {
          "output_type": "stream",
          "name": "stdout",
          "text": [
            "Mounted at /content/drive\n"
          ]
        }
      ]
    },
    {
      "cell_type": "code",
      "execution_count": null,
      "metadata": {
        "id": "PA9MXN_ltYjj"
      },
      "outputs": [],
      "source": [
        "import random\n",
        "import numpy as np\n",
        "import pandas as pd\n",
        "import copy\n",
        "import matplotlib.pyplot as plt\n",
        "from scipy.optimize import curve_fit\n",
        "import torch\n",
        "import json\n",
        "from datetime import datetime\n",
        "import itertools\n",
        "from itertools import cycle, product\n",
        "import re\n",
        "from transformers import AutoModelForCausalLM, AutoTokenizer\n",
        "from datasets import load_dataset\n",
        "from pathlib import Path\n",
        "import statistics\n",
        "from sklearn.model_selection import StratifiedKFold"
      ]
    },
    {
      "cell_type": "code",
      "source": [
        "from CDMs_functions_v1 import *"
      ],
      "metadata": {
        "id": "QqKl5Cugcfz4"
      },
      "execution_count": null,
      "outputs": []
    },
    {
      "cell_type": "markdown",
      "source": [
        "## Model Selektion\n",
        "\n",
        "**OLMO**:\n",
        "\n",
        "- \"allenai/OLMo-7B-0724-hf\": Downlaod (F32): (27 GB), GPU-RAM (bfloat16): 14 GB (T4 sufficient)\n",
        "\n",
        "- \"allenai/OLMo-7B-0724-SFT-hf\": Download (BF16) (14 GB), GPU-RAM (14 GB)\n",
        "\n",
        "- \"allenai/OLMo-7B-0724-Instruct-hf\": Download (BF16) (14 GB), GPU-RAM (14 GB)\n",
        "\n",
        "- \"allenai/OLMo-2-1124-13B-Instruct\": Download (BF16) (28 GB), GPU-RAM (27 GB) -> works fine with A100!\n",
        "\n",
        "- \"allenai/OLMo-2-0325-32B-Instruct\": Download (BF16) (65 GB), GPU-RAM (34 GB). It needs about 15min to answer one question with A100 (meta-device offloading). However, besides from that, the pipeline was compatible. Though, it is not recommended to use it with A100.\n",
        "\n",
        "**DEEPSEEK**:\n",
        "- \"deepseek-ai/deepseek-math-7b-instruct\":\n",
        "\n",
        "**LEMMA**:\n",
        "- \"EleutherAI/llemma_7b\""
      ],
      "metadata": {
        "id": "UumRYLoGomJ6"
      }
    },
    {
      "cell_type": "code",
      "source": [
        "#!Parameter\n",
        "model_id = \"allenai/OLMo-2-1124-13B-Instruct\"\n",
        "DRIVE_PATH=Path('/content/drive/MyDrive/Masterarbeit25/')"
      ],
      "metadata": {
        "id": "nMuaVQOquI_E"
      },
      "execution_count": null,
      "outputs": []
    },
    {
      "cell_type": "code",
      "source": [
        "dir_token_path=DRIVE_PATH / \"MathCONTA_ngram_cdd_generation_data\"\n",
        "file_paths=list_files_in_directory(dir_token_path, model_id)"
      ],
      "metadata": {
        "colab": {
          "base_uri": "https://localhost:8080/"
        },
        "id": "jJWEE7f1o_V5",
        "outputId": "030ab3e8-6e54-495e-f685-46472cf078c1"
      },
      "execution_count": null,
      "outputs": [
        {
          "output_type": "stream",
          "name": "stdout",
          "text": [
            "Files in /content/drive/MyDrive/Masterarbeit25/MathCONTA_ngram_cdd_generation_data/allenai/OLMo-2-1124-13B-Instruct:\n",
            "\n",
            "OLMo-2-1124-13B-Instruct/notes.gdoc\n",
            "OLMo-2-1124-13B-Instruct/MathCONTA_full_nstarts3_n10_20_30_sample50.json\n",
            "OLMo-2-1124-13B-Instruct/MathCONTA_train_full_nstarts3_n10_20_30_sample50.json\n",
            "OLMo-2-1124-13B-Instruct/MathCONTA_test_full_nstarts3_n10_20_30_sample50.json\n",
            "Category_split/word_full_nstarts3_n10_20_30_sample50.json\n",
            "Category_split/amc8_full_nstarts3_n10_20_30_sample50.json\n",
            "Category_split/aime_full_nstarts3_n10_20_30_sample50.json\n",
            "Category_split/Forum_full_nstarts3_n10_20_30_sample50.json\n",
            "Category_split/MathCONTA_full_nstarts3_n10_20_30_sample50.json\n"
          ]
        }
      ]
    },
    {
      "cell_type": "code",
      "source": [
        "#merge_json_files(file_paths, dir_token_path / model_id / \"MathCONTA_full_nstarts3_n10_20_30_sample50.json\")"
      ],
      "metadata": {
        "id": "BEjvTMp_5BO2"
      },
      "execution_count": null,
      "outputs": []
    },
    {
      "cell_type": "code",
      "source": [
        "#if file exists you don't have to load the models\n",
        "load_models=False\n",
        "if load_models:\n",
        "  model = AutoModelForCausalLM.from_pretrained(model_id, torch_dtype=torch.bfloat16, device_map='auto')\n",
        "  tokenizer = AutoTokenizer.from_pretrained(model_id)\n",
        "else:\n",
        "  model = None\n",
        "  tokenizer = AutoTokenizer.from_pretrained(model_id) #tokenizer needed for count\n",
        "  ds_conta = None"
      ],
      "metadata": {
        "id": "VYZtyL4AyeYN"
      },
      "execution_count": null,
      "outputs": []
    },
    {
      "cell_type": "markdown",
      "source": [
        "## DATA Processing/Loading (Standard)"
      ],
      "metadata": {
        "id": "NhWCX-W2Digm"
      }
    },
    {
      "cell_type": "code",
      "source": [
        "#!Parameter\n",
        "repo_id = \"Tobstar001/MathCONTA\"\n",
        "split = \"test\"\n",
        "config_name=\"core\"\n",
        "\n",
        "ds_conta = load_dataset(path=repo_id,name=config_name,split=split)\n",
        "ds_conta_f = ds_conta.filter(lambda example: example[\"CATEGORY\"] == \"word-problems\")"
      ],
      "metadata": {
        "id": "1DV-oXsPmJCE"
      },
      "execution_count": null,
      "outputs": []
    },
    {
      "cell_type": "code",
      "source": [
        "#ds_conta_f = ds_conta.filter(lambda example: example[\"CATEGORY\"] == \"Forum\")\n",
        "model_config = {\n",
        "    \"model_id\": model_id,\n",
        "    \"model\": model,\n",
        "    \"tokenizer\": tokenizer,\n",
        "    \"torch_seed\": 42,\n",
        "}\n",
        "\n",
        "method_config = {\n",
        "    \"n_starts\": 3,\n",
        "    \"sample_size\": 50,\n",
        "    \"n_range\": [10,20,30],\n",
        "    \"random_starts\": False,\n",
        "    \"seed_rand\": 42,\n",
        "    \"start_offset\": 10,\n",
        "    \"verbose\": False,\n",
        "\n",
        "}\n",
        "\n",
        "data_config = {\n",
        "    \"ds_conta\": ds_conta,\n",
        "    \"only_problem\": False,\n",
        "    \"force_reprocess\": False,\n",
        "    \"data_name\": \"MathCONTA_full\",\n",
        "    \"base_path_generation\": DRIVE_PATH / \"MathCONTA_ngram_cdd_generation_data\"\n",
        "}\n",
        "\n",
        "ngram_cdd_data=create_ngram_cdd_generation_data(**model_config, **method_config, **data_config)"
      ],
      "metadata": {
        "id": "9aY9sxx9mZqR",
        "outputId": "fdcea01d-20bf-4b6b-b212-f141f4427aef",
        "colab": {
          "base_uri": "https://localhost:8080/"
        }
      },
      "execution_count": null,
      "outputs": [
        {
          "output_type": "stream",
          "name": "stdout",
          "text": [
            "File path: /content/drive/MyDrive/Masterarbeit25/MathCONTA_ngram_cdd_generation_data/allenai/OLMo-2-1124-13B-Instruct/MathCONTA_full_nstarts3_n10_20_30_sample50.json\n",
            "Loading existing n-gram generation data from: /content/drive/MyDrive/Masterarbeit25/MathCONTA_ngram_cdd_generation_data/allenai/OLMo-2-1124-13B-Instruct/MathCONTA_full_nstarts3_n10_20_30_sample50.json\n"
          ]
        }
      ]
    },
    {
      "cell_type": "code",
      "source": [
        "ngram_cdd_df=get_ngram_cdd_df_from_generation_data(ngram_cdd_data,10,0.0)\n",
        "ngram_cdd_df"
      ],
      "metadata": {
        "colab": {
          "base_uri": "https://localhost:8080/",
          "height": 424
        },
        "id": "rh7zWCO13ffa",
        "outputId": "5554d8ee-c361-47c6-f805-a48380db8c35",
        "collapsed": true
      },
      "execution_count": null,
      "outputs": [
        {
          "output_type": "execute_result",
          "data": {
            "text/plain": [
              "               ID CATEGORY  LABEL  LABEL_BINARY   n  alpha  ngram_cdd_mean\n",
              "0      owm-amc8-1     AMC8  Conta             1  10    0.0        0.193333\n",
              "1      owm-amc8-2     AMC8  Conta             1  10    0.0        0.120000\n",
              "2      owm-amc8-3     AMC8  Conta             1  10    0.0        0.000000\n",
              "3      owm-amc8-4     AMC8  Conta             1  10    0.0        0.100000\n",
              "4      owm-amc8-5     AMC8  Conta             1  10    0.0        0.180000\n",
              "..            ...      ...    ...           ...  ..    ...             ...\n",
              "95   clean-aime-6     AIME  Clean             0  10    0.0        0.000000\n",
              "96   clean-aime-7     AIME  Clean             0  10    0.0        0.160000\n",
              "97   clean-aime-8     AIME  Clean             0  10    0.0        0.333333\n",
              "98   clean-aime-9     AIME  Clean             0  10    0.0        0.166667\n",
              "99  clean-aime-10     AIME  Clean             0  10    0.0        0.000000\n",
              "\n",
              "[100 rows x 7 columns]"
            ],
            "text/html": [
              "\n",
              "  <div id=\"df-24c11573-76af-4177-a1ee-0bd8ebef16ea\" class=\"colab-df-container\">\n",
              "    <div>\n",
              "<style scoped>\n",
              "    .dataframe tbody tr th:only-of-type {\n",
              "        vertical-align: middle;\n",
              "    }\n",
              "\n",
              "    .dataframe tbody tr th {\n",
              "        vertical-align: top;\n",
              "    }\n",
              "\n",
              "    .dataframe thead th {\n",
              "        text-align: right;\n",
              "    }\n",
              "</style>\n",
              "<table border=\"1\" class=\"dataframe\">\n",
              "  <thead>\n",
              "    <tr style=\"text-align: right;\">\n",
              "      <th></th>\n",
              "      <th>ID</th>\n",
              "      <th>CATEGORY</th>\n",
              "      <th>LABEL</th>\n",
              "      <th>LABEL_BINARY</th>\n",
              "      <th>n</th>\n",
              "      <th>alpha</th>\n",
              "      <th>ngram_cdd_mean</th>\n",
              "    </tr>\n",
              "  </thead>\n",
              "  <tbody>\n",
              "    <tr>\n",
              "      <th>0</th>\n",
              "      <td>owm-amc8-1</td>\n",
              "      <td>AMC8</td>\n",
              "      <td>Conta</td>\n",
              "      <td>1</td>\n",
              "      <td>10</td>\n",
              "      <td>0.0</td>\n",
              "      <td>0.193333</td>\n",
              "    </tr>\n",
              "    <tr>\n",
              "      <th>1</th>\n",
              "      <td>owm-amc8-2</td>\n",
              "      <td>AMC8</td>\n",
              "      <td>Conta</td>\n",
              "      <td>1</td>\n",
              "      <td>10</td>\n",
              "      <td>0.0</td>\n",
              "      <td>0.120000</td>\n",
              "    </tr>\n",
              "    <tr>\n",
              "      <th>2</th>\n",
              "      <td>owm-amc8-3</td>\n",
              "      <td>AMC8</td>\n",
              "      <td>Conta</td>\n",
              "      <td>1</td>\n",
              "      <td>10</td>\n",
              "      <td>0.0</td>\n",
              "      <td>0.000000</td>\n",
              "    </tr>\n",
              "    <tr>\n",
              "      <th>3</th>\n",
              "      <td>owm-amc8-4</td>\n",
              "      <td>AMC8</td>\n",
              "      <td>Conta</td>\n",
              "      <td>1</td>\n",
              "      <td>10</td>\n",
              "      <td>0.0</td>\n",
              "      <td>0.100000</td>\n",
              "    </tr>\n",
              "    <tr>\n",
              "      <th>4</th>\n",
              "      <td>owm-amc8-5</td>\n",
              "      <td>AMC8</td>\n",
              "      <td>Conta</td>\n",
              "      <td>1</td>\n",
              "      <td>10</td>\n",
              "      <td>0.0</td>\n",
              "      <td>0.180000</td>\n",
              "    </tr>\n",
              "    <tr>\n",
              "      <th>...</th>\n",
              "      <td>...</td>\n",
              "      <td>...</td>\n",
              "      <td>...</td>\n",
              "      <td>...</td>\n",
              "      <td>...</td>\n",
              "      <td>...</td>\n",
              "      <td>...</td>\n",
              "    </tr>\n",
              "    <tr>\n",
              "      <th>95</th>\n",
              "      <td>clean-aime-6</td>\n",
              "      <td>AIME</td>\n",
              "      <td>Clean</td>\n",
              "      <td>0</td>\n",
              "      <td>10</td>\n",
              "      <td>0.0</td>\n",
              "      <td>0.000000</td>\n",
              "    </tr>\n",
              "    <tr>\n",
              "      <th>96</th>\n",
              "      <td>clean-aime-7</td>\n",
              "      <td>AIME</td>\n",
              "      <td>Clean</td>\n",
              "      <td>0</td>\n",
              "      <td>10</td>\n",
              "      <td>0.0</td>\n",
              "      <td>0.160000</td>\n",
              "    </tr>\n",
              "    <tr>\n",
              "      <th>97</th>\n",
              "      <td>clean-aime-8</td>\n",
              "      <td>AIME</td>\n",
              "      <td>Clean</td>\n",
              "      <td>0</td>\n",
              "      <td>10</td>\n",
              "      <td>0.0</td>\n",
              "      <td>0.333333</td>\n",
              "    </tr>\n",
              "    <tr>\n",
              "      <th>98</th>\n",
              "      <td>clean-aime-9</td>\n",
              "      <td>AIME</td>\n",
              "      <td>Clean</td>\n",
              "      <td>0</td>\n",
              "      <td>10</td>\n",
              "      <td>0.0</td>\n",
              "      <td>0.166667</td>\n",
              "    </tr>\n",
              "    <tr>\n",
              "      <th>99</th>\n",
              "      <td>clean-aime-10</td>\n",
              "      <td>AIME</td>\n",
              "      <td>Clean</td>\n",
              "      <td>0</td>\n",
              "      <td>10</td>\n",
              "      <td>0.0</td>\n",
              "      <td>0.000000</td>\n",
              "    </tr>\n",
              "  </tbody>\n",
              "</table>\n",
              "<p>100 rows × 7 columns</p>\n",
              "</div>\n",
              "    <div class=\"colab-df-buttons\">\n",
              "\n",
              "  <div class=\"colab-df-container\">\n",
              "    <button class=\"colab-df-convert\" onclick=\"convertToInteractive('df-24c11573-76af-4177-a1ee-0bd8ebef16ea')\"\n",
              "            title=\"Convert this dataframe to an interactive table.\"\n",
              "            style=\"display:none;\">\n",
              "\n",
              "  <svg xmlns=\"http://www.w3.org/2000/svg\" height=\"24px\" viewBox=\"0 -960 960 960\">\n",
              "    <path d=\"M120-120v-720h720v720H120Zm60-500h600v-160H180v160Zm220 220h160v-160H400v160Zm0 220h160v-160H400v160ZM180-400h160v-160H180v160Zm440 0h160v-160H620v160ZM180-180h160v-160H180v160Zm440 0h160v-160H620v160Z\"/>\n",
              "  </svg>\n",
              "    </button>\n",
              "\n",
              "  <style>\n",
              "    .colab-df-container {\n",
              "      display:flex;\n",
              "      gap: 12px;\n",
              "    }\n",
              "\n",
              "    .colab-df-convert {\n",
              "      background-color: #E8F0FE;\n",
              "      border: none;\n",
              "      border-radius: 50%;\n",
              "      cursor: pointer;\n",
              "      display: none;\n",
              "      fill: #1967D2;\n",
              "      height: 32px;\n",
              "      padding: 0 0 0 0;\n",
              "      width: 32px;\n",
              "    }\n",
              "\n",
              "    .colab-df-convert:hover {\n",
              "      background-color: #E2EBFA;\n",
              "      box-shadow: 0px 1px 2px rgba(60, 64, 67, 0.3), 0px 1px 3px 1px rgba(60, 64, 67, 0.15);\n",
              "      fill: #174EA6;\n",
              "    }\n",
              "\n",
              "    .colab-df-buttons div {\n",
              "      margin-bottom: 4px;\n",
              "    }\n",
              "\n",
              "    [theme=dark] .colab-df-convert {\n",
              "      background-color: #3B4455;\n",
              "      fill: #D2E3FC;\n",
              "    }\n",
              "\n",
              "    [theme=dark] .colab-df-convert:hover {\n",
              "      background-color: #434B5C;\n",
              "      box-shadow: 0px 1px 3px 1px rgba(0, 0, 0, 0.15);\n",
              "      filter: drop-shadow(0px 1px 2px rgba(0, 0, 0, 0.3));\n",
              "      fill: #FFFFFF;\n",
              "    }\n",
              "  </style>\n",
              "\n",
              "    <script>\n",
              "      const buttonEl =\n",
              "        document.querySelector('#df-24c11573-76af-4177-a1ee-0bd8ebef16ea button.colab-df-convert');\n",
              "      buttonEl.style.display =\n",
              "        google.colab.kernel.accessAllowed ? 'block' : 'none';\n",
              "\n",
              "      async function convertToInteractive(key) {\n",
              "        const element = document.querySelector('#df-24c11573-76af-4177-a1ee-0bd8ebef16ea');\n",
              "        const dataTable =\n",
              "          await google.colab.kernel.invokeFunction('convertToInteractive',\n",
              "                                                    [key], {});\n",
              "        if (!dataTable) return;\n",
              "\n",
              "        const docLinkHtml = 'Like what you see? Visit the ' +\n",
              "          '<a target=\"_blank\" href=https://colab.research.google.com/notebooks/data_table.ipynb>data table notebook</a>'\n",
              "          + ' to learn more about interactive tables.';\n",
              "        element.innerHTML = '';\n",
              "        dataTable['output_type'] = 'display_data';\n",
              "        await google.colab.output.renderOutput(dataTable, element);\n",
              "        const docLink = document.createElement('div');\n",
              "        docLink.innerHTML = docLinkHtml;\n",
              "        element.appendChild(docLink);\n",
              "      }\n",
              "    </script>\n",
              "  </div>\n",
              "\n",
              "\n",
              "<div id=\"df-57819c66-0ffa-48bc-a0ec-b99d928953df\">\n",
              "  <button class=\"colab-df-quickchart\" onclick=\"quickchart('df-57819c66-0ffa-48bc-a0ec-b99d928953df')\"\n",
              "            title=\"Suggest charts\"\n",
              "            style=\"display:none;\">\n",
              "\n",
              "<svg xmlns=\"http://www.w3.org/2000/svg\" height=\"24px\"viewBox=\"0 0 24 24\"\n",
              "     width=\"24px\">\n",
              "    <g>\n",
              "        <path d=\"M19 3H5c-1.1 0-2 .9-2 2v14c0 1.1.9 2 2 2h14c1.1 0 2-.9 2-2V5c0-1.1-.9-2-2-2zM9 17H7v-7h2v7zm4 0h-2V7h2v10zm4 0h-2v-4h2v4z\"/>\n",
              "    </g>\n",
              "</svg>\n",
              "  </button>\n",
              "\n",
              "<style>\n",
              "  .colab-df-quickchart {\n",
              "      --bg-color: #E8F0FE;\n",
              "      --fill-color: #1967D2;\n",
              "      --hover-bg-color: #E2EBFA;\n",
              "      --hover-fill-color: #174EA6;\n",
              "      --disabled-fill-color: #AAA;\n",
              "      --disabled-bg-color: #DDD;\n",
              "  }\n",
              "\n",
              "  [theme=dark] .colab-df-quickchart {\n",
              "      --bg-color: #3B4455;\n",
              "      --fill-color: #D2E3FC;\n",
              "      --hover-bg-color: #434B5C;\n",
              "      --hover-fill-color: #FFFFFF;\n",
              "      --disabled-bg-color: #3B4455;\n",
              "      --disabled-fill-color: #666;\n",
              "  }\n",
              "\n",
              "  .colab-df-quickchart {\n",
              "    background-color: var(--bg-color);\n",
              "    border: none;\n",
              "    border-radius: 50%;\n",
              "    cursor: pointer;\n",
              "    display: none;\n",
              "    fill: var(--fill-color);\n",
              "    height: 32px;\n",
              "    padding: 0;\n",
              "    width: 32px;\n",
              "  }\n",
              "\n",
              "  .colab-df-quickchart:hover {\n",
              "    background-color: var(--hover-bg-color);\n",
              "    box-shadow: 0 1px 2px rgba(60, 64, 67, 0.3), 0 1px 3px 1px rgba(60, 64, 67, 0.15);\n",
              "    fill: var(--button-hover-fill-color);\n",
              "  }\n",
              "\n",
              "  .colab-df-quickchart-complete:disabled,\n",
              "  .colab-df-quickchart-complete:disabled:hover {\n",
              "    background-color: var(--disabled-bg-color);\n",
              "    fill: var(--disabled-fill-color);\n",
              "    box-shadow: none;\n",
              "  }\n",
              "\n",
              "  .colab-df-spinner {\n",
              "    border: 2px solid var(--fill-color);\n",
              "    border-color: transparent;\n",
              "    border-bottom-color: var(--fill-color);\n",
              "    animation:\n",
              "      spin 1s steps(1) infinite;\n",
              "  }\n",
              "\n",
              "  @keyframes spin {\n",
              "    0% {\n",
              "      border-color: transparent;\n",
              "      border-bottom-color: var(--fill-color);\n",
              "      border-left-color: var(--fill-color);\n",
              "    }\n",
              "    20% {\n",
              "      border-color: transparent;\n",
              "      border-left-color: var(--fill-color);\n",
              "      border-top-color: var(--fill-color);\n",
              "    }\n",
              "    30% {\n",
              "      border-color: transparent;\n",
              "      border-left-color: var(--fill-color);\n",
              "      border-top-color: var(--fill-color);\n",
              "      border-right-color: var(--fill-color);\n",
              "    }\n",
              "    40% {\n",
              "      border-color: transparent;\n",
              "      border-right-color: var(--fill-color);\n",
              "      border-top-color: var(--fill-color);\n",
              "    }\n",
              "    60% {\n",
              "      border-color: transparent;\n",
              "      border-right-color: var(--fill-color);\n",
              "    }\n",
              "    80% {\n",
              "      border-color: transparent;\n",
              "      border-right-color: var(--fill-color);\n",
              "      border-bottom-color: var(--fill-color);\n",
              "    }\n",
              "    90% {\n",
              "      border-color: transparent;\n",
              "      border-bottom-color: var(--fill-color);\n",
              "    }\n",
              "  }\n",
              "</style>\n",
              "\n",
              "  <script>\n",
              "    async function quickchart(key) {\n",
              "      const quickchartButtonEl =\n",
              "        document.querySelector('#' + key + ' button');\n",
              "      quickchartButtonEl.disabled = true;  // To prevent multiple clicks.\n",
              "      quickchartButtonEl.classList.add('colab-df-spinner');\n",
              "      try {\n",
              "        const charts = await google.colab.kernel.invokeFunction(\n",
              "            'suggestCharts', [key], {});\n",
              "      } catch (error) {\n",
              "        console.error('Error during call to suggestCharts:', error);\n",
              "      }\n",
              "      quickchartButtonEl.classList.remove('colab-df-spinner');\n",
              "      quickchartButtonEl.classList.add('colab-df-quickchart-complete');\n",
              "    }\n",
              "    (() => {\n",
              "      let quickchartButtonEl =\n",
              "        document.querySelector('#df-57819c66-0ffa-48bc-a0ec-b99d928953df button');\n",
              "      quickchartButtonEl.style.display =\n",
              "        google.colab.kernel.accessAllowed ? 'block' : 'none';\n",
              "    })();\n",
              "  </script>\n",
              "</div>\n",
              "\n",
              "  <div id=\"id_7abf4bc9-9294-47c8-a3da-2e893b6d81ad\">\n",
              "    <style>\n",
              "      .colab-df-generate {\n",
              "        background-color: #E8F0FE;\n",
              "        border: none;\n",
              "        border-radius: 50%;\n",
              "        cursor: pointer;\n",
              "        display: none;\n",
              "        fill: #1967D2;\n",
              "        height: 32px;\n",
              "        padding: 0 0 0 0;\n",
              "        width: 32px;\n",
              "      }\n",
              "\n",
              "      .colab-df-generate:hover {\n",
              "        background-color: #E2EBFA;\n",
              "        box-shadow: 0px 1px 2px rgba(60, 64, 67, 0.3), 0px 1px 3px 1px rgba(60, 64, 67, 0.15);\n",
              "        fill: #174EA6;\n",
              "      }\n",
              "\n",
              "      [theme=dark] .colab-df-generate {\n",
              "        background-color: #3B4455;\n",
              "        fill: #D2E3FC;\n",
              "      }\n",
              "\n",
              "      [theme=dark] .colab-df-generate:hover {\n",
              "        background-color: #434B5C;\n",
              "        box-shadow: 0px 1px 3px 1px rgba(0, 0, 0, 0.15);\n",
              "        filter: drop-shadow(0px 1px 2px rgba(0, 0, 0, 0.3));\n",
              "        fill: #FFFFFF;\n",
              "      }\n",
              "    </style>\n",
              "    <button class=\"colab-df-generate\" onclick=\"generateWithVariable('ngram_cdd_df')\"\n",
              "            title=\"Generate code using this dataframe.\"\n",
              "            style=\"display:none;\">\n",
              "\n",
              "  <svg xmlns=\"http://www.w3.org/2000/svg\" height=\"24px\"viewBox=\"0 0 24 24\"\n",
              "       width=\"24px\">\n",
              "    <path d=\"M7,19H8.4L18.45,9,17,7.55,7,17.6ZM5,21V16.75L18.45,3.32a2,2,0,0,1,2.83,0l1.4,1.43a1.91,1.91,0,0,1,.58,1.4,1.91,1.91,0,0,1-.58,1.4L9.25,21ZM18.45,9,17,7.55Zm-12,3A5.31,5.31,0,0,0,4.9,8.1,5.31,5.31,0,0,0,1,6.5,5.31,5.31,0,0,0,4.9,4.9,5.31,5.31,0,0,0,6.5,1,5.31,5.31,0,0,0,8.1,4.9,5.31,5.31,0,0,0,12,6.5,5.46,5.46,0,0,0,6.5,12Z\"/>\n",
              "  </svg>\n",
              "    </button>\n",
              "    <script>\n",
              "      (() => {\n",
              "      const buttonEl =\n",
              "        document.querySelector('#id_7abf4bc9-9294-47c8-a3da-2e893b6d81ad button.colab-df-generate');\n",
              "      buttonEl.style.display =\n",
              "        google.colab.kernel.accessAllowed ? 'block' : 'none';\n",
              "\n",
              "      buttonEl.onclick = () => {\n",
              "        google.colab.notebook.generateWithVariable('ngram_cdd_df');\n",
              "      }\n",
              "      })();\n",
              "    </script>\n",
              "  </div>\n",
              "\n",
              "    </div>\n",
              "  </div>\n"
            ],
            "application/vnd.google.colaboratory.intrinsic+json": {
              "type": "dataframe",
              "variable_name": "ngram_cdd_df",
              "summary": "{\n  \"name\": \"ngram_cdd_df\",\n  \"rows\": 100,\n  \"fields\": [\n    {\n      \"column\": \"ID\",\n      \"properties\": {\n        \"dtype\": \"string\",\n        \"num_unique_values\": 100,\n        \"samples\": [\n          \"owm-aime-4\",\n          \"clean-word-9\",\n          \"clean-forum-1\"\n        ],\n        \"semantic_type\": \"\",\n        \"description\": \"\"\n      }\n    },\n    {\n      \"column\": \"CATEGORY\",\n      \"properties\": {\n        \"dtype\": \"category\",\n        \"num_unique_values\": 4,\n        \"samples\": [\n          \"word-problems\",\n          \"AIME\",\n          \"AMC8\"\n        ],\n        \"semantic_type\": \"\",\n        \"description\": \"\"\n      }\n    },\n    {\n      \"column\": \"LABEL\",\n      \"properties\": {\n        \"dtype\": \"category\",\n        \"num_unique_values\": 2,\n        \"samples\": [\n          \"Clean\",\n          \"Conta\"\n        ],\n        \"semantic_type\": \"\",\n        \"description\": \"\"\n      }\n    },\n    {\n      \"column\": \"LABEL_BINARY\",\n      \"properties\": {\n        \"dtype\": \"number\",\n        \"std\": 0,\n        \"min\": 0,\n        \"max\": 1,\n        \"num_unique_values\": 2,\n        \"samples\": [\n          0,\n          1\n        ],\n        \"semantic_type\": \"\",\n        \"description\": \"\"\n      }\n    },\n    {\n      \"column\": \"n\",\n      \"properties\": {\n        \"dtype\": \"number\",\n        \"std\": 0,\n        \"min\": 10,\n        \"max\": 10,\n        \"num_unique_values\": 1,\n        \"samples\": [\n          10\n        ],\n        \"semantic_type\": \"\",\n        \"description\": \"\"\n      }\n    },\n    {\n      \"column\": \"alpha\",\n      \"properties\": {\n        \"dtype\": \"number\",\n        \"std\": 0.0,\n        \"min\": 0.0,\n        \"max\": 0.0,\n        \"num_unique_values\": 1,\n        \"samples\": [\n          0.0\n        ],\n        \"semantic_type\": \"\",\n        \"description\": \"\"\n      }\n    },\n    {\n      \"column\": \"ngram_cdd_mean\",\n      \"properties\": {\n        \"dtype\": \"number\",\n        \"std\": 0.08153135908366291,\n        \"min\": 0.0,\n        \"max\": 0.43333333333333335,\n        \"num_unique_values\": 27,\n        \"samples\": [\n          0.02\n        ],\n        \"semantic_type\": \"\",\n        \"description\": \"\"\n      }\n    }\n  ]\n}"
            }
          },
          "metadata": {},
          "execution_count": 11
        }
      ]
    },
    {
      "cell_type": "markdown",
      "source": [
        "## Train Test Split (Only relevant once)\n",
        "Subsequent Stratified Train test split for google drive\n",
        "For new data please filter train/test before generating the data"
      ],
      "metadata": {
        "id": "7XjqrOBD33Tw"
      }
    },
    {
      "cell_type": "code",
      "source": [
        "train, test = stratified_dict_split(ngram_cdd_data, test_ratio=0.3, seed=42)"
      ],
      "metadata": {
        "id": "4xjzCi7g4OL_",
        "outputId": "470c596d-5898-4577-fb72-e281cf7bde53",
        "colab": {
          "base_uri": "https://localhost:8080/"
        }
      },
      "execution_count": null,
      "outputs": [
        {
          "output_type": "stream",
          "name": "stdout",
          "text": [
            "Train size: 70, Test size: 30\n",
            "{'owm-amc8-9', 'owm-forum-3', 'owm-aime-3', 'clean-amc8-3', 'owm-amc8-12', 'clean-word-10', 'clean-amc8-14', 'clean-aime-7', 'clean-word-7', 'owm-word-9', 'clean-aime-3', 'owm-word-5', 'clean-forum-7', 'owm-word-10', 'clean-aime-4', 'owm-amc8-15', 'owm-aime-4', 'clean-word-12', 'clean-forum-6', 'owm-word-2', 'owm-amc8-10', 'clean-amc8-1', 'owm-forum-5', 'owm-aime-7', 'clean-amc8-18', 'owm-forum-10', 'clean-amc8-10', 'clean-word-9', 'owm-amc8-17', 'clean-forum-9'}\n"
          ]
        }
      ]
    },
    {
      "cell_type": "code",
      "source": [
        "#train_path: dir_token_path / model_id / \"MathCONTA_train_sample50_max200_seed42.json\", test path accordingly\n",
        "file_path_train=dir_token_path / model_id / \"MathCONTA_train_full_nstarts3_n10_20_30_sample50.json\"\n",
        "with open(file_path_train, 'w') as f:\n",
        "      json.dump(train, f)\n",
        "\n",
        "file_path_test=dir_token_path / model_id / \"MathCONTA_test_full_nstarts3_n10_20_30_sample50.json\"\n",
        "with open(file_path_test, 'w') as f:\n",
        "      json.dump(test, f)"
      ],
      "metadata": {
        "id": "WKcpbFZX62Aq"
      },
      "execution_count": null,
      "outputs": []
    },
    {
      "cell_type": "markdown",
      "source": [
        "## TRAIN SET CV\n",
        "Find best parameters - CV"
      ],
      "metadata": {
        "id": "WYSfsXZI4BBX"
      }
    },
    {
      "cell_type": "code",
      "source": [
        "model_config = {\n",
        "    \"model_id\": model_id,\n",
        "    \"model\": model,\n",
        "    \"tokenizer\": tokenizer,\n",
        "    \"torch_seed\": 42,\n",
        "}\n",
        "\n",
        "method_config = {\n",
        "    \"n_starts\": 3,\n",
        "    \"sample_size\": 50,\n",
        "    \"n_range\": [10,20,30],\n",
        "    \"random_starts\": False,\n",
        "    \"seed_rand\": 42,\n",
        "    \"start_offset\": 10,\n",
        "    \"verbose\": False,\n",
        "\n",
        "}\n",
        "\n",
        "data_config = {\n",
        "    \"ds_conta\": ds_conta,\n",
        "    \"only_problem\": False,\n",
        "    \"force_reprocess\": False,\n",
        "    \"data_name\": \"MathCONTA_train_full\",\n",
        "    \"base_path_generation\": DRIVE_PATH / \"MathCONTA_ngram_cdd_generation_data\"\n",
        "}\n",
        "\n",
        "ngram_cdd_data=create_ngram_cdd_generation_data(**model_config, **method_config, **data_config)"
      ],
      "metadata": {
        "id": "aKDiAmQlIRSx",
        "outputId": "375e90bb-c76f-43d1-fc97-0d123bcfc6b0",
        "colab": {
          "base_uri": "https://localhost:8080/"
        }
      },
      "execution_count": null,
      "outputs": [
        {
          "output_type": "stream",
          "name": "stdout",
          "text": [
            "File path: /content/drive/MyDrive/Masterarbeit25/MathCONTA_ngram_cdd_generation_data/allenai/OLMo-2-1124-13B-Instruct/MathCONTA_train_full_nstarts3_n10_20_30_sample50.json\n",
            "Loading existing n-gram generation data from: /content/drive/MyDrive/Masterarbeit25/MathCONTA_ngram_cdd_generation_data/allenai/OLMo-2-1124-13B-Instruct/MathCONTA_train_full_nstarts3_n10_20_30_sample50.json\n"
          ]
        }
      ]
    },
    {
      "cell_type": "code",
      "source": [
        "data_dict = {\n",
        "    \"ngram_data\": ngram_cdd_data,\n",
        "    \"feature_col\": \"ngram_cdd_mean\",\n",
        "    \"label_col\": \"LABEL_BINARY\",\n",
        "    \"data_name\": \"MathCONTA_train_full\"\n",
        "}\n",
        "\n",
        "method_dict = {\n",
        "    \"n_range\": [10, 20, 30],\n",
        "    \"alpha_range\": [0.0,0.1,0.2,0.3],\n",
        "    \"cv_folds\": 5,\n",
        "    \"cv_seed\": 42,\n",
        "    \"method_name\": \"ngram_cdd\"\n",
        "}\n",
        "\n",
        "model_dict = {\n",
        "    \"model_id\": model_id,\n",
        "    \"log_path_base\": DRIVE_PATH / \"cdm_data\" / \"MathCONTA_v1\",\n",
        "    \"exp_id\": \"overleaf2\"#+\"_\"+category\n",
        "}\n",
        "\n",
        "# Call the function with the dictionaries\n",
        "out_dict=tune_ngram_cdd(**data_dict, **method_dict, **model_dict)\n"
      ],
      "metadata": {
        "id": "3vIpbHWd4BBX",
        "outputId": "bc82c569-2691-42e7-b63f-559e0ffb4faa",
        "colab": {
          "base_uri": "https://localhost:8080/"
        }
      },
      "execution_count": null,
      "outputs": [
        {
          "output_type": "stream",
          "name": "stdout",
          "text": [
            "Testing n=10,alpha0.0 | median_threshold=0.076667 | mean_cvacc_test=0.457143\n",
            "Testing n=10,alpha0.1 | median_threshold=0.030000 | mean_cvacc_test=0.500000\n",
            "Testing n=10,alpha0.2 | median_threshold=0.010000 | mean_cvacc_test=0.500000\n",
            "Testing n=10,alpha0.3 | median_threshold=0.033333 | mean_cvacc_test=0.514286\n",
            "Testing n=20,alpha0.0 | median_threshold=0.073333 | mean_cvacc_test=0.385714\n",
            "Testing n=20,alpha0.1 | median_threshold=0.093333 | mean_cvacc_test=0.414286\n",
            "Testing n=20,alpha0.2 | median_threshold=0.016667 | mean_cvacc_test=0.428571\n",
            "Testing n=20,alpha0.3 | median_threshold=0.010000 | mean_cvacc_test=0.500000\n",
            "Testing n=30,alpha0.0 | median_threshold=0.000000 | mean_cvacc_test=0.385714\n",
            "Testing n=30,alpha0.1 | median_threshold=0.000000 | mean_cvacc_test=0.457143\n",
            "Testing n=30,alpha0.2 | median_threshold=0.006667 | mean_cvacc_test=0.442857\n",
            "Testing n=30,alpha0.3 | median_threshold=0.000000 | mean_cvacc_test=0.471429\n",
            "Best log entry:\n",
            "{'parameter': {'n': 10, 'alpha': 0.3}, 'global_threshold': 0.033333, 'median_threshold': 0.033333, 'mean_cvacc_train': 0.535714, 'mean_cvacc_test': 0.514286}\n",
            "Accuracy log saved in /content/drive/MyDrive/Masterarbeit25/cdm_data/MathCONTA_v1/allenai/OLMo-2-1124-13B-Instruct/ngram_cdd/MathCONTA_train_full_accuracylog_overleaf2.json\n"
          ]
        }
      ]
    },
    {
      "cell_type": "markdown",
      "source": [
        "## TEST SET EVALUATION"
      ],
      "metadata": {
        "id": "2vPgtddTCRFJ"
      }
    },
    {
      "cell_type": "code",
      "source": [
        "data_name=\"MathCONTA_test_full\"\n",
        "data_config.update({\"data_name\": data_name})\n",
        "ngram_cdd_data=create_ngram_cdd_generation_data(**model_config, **method_config, **data_config)"
      ],
      "metadata": {
        "id": "R4lXg-IhCP8B",
        "outputId": "c138a688-80d7-4d0e-f818-18bd14a6e34a",
        "colab": {
          "base_uri": "https://localhost:8080/"
        }
      },
      "execution_count": null,
      "outputs": [
        {
          "output_type": "stream",
          "name": "stdout",
          "text": [
            "File path: /content/drive/MyDrive/Masterarbeit25/MathCONTA_ngram_cdd_generation_data/allenai/OLMo-2-1124-13B-Instruct/MathCONTA_test_full_nstarts3_n10_20_30_sample50.json\n",
            "Loading existing n-gram generation data from: /content/drive/MyDrive/Masterarbeit25/MathCONTA_ngram_cdd_generation_data/allenai/OLMo-2-1124-13B-Instruct/MathCONTA_test_full_nstarts3_n10_20_30_sample50.json\n"
          ]
        }
      ]
    },
    {
      "cell_type": "code",
      "source": [
        "#!Parameter\n",
        "parameter1=10\n",
        "parameter2=0.3\n",
        "theta=0.033333\n",
        "data_name=data_name\n",
        "exp_id_test=model_dict['exp_id']\n",
        "log_path_base=model_dict['log_path_base']\n",
        "model_id=model_dict['model_id']\n",
        "method_name=method_dict['method_name']\n",
        "metric_col=data_dict['feature_col']\n",
        "\n",
        "ngram_cdd_df=get_ngram_cdd_df_from_generation_data(ngram_cdd_data,parameter1,parameter2)\n",
        "len(ngram_cdd_df)"
      ],
      "metadata": {
        "id": "dek4Ro6EC5ZL",
        "outputId": "23e8c81c-c98b-435c-c36a-b203cbc96f19",
        "colab": {
          "base_uri": "https://localhost:8080/"
        }
      },
      "execution_count": null,
      "outputs": [
        {
          "output_type": "execute_result",
          "data": {
            "text/plain": [
              "30"
            ]
          },
          "metadata": {},
          "execution_count": 16
        }
      ]
    },
    {
      "cell_type": "code",
      "source": [
        "test_dict=evaluate_method_standard(\n",
        "    ngram_cdd_df,\n",
        "    metric_col=metric_col,\n",
        "    theta=theta,\n",
        "    model_id=model_id,\n",
        "    data_name=data_name,\n",
        "    method_name=method_name,\n",
        "    parameter1=parameter1,\n",
        "    parameter2=parameter2,\n",
        "    n_bootstrap=1000,\n",
        "    seed=42\n",
        ")\n",
        "test_dict"
      ],
      "metadata": {
        "id": "engCPfhKfvcL",
        "outputId": "f55ec102-7117-48af-bf7a-2bf22957c092",
        "colab": {
          "base_uri": "https://localhost:8080/"
        }
      },
      "execution_count": null,
      "outputs": [
        {
          "output_type": "execute_result",
          "data": {
            "text/plain": [
              "{'model_id': 'allenai/OLMo-2-1124-13B-Instruct',\n",
              " 'data_name': 'MathCONTA_test_full',\n",
              " 'datetime': '2025-04-11T21:22:34.343427',\n",
              " 'method_name': 'ngram_cdd',\n",
              " 'parameter': {'parameter1': 10, 'parameter2': 0.3, 'theta': '0.033333'},\n",
              " 'metrics': {'accuracy': 0.5,\n",
              "  'accuracy_95CI': (0.3, 0.6666666666666666),\n",
              "  'precision': 0.5,\n",
              "  'recall': 1.0,\n",
              "  'f1_score': 0.6666666666666666,\n",
              "  'confusion_matrix': [[0, 15], [0, 15]],\n",
              "  'mcnemar_b': 0,\n",
              "  'mcnemar_c': 0,\n",
              "  'mcnemar_p_value': 1.0},\n",
              " 'n_bootstrap': 1000,\n",
              " 'seed': 42}"
            ]
          },
          "metadata": {},
          "execution_count": 17
        }
      ]
    },
    {
      "cell_type": "code",
      "source": [
        "save_accuracy_log(log_path_base=log_path_base,model_id=model_id,method_name=method_name,exp_id=exp_id_test, data_name=data_name,out_dict=test_dict)"
      ],
      "metadata": {
        "id": "UuGCVaPKAQdn",
        "outputId": "821ef100-871e-4b19-bd0a-f34b78e1064d",
        "colab": {
          "base_uri": "https://localhost:8080/"
        }
      },
      "execution_count": null,
      "outputs": [
        {
          "output_type": "stream",
          "name": "stdout",
          "text": [
            "Accuracy log saved in /content/drive/MyDrive/Masterarbeit25/cdm_data/MathCONTA_v1/allenai/OLMo-2-1124-13B-Instruct/ngram_cdd/MathCONTA_test_full_accuracylog_overleaf2.json\n"
          ]
        }
      ]
    },
    {
      "cell_type": "markdown",
      "source": [
        "## RUN END2END"
      ],
      "metadata": {
        "id": "BWSDsuB-n06m"
      }
    },
    {
      "cell_type": "code",
      "source": [
        "model_config = {\n",
        "    \"model_id\": model_id,\n",
        "    \"model\": model,\n",
        "    \"tokenizer\": tokenizer,\n",
        "    \"torch_seed\": 42,\n",
        "}\n",
        "\n",
        "method_config = {\n",
        "    \"n_starts\": 3,\n",
        "    \"sample_size\": 2,\n",
        "    \"n_range\": [10,30],\n",
        "    \"random_starts\": False,\n",
        "    \"seed_rand\": 42,\n",
        "    \"start_offset\": 10,\n",
        "    \"verbose\": False,\n",
        "    \"n\":10,\n",
        "    \"alpha\": 0.2,\n",
        "    \"theta\":0.125\n",
        "\n",
        "}\n",
        "\n",
        "data_config = {\n",
        "    \"ds_conta\": None,\n",
        "    \"only_problem\": False,\n",
        "    \"force_reprocess\": False,\n",
        "    \"data_name\": \"MathCONTA_random5\",\n",
        "    \"base_path_generation\": DRIVE_PATH / \"MathCONTA_ngram_cdd_generation_data\"\n",
        "}\n"
      ],
      "metadata": {
        "id": "ZcEaooPx-f4b"
      },
      "execution_count": null,
      "outputs": []
    },
    {
      "cell_type": "code",
      "source": [
        "run_ngram_cdd(**model_config,**method_config,**data_config)"
      ],
      "metadata": {
        "colab": {
          "base_uri": "https://localhost:8080/"
        },
        "id": "VIP4xXTa-Hgr",
        "outputId": "bb7e112f-e055-4b63-b3aa-2ed1e76c15a7"
      },
      "execution_count": null,
      "outputs": [
        {
          "output_type": "stream",
          "name": "stdout",
          "text": [
            "File path: /content/drive/MyDrive/Masterarbeit25/MathCONTA_ngram_cdd_generation_data/deepseek-ai/deepseek-math-7b-instruct/MathCONTA_random5_nstarts3_n10_30_sample2.json\n",
            "Loading existing n-gram generation data from: /content/drive/MyDrive/Masterarbeit25/MathCONTA_ngram_cdd_generation_data/deepseek-ai/deepseek-math-7b-instruct/MathCONTA_random5_nstarts3_n10_30_sample2.json\n"
          ]
        },
        {
          "output_type": "execute_result",
          "data": {
            "text/plain": [
              "{'accuracy': 1.0,\n",
              " 'precision': 1.0,\n",
              " 'recall': 1.0,\n",
              " 'f1_score': 1.0,\n",
              " 'confusion_matrix': array([[3, 0],\n",
              "        [0, 2]])}"
            ]
          },
          "metadata": {},
          "execution_count": 21
        }
      ]
    },
    {
      "cell_type": "markdown",
      "source": [
        "## Combined Evaluation across LLMs\n",
        "\n",
        "!!Prerequisit: Train/Test splits already stored in DRIVE for the relevant models"
      ],
      "metadata": {
        "id": "QYneiq0qH0jB"
      }
    },
    {
      "cell_type": "code",
      "source": [
        "model_ids = [\"deepseek-ai/deepseek-math-7b-instruct\",\n",
        "             \"EleutherAI/llemma_7b\",\n",
        "             \"allenai/OLMo-7B-0724-Instruct-hf\",\n",
        "              \"allenai/OLMo-2-1124-13B-Instruct\"]\n",
        "model_id_combi = \"DS_LE_OL_OL2\""
      ],
      "metadata": {
        "id": "0aepzlbW4oN4"
      },
      "execution_count": null,
      "outputs": []
    },
    {
      "cell_type": "markdown",
      "source": [
        "### Combi CV train\n",
        "Find best parameters - CV"
      ],
      "metadata": {
        "id": "e6ylCxpUH8vr"
      }
    },
    {
      "cell_type": "code",
      "source": [
        "model_config = {\n",
        "    \"model_id\": model_id,\n",
        "    \"model\": model,\n",
        "    \"tokenizer\": tokenizer,\n",
        "    \"torch_seed\": 42,\n",
        "}\n",
        "\n",
        "method_config = {\n",
        "    \"n_starts\": 3,\n",
        "    \"sample_size\": 50,\n",
        "    \"n_range\": [10,20,30],\n",
        "    \"random_starts\": False,\n",
        "    \"seed_rand\": 42,\n",
        "    \"start_offset\": 10,\n",
        "    \"verbose\": False,\n",
        "\n",
        "}\n",
        "\n",
        "data_config = {\n",
        "    \"ds_conta\": ds_conta,\n",
        "    \"only_problem\": False,\n",
        "    \"force_reprocess\": False,\n",
        "    \"data_name\": \"MathCONTA_train_full\",\n",
        "    \"base_path_generation\": DRIVE_PATH / \"MathCONTA_ngram_cdd_generation_data\"\n",
        "}\n",
        "\n",
        "ngram_cdd_data_combined = []\n",
        "for model_id in model_ids:\n",
        "    model_config.update({\"model_id\": model_id})\n",
        "    ngram_cdd_data=create_ngram_cdd_generation_data(**model_config, **method_config, **data_config)\n",
        "    ngram_cdd_data_combined += ngram_cdd_data\n",
        "\n",
        "len(ngram_cdd_data_combined)\n"
      ],
      "metadata": {
        "outputId": "de70fe4a-f4db-4797-af8e-198c896f17bb",
        "colab": {
          "base_uri": "https://localhost:8080/"
        },
        "id": "GUkuMyGQH8vr"
      },
      "execution_count": null,
      "outputs": [
        {
          "output_type": "stream",
          "name": "stdout",
          "text": [
            "File path: /content/drive/MyDrive/Masterarbeit25/MathCONTA_ngram_cdd_generation_data/deepseek-ai/deepseek-math-7b-instruct/MathCONTA_train_full_nstarts3_n10_20_30_sample50.json\n",
            "Loading existing n-gram generation data from: /content/drive/MyDrive/Masterarbeit25/MathCONTA_ngram_cdd_generation_data/deepseek-ai/deepseek-math-7b-instruct/MathCONTA_train_full_nstarts3_n10_20_30_sample50.json\n",
            "File path: /content/drive/MyDrive/Masterarbeit25/MathCONTA_ngram_cdd_generation_data/EleutherAI/llemma_7b/MathCONTA_train_full_nstarts3_n10_20_30_sample50.json\n",
            "Loading existing n-gram generation data from: /content/drive/MyDrive/Masterarbeit25/MathCONTA_ngram_cdd_generation_data/EleutherAI/llemma_7b/MathCONTA_train_full_nstarts3_n10_20_30_sample50.json\n",
            "File path: /content/drive/MyDrive/Masterarbeit25/MathCONTA_ngram_cdd_generation_data/allenai/OLMo-7B-0724-Instruct-hf/MathCONTA_train_full_nstarts3_n10_20_30_sample50.json\n",
            "Loading existing n-gram generation data from: /content/drive/MyDrive/Masterarbeit25/MathCONTA_ngram_cdd_generation_data/allenai/OLMo-7B-0724-Instruct-hf/MathCONTA_train_full_nstarts3_n10_20_30_sample50.json\n",
            "File path: /content/drive/MyDrive/Masterarbeit25/MathCONTA_ngram_cdd_generation_data/allenai/OLMo-2-1124-13B-Instruct/MathCONTA_train_full_nstarts3_n10_20_30_sample50.json\n",
            "Loading existing n-gram generation data from: /content/drive/MyDrive/Masterarbeit25/MathCONTA_ngram_cdd_generation_data/allenai/OLMo-2-1124-13B-Instruct/MathCONTA_train_full_nstarts3_n10_20_30_sample50.json\n"
          ]
        },
        {
          "output_type": "execute_result",
          "data": {
            "text/plain": [
              "280"
            ]
          },
          "metadata": {},
          "execution_count": 12
        }
      ]
    },
    {
      "cell_type": "code",
      "source": [
        "data_dict = {\n",
        "    \"ngram_data\": ngram_cdd_data_combined,\n",
        "    \"feature_col\": \"ngram_cdd_mean\",\n",
        "    \"label_col\": \"LABEL_BINARY\",\n",
        "    \"data_name\": \"MathCONTA_train_full\"\n",
        "}\n",
        "\n",
        "method_dict = {\n",
        "    \"n_range\": [10, 20, 30],\n",
        "    \"alpha_range\": [0.0,0.1,0.2,0.3],\n",
        "    \"cv_folds\": 5,\n",
        "    \"cv_seed\": 42,\n",
        "    \"method_name\": \"ngram_cdd\"\n",
        "}\n",
        "\n",
        "model_dict = {\n",
        "    \"model_id\": model_id_combi,\n",
        "    \"log_path_base\": DRIVE_PATH / \"cdm_data\" / \"MathCONTA_v1\",\n",
        "    \"exp_id\": \"overleaf2combi\"#+\"_\"+category\n",
        "}\n",
        "\n",
        "# Call the function with the dictionaries\n",
        "out_dict=tune_ngram_cdd(**data_dict, **method_dict, **model_dict)\n"
      ],
      "metadata": {
        "outputId": "7dff57cf-65b6-4327-94fd-dd8537629487",
        "colab": {
          "base_uri": "https://localhost:8080/"
        },
        "id": "MNorxEKtH8vs"
      },
      "execution_count": null,
      "outputs": [
        {
          "output_type": "stream",
          "name": "stdout",
          "text": [
            "Testing n=10,alpha0.0 | median_threshold=0.080000 | mean_cvacc_test=0.517857\n",
            "Testing n=10,alpha0.1 | median_threshold=0.116667 | mean_cvacc_test=0.446429\n",
            "Testing n=10,alpha0.2 | median_threshold=0.010000 | mean_cvacc_test=0.525000\n",
            "Testing n=10,alpha0.3 | median_threshold=0.033333 | mean_cvacc_test=0.546429\n",
            "Testing n=20,alpha0.0 | median_threshold=0.023333 | mean_cvacc_test=0.464286\n",
            "Testing n=20,alpha0.1 | median_threshold=0.033333 | mean_cvacc_test=0.460714\n",
            "Testing n=20,alpha0.2 | median_threshold=0.030000 | mean_cvacc_test=0.492857\n",
            "Testing n=20,alpha0.3 | median_threshold=0.083333 | mean_cvacc_test=0.471429\n",
            "Testing n=30,alpha0.0 | median_threshold=0.016667 | mean_cvacc_test=0.467857\n",
            "Testing n=30,alpha0.1 | median_threshold=0.050000 | mean_cvacc_test=0.457143\n",
            "Testing n=30,alpha0.2 | median_threshold=0.026667 | mean_cvacc_test=0.450000\n",
            "Testing n=30,alpha0.3 | median_threshold=0.030000 | mean_cvacc_test=0.442857\n",
            "Best log entry:\n",
            "{'parameter': {'n': 10, 'alpha': 0.3}, 'global_threshold': 0.03, 'median_threshold': 0.033333, 'mean_cvacc_train': 0.553571, 'mean_cvacc_test': 0.546429}\n",
            "Accuracy log saved in /content/drive/MyDrive/Masterarbeit25/cdm_data/MathCONTA_v1/DS_LE_OL_OL2/ngram_cdd/MathCONTA_train_full_accuracylog_overleaf2combi.json\n"
          ]
        }
      ]
    },
    {
      "cell_type": "markdown",
      "source": [
        "### Combi TEST SET EVALUATION"
      ],
      "metadata": {
        "id": "ZikNMLU2H8vs"
      }
    },
    {
      "cell_type": "code",
      "source": [
        "data_name=\"MathCONTA_test_full\"\n",
        "\n",
        "ngram_cdd_data_combined = []\n",
        "for model_id in model_ids:\n",
        "    model_config.update({\"model_id\": model_id})\n",
        "    data_config.update({\"data_name\": data_name})\n",
        "    ngram_cdd_data=create_ngram_cdd_generation_data(**model_config, **method_config, **data_config)\n",
        "    ngram_cdd_data_combined += ngram_cdd_data\n",
        "\n",
        "len(ngram_cdd_data_combined)"
      ],
      "metadata": {
        "outputId": "924e7479-f0d5-465e-9bf8-b19020f74bb0",
        "colab": {
          "base_uri": "https://localhost:8080/"
        },
        "id": "6VO2PmUuH8vs"
      },
      "execution_count": null,
      "outputs": [
        {
          "output_type": "stream",
          "name": "stdout",
          "text": [
            "File path: /content/drive/MyDrive/Masterarbeit25/MathCONTA_ngram_cdd_generation_data/deepseek-ai/deepseek-math-7b-instruct/MathCONTA_test_full_nstarts3_n10_20_30_sample50.json\n",
            "Loading existing n-gram generation data from: /content/drive/MyDrive/Masterarbeit25/MathCONTA_ngram_cdd_generation_data/deepseek-ai/deepseek-math-7b-instruct/MathCONTA_test_full_nstarts3_n10_20_30_sample50.json\n",
            "File path: /content/drive/MyDrive/Masterarbeit25/MathCONTA_ngram_cdd_generation_data/EleutherAI/llemma_7b/MathCONTA_test_full_nstarts3_n10_20_30_sample50.json\n",
            "Loading existing n-gram generation data from: /content/drive/MyDrive/Masterarbeit25/MathCONTA_ngram_cdd_generation_data/EleutherAI/llemma_7b/MathCONTA_test_full_nstarts3_n10_20_30_sample50.json\n",
            "File path: /content/drive/MyDrive/Masterarbeit25/MathCONTA_ngram_cdd_generation_data/allenai/OLMo-7B-0724-Instruct-hf/MathCONTA_test_full_nstarts3_n10_20_30_sample50.json\n",
            "Loading existing n-gram generation data from: /content/drive/MyDrive/Masterarbeit25/MathCONTA_ngram_cdd_generation_data/allenai/OLMo-7B-0724-Instruct-hf/MathCONTA_test_full_nstarts3_n10_20_30_sample50.json\n",
            "File path: /content/drive/MyDrive/Masterarbeit25/MathCONTA_ngram_cdd_generation_data/allenai/OLMo-2-1124-13B-Instruct/MathCONTA_test_full_nstarts3_n10_20_30_sample50.json\n",
            "Loading existing n-gram generation data from: /content/drive/MyDrive/Masterarbeit25/MathCONTA_ngram_cdd_generation_data/allenai/OLMo-2-1124-13B-Instruct/MathCONTA_test_full_nstarts3_n10_20_30_sample50.json\n"
          ]
        },
        {
          "output_type": "execute_result",
          "data": {
            "text/plain": [
              "120"
            ]
          },
          "metadata": {},
          "execution_count": 14
        }
      ]
    },
    {
      "cell_type": "code",
      "source": [
        "#!Parameter\n",
        "parameter1=10\n",
        "parameter2=0.3\n",
        "theta=0.033333\n",
        "data_name=data_name\n",
        "exp_id_test=model_dict['exp_id']\n",
        "log_path_base=model_dict['log_path_base']\n",
        "model_id=model_id_combi\n",
        "method_name=method_dict['method_name']\n",
        "metric_col=data_dict['feature_col']\n",
        "\n",
        "ngram_cdd_df=get_ngram_cdd_df_from_generation_data(ngram_cdd_data_combined,parameter1,parameter2)\n",
        "len(ngram_cdd_df)"
      ],
      "metadata": {
        "outputId": "9a272a27-9a46-4285-e8e1-91fffc5daf37",
        "colab": {
          "base_uri": "https://localhost:8080/"
        },
        "id": "viVSivheH8vs"
      },
      "execution_count": null,
      "outputs": [
        {
          "output_type": "execute_result",
          "data": {
            "text/plain": [
              "120"
            ]
          },
          "metadata": {},
          "execution_count": 15
        }
      ]
    },
    {
      "cell_type": "code",
      "source": [
        "test_dict=evaluate_method_standard(\n",
        "    ngram_cdd_df,\n",
        "    metric_col=metric_col,\n",
        "    theta=theta,\n",
        "    model_id=model_id,\n",
        "    data_name=data_name,\n",
        "    method_name=method_name,\n",
        "    parameter1=parameter1,\n",
        "    parameter2=parameter2,\n",
        "    n_bootstrap=1000,\n",
        "    seed=42\n",
        ")\n",
        "test_dict"
      ],
      "metadata": {
        "outputId": "8a377c1f-bdfa-466a-ac89-74139c870e37",
        "colab": {
          "base_uri": "https://localhost:8080/"
        },
        "id": "hdhQDyWlH8vs"
      },
      "execution_count": null,
      "outputs": [
        {
          "output_type": "execute_result",
          "data": {
            "text/plain": [
              "{'model_id': 'DS_LE_OL_OL2',\n",
              " 'data_name': 'MathCONTA_test_full',\n",
              " 'datetime': '2025-04-12T17:58:45.522756',\n",
              " 'method_name': 'ngram_cdd',\n",
              " 'parameter': {'parameter1': 10, 'parameter2': 0.3, 'theta': '0.033333'},\n",
              " 'metrics': {'accuracy': 0.475,\n",
              "  'accuracy_95CI': (0.38333333333333336, 0.5666666666666667),\n",
              "  'precision': 0.48598130841121495,\n",
              "  'recall': 0.8666666666666667,\n",
              "  'f1_score': 0.6227544910179641,\n",
              "  'confusion_matrix': [[5, 55], [8, 52]],\n",
              "  'mcnemar_b': 5,\n",
              "  'mcnemar_c': 8,\n",
              "  'mcnemar_p_value': 0.5810546875},\n",
              " 'n_bootstrap': 1000,\n",
              " 'seed': 42}"
            ]
          },
          "metadata": {},
          "execution_count": 16
        }
      ]
    },
    {
      "cell_type": "code",
      "source": [
        "save_accuracy_log(log_path_base=log_path_base,model_id=model_id,method_name=method_name,exp_id=exp_id_test, data_name=data_name,out_dict=test_dict)"
      ],
      "metadata": {
        "outputId": "df3d50b0-087d-4022-cba0-06c983607a0c",
        "colab": {
          "base_uri": "https://localhost:8080/"
        },
        "id": "4SZ_csQSH8vs"
      },
      "execution_count": null,
      "outputs": [
        {
          "output_type": "stream",
          "name": "stdout",
          "text": [
            "Accuracy log saved in /content/drive/MyDrive/Masterarbeit25/cdm_data/MathCONTA_v1/DS_LE_OL_OL2/ngram_cdd/MathCONTA_test_full_accuracylog_overleaf2combi.json\n"
          ]
        }
      ]
    }
  ]
}