{
  "nbformat": 4,
  "nbformat_minor": 0,
  "metadata": {
    "colab": {
      "provenance": [],
      "collapsed_sections": [
        "BWSDsuB-n06m"
      ],
      "authorship_tag": "ABX9TyOSFU2G/pups2sSMicb+JcJ",
      "include_colab_link": true
    },
    "kernelspec": {
      "name": "python3",
      "display_name": "Python 3"
    },
    "language_info": {
      "name": "python"
    }
  },
  "cells": [
    {
      "cell_type": "markdown",
      "metadata": {
        "id": "view-in-github",
        "colab_type": "text"
      },
      "source": [
        "<a href=\"https://colab.research.google.com/github/friederrr/proof_contamination/blob/main/code/CDM_eval/CD_pipeline_CV_ContaTraces.ipynb\" target=\"_parent\"><img src=\"https://colab.research.google.com/assets/colab-badge.svg\" alt=\"Open In Colab\"/></a>"
      ]
    },
    {
      "cell_type": "markdown",
      "source": [
        "# CD PIPELINE (mit CV) ContaTraces"
      ],
      "metadata": {
        "id": "w6JW4XKqueEl"
      }
    },
    {
      "cell_type": "code",
      "source": [
        "%%capture\n",
        "!pip install datasets"
      ],
      "metadata": {
        "id": "40Cystb9HB6e"
      },
      "execution_count": null,
      "outputs": []
    },
    {
      "cell_type": "code",
      "execution_count": null,
      "metadata": {
        "id": "PA9MXN_ltYjj"
      },
      "outputs": [],
      "source": [
        "import random\n",
        "import numpy as np\n",
        "import pandas as pd\n",
        "import copy\n",
        "import matplotlib.pyplot as plt\n",
        "from scipy.optimize import curve_fit\n",
        "import torch\n",
        "import json\n",
        "from datetime import datetime\n",
        "import itertools\n",
        "from itertools import cycle, product\n",
        "import re\n",
        "from transformers import AutoModelForCausalLM, AutoTokenizer\n",
        "from datasets import load_dataset\n",
        "from pathlib import Path\n",
        "import statistics\n",
        "from sklearn.model_selection import StratifiedKFold"
      ]
    },
    {
      "cell_type": "code",
      "source": [
        "#mount google drive\n",
        "from google.colab import drive\n",
        "drive.mount('/content/drive')"
      ],
      "metadata": {
        "colab": {
          "base_uri": "https://localhost:8080/"
        },
        "id": "C305WhL1t-ND",
        "outputId": "0196c175-fcb7-4362-b3f8-beb790148c56"
      },
      "execution_count": null,
      "outputs": [
        {
          "output_type": "stream",
          "name": "stdout",
          "text": [
            "Mounted at /content/drive\n"
          ]
        }
      ]
    },
    {
      "cell_type": "code",
      "source": [
        "from CDMs_functions_v1 import *"
      ],
      "metadata": {
        "id": "QqKl5Cugcfz4"
      },
      "execution_count": null,
      "outputs": []
    },
    {
      "cell_type": "markdown",
      "source": [
        "## Model Selektion\n",
        "\n",
        "**OLMO**:\n",
        "\n",
        "- \"allenai/OLMo-7B-0724-hf\": Downlaod (F32): (27 GB), GPU-RAM (bfloat16): 14 GB (T4 sufficient)\n",
        "\n",
        "- \"allenai/OLMo-7B-0724-SFT-hf\": Download (BF16) (14 GB), GPU-RAM (14 GB)\n",
        "\n",
        "- \"allenai/OLMo-7B-0724-Instruct-hf\": Download (BF16) (14 GB), GPU-RAM (14 GB)\n",
        "\n",
        "- \"allenai/OLMo-2-1124-13B-Instruct\": Download (BF16) (28 GB), GPU-RAM (27 GB) -> works fine with A100!\n",
        "\n",
        "\n",
        "**DEEPSEEK**:\n",
        "- \"deepseek-ai/deepseek-math-7b-instruct\":\n",
        "\n",
        "**LEMMA**:\n",
        "- \"EleutherAI/llemma_7b\""
      ],
      "metadata": {
        "id": "UumRYLoGomJ6"
      }
    },
    {
      "cell_type": "code",
      "source": [
        "#!Parameter\n",
        "model_id = \"allenai/OLMo-7B-0724-Instruct-hf\"\n",
        "DRIVE_PATH=Path('/content/drive/MyDrive/Masterarbeit25/')"
      ],
      "metadata": {
        "id": "nMuaVQOquI_E"
      },
      "execution_count": null,
      "outputs": []
    },
    {
      "cell_type": "code",
      "source": [
        "dir_token_path=DRIVE_PATH / \"MathCONTA_tokens\"\n",
        "_=list_files_in_directory(dir_token_path, model_id)"
      ],
      "metadata": {
        "colab": {
          "base_uri": "https://localhost:8080/"
        },
        "id": "jJWEE7f1o_V5",
        "outputId": "11df5eaa-6f4b-43d2-8bc4-73d286bc5d47"
      },
      "execution_count": null,
      "outputs": [
        {
          "output_type": "stream",
          "name": "stdout",
          "text": [
            "Files in /content/drive/MyDrive/Masterarbeit25/MathCONTA_tokens/allenai/OLMo-7B-0724-Instruct-hf:\n",
            "\n",
            "OLMo-7B-0724-Instruct-hf/MathCONTA_token_data.json\n",
            "OLMo-7B-0724-Instruct-hf/MathCONTA_train_token_data.json\n",
            "OLMo-7B-0724-Instruct-hf/MathCONTA_test_token_data.json\n"
          ]
        }
      ]
    },
    {
      "cell_type": "code",
      "source": [
        "#if file exists you don't have to load the models\n",
        "load_models=False\n",
        "if load_models:\n",
        "  model = AutoModelForCausalLM.from_pretrained(model_id, torch_dtype=torch.bfloat16, device_map='auto')\n",
        "  tokenizer = AutoTokenizer.from_pretrained(model_id)\n",
        "else:\n",
        "  model = None\n",
        "  tokenizer = None\n",
        "  ds_conta = None"
      ],
      "metadata": {
        "id": "VYZtyL4AyeYN"
      },
      "execution_count": null,
      "outputs": []
    },
    {
      "cell_type": "markdown",
      "source": [
        "## DATA Processing/Loading"
      ],
      "metadata": {
        "id": "NhWCX-W2Digm"
      }
    },
    {
      "cell_type": "code",
      "source": [
        "#!Parameter\n",
        "repo_id = \"Tobstar001/MathCONTA\"\n",
        "split = \"test\"\n",
        "config_name=\"core\"\n",
        "\n",
        "ds_conta = load_dataset(path=repo_id,name=config_name,split=split)"
      ],
      "metadata": {
        "id": "1DV-oXsPmJCE"
      },
      "execution_count": null,
      "outputs": []
    },
    {
      "cell_type": "code",
      "source": [
        "MathCONTA_token_data=create_mathconta_token_data(model_id=model_id,\n",
        "                                                 ds_conta=ds_conta,\n",
        "                                                 model=model, tokenizer=tokenizer,\n",
        "                                                 only_problem=False, force_reprocess=False,\n",
        "                                                 base_path_token=dir_token_path)"
      ],
      "metadata": {
        "colab": {
          "base_uri": "https://localhost:8080/"
        },
        "id": "T0_q9KTvlrN0",
        "outputId": "48e9cf5b-c369-48cf-af5a-42876c5a7738"
      },
      "execution_count": null,
      "outputs": [
        {
          "output_type": "stream",
          "name": "stdout",
          "text": [
            "Loading existing token data from: /content/drive/MyDrive/Masterarbeit25/MathCONTA_tokens/deepseek-ai/deepseek-math-7b-instruct/MathCONTA_token_data.json\n"
          ]
        }
      ]
    },
    {
      "cell_type": "markdown",
      "source": [
        "## Train Test Split (Only relevant once)\n",
        "Subsequent Stratified Train test split for google drive\n",
        "For new data please filter train/test before generating the data.\n",
        "Already done for minK!!"
      ],
      "metadata": {
        "id": "7XjqrOBD33Tw"
      }
    },
    {
      "cell_type": "markdown",
      "source": [
        "## TRAIN SET CV"
      ],
      "metadata": {
        "id": "O9Q2QGQD1cgc"
      }
    },
    {
      "cell_type": "code",
      "source": [
        "data_name=\"MathCONTA_train\"\n",
        "MathCONTA_token_data=create_mathconta_token_data(model_id=model_id,\n",
        "                                                 ds_conta=ds_conta,\n",
        "                                                 model=model, tokenizer=tokenizer,data_name=data_name,\n",
        "                                                 only_problem=False, force_reprocess=False,\n",
        "                                                 base_path_token=dir_token_path)"
      ],
      "metadata": {
        "id": "ZMKyw1Sulejf",
        "outputId": "b6effc28-a946-4b1d-8fb9-d3f28b5fb45f",
        "colab": {
          "base_uri": "https://localhost:8080/"
        }
      },
      "execution_count": null,
      "outputs": [
        {
          "output_type": "stream",
          "name": "stdout",
          "text": [
            "Loading existing token data from: /content/drive/MyDrive/Masterarbeit25/MathCONTA_tokens/allenai/OLMo-7B-0724-Instruct-hf/MathCONTA_train_token_data.json\n"
          ]
        }
      ]
    },
    {
      "cell_type": "code",
      "source": [
        "#!Parameter 2D\n",
        "token_data=MathCONTA_token_data\n",
        "data_name=\"MathCONTA_full_train\"\n",
        "feature_cols={\"exponential\":(\"A_value\",\"B_value\"),\"linear\":\"m_value\"}\n",
        "label_col=\"LABEL_BINARY\"\n",
        "fit_range=[\"exponential\",\"linear\"]\n",
        "cv_folds=5\n",
        "cv_seed=42\n",
        "log_path_base =DRIVE_PATH / \"cdm_data\" / \"MathCONTA_v1\"\n",
        "exp_id=\"overleaf2\"\n",
        "method_name=\"ContaTraces\"\n"
      ],
      "metadata": {
        "id": "orK4_Fm41cge"
      },
      "execution_count": null,
      "outputs": []
    },
    {
      "cell_type": "code",
      "source": [
        "out_dict=tune_ContaTraces(tokendata=token_data,feature_cols=feature_cols,\n",
        "                          label_col=label_col,cv_folds=cv_folds,cv_seed=cv_seed,\n",
        "                          fit_range=fit_range, model_id=model_id,data_name=data_name,\n",
        "                          method_name=method_name,log_path_base=log_path_base,exp_id=exp_id)"
      ],
      "metadata": {
        "colab": {
          "base_uri": "https://localhost:8080/"
        },
        "outputId": "54bc8f21-451f-40f7-da19-563bc74e31d6",
        "id": "ljv9fV1C1cge"
      },
      "execution_count": null,
      "outputs": [
        {
          "output_type": "stream",
          "name": "stdout",
          "text": [
            "Testing fit=exponential | median_threshold_1=2.353882 | median_threshold_2=0.012741 | mean_cvacc_test=0.557143\n",
            "Testing fit=linear | median_threshold_1=-0.007425 | median_threshold_2=N/A | mean_cvacc_test=0.428571\n",
            "Best log entry:\n",
            "{'parameter': {'fit': 'exponential'}, 'median_threshold_1': 2.353882, 'median_threshold_2': 0.012741, 'global_threshold': (2.353882, 0.012741), 'mean_cvacc_train': 0.625, 'mean_cvacc_test': 0.557143}\n",
            "Accuracy log saved in /content/drive/MyDrive/Masterarbeit25/cdm_data/MathCONTA_v1/allenai/OLMo-7B-0724-Instruct-hf/ContaTraces/MathCONTA_full_train_accuracylog_overleaf2.json\n"
          ]
        }
      ]
    },
    {
      "cell_type": "markdown",
      "source": [
        "## TEST SET EVALUATION"
      ],
      "metadata": {
        "id": "2vPgtddTCRFJ"
      }
    },
    {
      "cell_type": "code",
      "source": [
        "data_name=\"MathCONTA_test\"\n",
        "MathCONTA_token_data=create_mathconta_token_data(model_id=model_id,\n",
        "                                                 ds_conta=ds_conta,\n",
        "                                                 model=model, tokenizer=tokenizer,data_name=data_name,\n",
        "                                                 only_problem=False, force_reprocess=False,\n",
        "                                                 base_path_token=dir_token_path)"
      ],
      "metadata": {
        "id": "R4lXg-IhCP8B",
        "outputId": "63b66013-e0b9-4ef2-8094-961ff6b1338d",
        "colab": {
          "base_uri": "https://localhost:8080/"
        }
      },
      "execution_count": null,
      "outputs": [
        {
          "output_type": "stream",
          "name": "stdout",
          "text": [
            "Loading existing token data from: /content/drive/MyDrive/Masterarbeit25/MathCONTA_tokens/allenai/OLMo-7B-0724-Instruct-hf/MathCONTA_test_token_data.json\n"
          ]
        }
      ]
    },
    {
      "cell_type": "code",
      "source": [
        "#!Parameter\n",
        "parameter1 = 'exponential'\n",
        "theta=(2.353882, 0.012741) #theta=(1.89,0.017) if fit exponential here tuple\n",
        "\n",
        "exp_id_test=exp_id\n",
        "method_name=method_name\n",
        "metric_col=feature_cols[parameter1]\n",
        "log_path_base=log_path_base\n",
        "\n",
        "Conta_traces_df=get_ContaTraces_df_from_tokendata(MathCONTA_token_data,fit=parameter1)\n",
        "\n",
        "len(Conta_traces_df)"
      ],
      "metadata": {
        "id": "dek4Ro6EC5ZL",
        "outputId": "0aa0f3e4-a79d-4d4e-b329-c13c95f8e6b7",
        "colab": {
          "base_uri": "https://localhost:8080/"
        }
      },
      "execution_count": null,
      "outputs": [
        {
          "output_type": "execute_result",
          "data": {
            "text/plain": [
              "30"
            ]
          },
          "metadata": {},
          "execution_count": 58
        }
      ]
    },
    {
      "cell_type": "code",
      "source": [
        "test_dict=evaluate_method_standard(\n",
        "    Conta_traces_df,\n",
        "    metric_col=metric_col,\n",
        "    theta=theta,\n",
        "    model_id=model_id,\n",
        "    data_name=data_name,\n",
        "    method_name=method_name,\n",
        "    parameter1=parameter1,\n",
        "    n_bootstrap=1000,\n",
        "    seed=42\n",
        ")\n",
        "test_dict"
      ],
      "metadata": {
        "id": "engCPfhKfvcL",
        "outputId": "c3c7e590-6bdf-44a3-ded0-4d72fabbcd23",
        "colab": {
          "base_uri": "https://localhost:8080/"
        }
      },
      "execution_count": null,
      "outputs": [
        {
          "output_type": "execute_result",
          "data": {
            "text/plain": [
              "{'model_id': 'allenai/OLMo-7B-0724-Instruct-hf',\n",
              " 'data_name': 'MathCONTA_test',\n",
              " 'datetime': '2025-04-11T13:50:57.619328',\n",
              " 'method_name': 'ContaTraces',\n",
              " 'parameter': {'parameter1': 'exponential',\n",
              "  'parameter2': None,\n",
              "  'theta': '(2.353882, 0.012741)'},\n",
              " 'metrics': {'accuracy': 0.3,\n",
              "  'accuracy_95CI': (0.16666666666666666, 0.4666666666666667),\n",
              "  'precision': 0.2,\n",
              "  'recall': 0.13333333333333333,\n",
              "  'f1_score': 0.16,\n",
              "  'confusion_matrix': [[7, 8], [13, 2]],\n",
              "  'mcnemar_b': 7,\n",
              "  'mcnemar_c': 13,\n",
              "  'mcnemar_p_value': 0.26317596435546875},\n",
              " 'n_bootstrap': 1000,\n",
              " 'seed': 42}"
            ]
          },
          "metadata": {},
          "execution_count": 59
        }
      ]
    },
    {
      "cell_type": "code",
      "source": [
        "save_accuracy_log(log_path_base=log_path_base,model_id=model_id,method_name=method_name,exp_id=exp_id_test, data_name=data_name,out_dict=test_dict)"
      ],
      "metadata": {
        "id": "UuGCVaPKAQdn",
        "outputId": "586ae7ec-137d-4f10-ca56-624c8efec258",
        "colab": {
          "base_uri": "https://localhost:8080/"
        }
      },
      "execution_count": null,
      "outputs": [
        {
          "output_type": "stream",
          "name": "stdout",
          "text": [
            "Accuracy log saved in /content/drive/MyDrive/Masterarbeit25/cdm_data/MathCONTA_v1/allenai/OLMo-7B-0724-Instruct-hf/ContaTraces/MathCONTA_test_accuracylog_overleaf2.json\n"
          ]
        }
      ]
    },
    {
      "cell_type": "markdown",
      "source": [
        "## RUN END2END"
      ],
      "metadata": {
        "id": "BWSDsuB-n06m"
      }
    },
    {
      "cell_type": "code",
      "source": [
        "run_ContaTraces(model_id=model_id, ds_conta=ds_conta, model=model, tokenizer=tokenizer,\n",
        "         only_problem=False, force_reprocess=False, dir_token_path=dir_token_path,\n",
        "         fit=\"linear\", theta1=-0.006, theta2=None)"
      ],
      "metadata": {
        "colab": {
          "base_uri": "https://localhost:8080/"
        },
        "id": "ZcEaooPx-f4b",
        "outputId": "101165be-da5c-43d9-ac7d-5778078a34d6"
      },
      "execution_count": null,
      "outputs": [
        {
          "output_type": "stream",
          "name": "stdout",
          "text": [
            "Loading existing token data from: /content/drive/MyDrive/Masterarbeit25/MathCONTA_tokens/deepseek-ai/deepseek-math-7b-instruct/MathCONTA_token_data.json\n"
          ]
        },
        {
          "output_type": "execute_result",
          "data": {
            "text/plain": [
              "{'accuracy': 0.61,\n",
              " 'precision': 0.5797101449275363,\n",
              " 'recall': 0.8,\n",
              " 'f1_score': 0.6722689075630253,\n",
              " 'confusion_matrix': array([[21, 29],\n",
              "        [10, 40]])}"
            ]
          },
          "metadata": {},
          "execution_count": 12
        }
      ]
    },
    {
      "cell_type": "markdown",
      "source": [
        "## Combined Evaluation across LLMs\n",
        "\n",
        "!!Prerequisit: Train/Test splits already stored in DRIVE for the relevant models"
      ],
      "metadata": {
        "id": "w_9tv9B5klKk"
      }
    },
    {
      "cell_type": "code",
      "source": [
        "model_ids = [\"deepseek-ai/deepseek-math-7b-instruct\",\n",
        "             \"EleutherAI/llemma_7b\",\n",
        "             \"allenai/OLMo-7B-0724-Instruct-hf\",\n",
        "              \"allenai/OLMo-2-1124-13B-Instruct\"]"
      ],
      "metadata": {
        "id": "0aepzlbW4oN4"
      },
      "execution_count": null,
      "outputs": []
    },
    {
      "cell_type": "markdown",
      "source": [
        "### Combi CV TRAIN"
      ],
      "metadata": {
        "id": "Qnc5UEMm6_S1"
      }
    },
    {
      "cell_type": "code",
      "source": [
        "data_name=\"MathCONTA_train\"\n",
        "\n",
        "\n",
        "MathCONTA_token_data_combined = []\n",
        "for model_id in model_ids:\n",
        "  MathCONTA_token_data=create_mathconta_token_data(model_id=model_id,\n",
        "                                                 ds_conta=ds_conta,\n",
        "                                                 model=model, tokenizer=tokenizer,data_name=data_name,\n",
        "                                                 only_problem=False, force_reprocess=False,\n",
        "                                                 base_path_token=dir_token_path)\n",
        "  MathCONTA_token_data_combined += MathCONTA_token_data\n",
        "\n",
        "len(MathCONTA_token_data_combined)"
      ],
      "metadata": {
        "colab": {
          "base_uri": "https://localhost:8080/"
        },
        "id": "KJ79yARLz5Su",
        "outputId": "01469f62-4509-491e-c0db-51f8a5112c61"
      },
      "execution_count": null,
      "outputs": [
        {
          "output_type": "stream",
          "name": "stdout",
          "text": [
            "Loading existing token data from: /content/drive/MyDrive/Masterarbeit25/MathCONTA_tokens/deepseek-ai/deepseek-math-7b-instruct/MathCONTA_train_token_data.json\n",
            "Loading existing token data from: /content/drive/MyDrive/Masterarbeit25/MathCONTA_tokens/EleutherAI/llemma_7b/MathCONTA_train_token_data.json\n",
            "Loading existing token data from: /content/drive/MyDrive/Masterarbeit25/MathCONTA_tokens/allenai/OLMo-7B-0724-Instruct-hf/MathCONTA_train_token_data.json\n",
            "Loading existing token data from: /content/drive/MyDrive/Masterarbeit25/MathCONTA_tokens/allenai/OLMo-2-1124-13B-Instruct/MathCONTA_train_token_data.json\n"
          ]
        },
        {
          "output_type": "execute_result",
          "data": {
            "text/plain": [
              "280"
            ]
          },
          "metadata": {},
          "execution_count": 9
        }
      ]
    },
    {
      "cell_type": "code",
      "source": [
        "model_id_combi = \"DS_LE_OL_OL2\"\n",
        "#!Parameter 2D\n",
        "token_data=MathCONTA_token_data_combined\n",
        "data_name=\"MathCONTA_full_train\"\n",
        "feature_cols={\"exponential\":(\"A_value\",\"B_value\"),\"linear\":\"m_value\"}\n",
        "label_col=\"LABEL_BINARY\"\n",
        "fit_range=[\"exponential\",\"linear\"]\n",
        "cv_folds=5\n",
        "cv_seed=42\n",
        "log_path_base =DRIVE_PATH / \"cdm_data\" / \"MathCONTA_v1\"\n",
        "exp_id=\"overleaf2combi\"\n",
        "method_name=\"ContaTraces\"\n"
      ],
      "metadata": {
        "id": "UcvascjZEKeC"
      },
      "execution_count": null,
      "outputs": []
    },
    {
      "cell_type": "code",
      "source": [
        "out_dict=tune_ContaTraces(tokendata=token_data,feature_cols=feature_cols,\n",
        "                          label_col=label_col,cv_folds=cv_folds,cv_seed=cv_seed,\n",
        "                          fit_range=fit_range, model_id=model_id_combi,data_name=data_name,\n",
        "                          method_name=method_name,log_path_base=log_path_base,exp_id=exp_id)"
      ],
      "metadata": {
        "colab": {
          "base_uri": "https://localhost:8080/"
        },
        "outputId": "9e853339-2328-4840-c71b-022fce0af44f",
        "id": "YfrXmGeBEKeD"
      },
      "execution_count": null,
      "outputs": [
        {
          "output_type": "stream",
          "name": "stdout",
          "text": [
            "Testing fit=exponential | median_threshold_1=1.688216 | median_threshold_2=0.017004 | mean_cvacc_test=0.557143\n",
            "Testing fit=linear | median_threshold_1=-0.005402 | median_threshold_2=N/A | mean_cvacc_test=0.525000\n",
            "Best log entry:\n",
            "{'parameter': {'fit': 'exponential'}, 'median_threshold_1': 1.688216, 'median_threshold_2': 0.017004, 'global_threshold': (1.688216, 0.017004), 'mean_cvacc_train': 0.5875, 'mean_cvacc_test': 0.557143}\n",
            "Accuracy log saved in /content/drive/MyDrive/Masterarbeit25/cdm_data/MathCONTA_v1/DS_LE_OL_OL2/ContaTraces/MathCONTA_full_train_accuracylog_overleaf2combi.json\n"
          ]
        }
      ]
    },
    {
      "cell_type": "markdown",
      "source": [
        "### Combi TEST"
      ],
      "metadata": {
        "id": "ngHvxaTa7CFu"
      }
    },
    {
      "cell_type": "code",
      "source": [
        "data_name=\"MathCONTA_test\"\n",
        "MathCONTA_token_data_combined = []\n",
        "\n",
        "for model_id in model_ids:\n",
        "    MathCONTA_token_data=create_mathconta_token_data(model_id=model_id,\n",
        "                                                  ds_conta=ds_conta,\n",
        "                                                  model=model, tokenizer=tokenizer,data_name=data_name,\n",
        "                                                  only_problem=False, force_reprocess=False,\n",
        "                                                  base_path_token=dir_token_path)\n",
        "    MathCONTA_token_data_combined += MathCONTA_token_data\n",
        "\n",
        "len(MathCONTA_token_data_combined)"
      ],
      "metadata": {
        "colab": {
          "base_uri": "https://localhost:8080/"
        },
        "id": "VlLDz2nr7LLu",
        "outputId": "cd5bd133-40e6-491f-d020-3c98677f49a6"
      },
      "execution_count": null,
      "outputs": [
        {
          "output_type": "stream",
          "name": "stdout",
          "text": [
            "Loading existing token data from: /content/drive/MyDrive/Masterarbeit25/MathCONTA_tokens/deepseek-ai/deepseek-math-7b-instruct/MathCONTA_test_token_data.json\n",
            "Loading existing token data from: /content/drive/MyDrive/Masterarbeit25/MathCONTA_tokens/EleutherAI/llemma_7b/MathCONTA_test_token_data.json\n",
            "Loading existing token data from: /content/drive/MyDrive/Masterarbeit25/MathCONTA_tokens/allenai/OLMo-7B-0724-Instruct-hf/MathCONTA_test_token_data.json\n",
            "Loading existing token data from: /content/drive/MyDrive/Masterarbeit25/MathCONTA_tokens/allenai/OLMo-2-1124-13B-Instruct/MathCONTA_test_token_data.json\n"
          ]
        },
        {
          "output_type": "execute_result",
          "data": {
            "text/plain": [
              "120"
            ]
          },
          "metadata": {},
          "execution_count": 14
        }
      ]
    },
    {
      "cell_type": "code",
      "source": [
        "#!Parameter\n",
        "parameter1 = 'exponential'\n",
        "theta=(1.688216, 0.017004) #theta=(1.89,0.017) if fit exponential here tuple\n",
        "\n",
        "exp_id_test=exp_id\n",
        "method_name=method_name\n",
        "metric_col=feature_cols[parameter1]\n",
        "log_path_base=log_path_base\n",
        "\n",
        "Conta_traces_df=get_ContaTraces_df_from_tokendata(MathCONTA_token_data,fit=parameter1)\n",
        "\n",
        "len(Conta_traces_df)"
      ],
      "metadata": {
        "outputId": "22e56824-8436-4511-ac34-9b9af5ae26e2",
        "colab": {
          "base_uri": "https://localhost:8080/"
        },
        "id": "ja3F50flFAIu"
      },
      "execution_count": null,
      "outputs": [
        {
          "output_type": "execute_result",
          "data": {
            "text/plain": [
              "30"
            ]
          },
          "metadata": {},
          "execution_count": 15
        }
      ]
    },
    {
      "cell_type": "code",
      "source": [
        "test_dict=evaluate_method_standard(\n",
        "    Conta_traces_df,\n",
        "    metric_col=metric_col,\n",
        "    theta=theta,\n",
        "    model_id=model_id_combi,\n",
        "    data_name=data_name,\n",
        "    method_name=method_name,\n",
        "    parameter1=parameter1,\n",
        "    n_bootstrap=1000,\n",
        "    seed=42\n",
        ")\n",
        "test_dict"
      ],
      "metadata": {
        "outputId": "35b620ec-e4c5-48bf-bbe6-bb2426e089c0",
        "colab": {
          "base_uri": "https://localhost:8080/"
        },
        "id": "PEyyS2JwFAIv"
      },
      "execution_count": null,
      "outputs": [
        {
          "output_type": "execute_result",
          "data": {
            "text/plain": [
              "{'model_id': 'DS_LE_OL_OL2',\n",
              " 'data_name': 'MathCONTA_test',\n",
              " 'datetime': '2025-04-12T17:38:36.934938',\n",
              " 'method_name': 'ContaTraces',\n",
              " 'parameter': {'parameter1': 'exponential',\n",
              "  'parameter2': None,\n",
              "  'theta': '(1.688216, 0.017004)'},\n",
              " 'metrics': {'accuracy': 0.5,\n",
              "  'accuracy_95CI': (0.3333333333333333, 0.6666666666666666),\n",
              "  'precision': 0.5,\n",
              "  'recall': 0.2,\n",
              "  'f1_score': 0.2857142857142857,\n",
              "  'confusion_matrix': [[12, 3], [12, 3]],\n",
              "  'mcnemar_b': 12,\n",
              "  'mcnemar_c': 12,\n",
              "  'mcnemar_p_value': 1.0},\n",
              " 'n_bootstrap': 1000,\n",
              " 'seed': 42}"
            ]
          },
          "metadata": {},
          "execution_count": 16
        }
      ]
    },
    {
      "cell_type": "code",
      "source": [
        "save_accuracy_log(log_path_base=log_path_base,model_id=model_id_combi,method_name=method_name,exp_id=exp_id_test, data_name=data_name,out_dict=test_dict)"
      ],
      "metadata": {
        "outputId": "3b6c6699-e1e4-4be5-cdb8-d3681b6243a3",
        "colab": {
          "base_uri": "https://localhost:8080/"
        },
        "id": "bkNFbkhYFAIx"
      },
      "execution_count": null,
      "outputs": [
        {
          "output_type": "stream",
          "name": "stdout",
          "text": [
            "Accuracy log saved in /content/drive/MyDrive/Masterarbeit25/cdm_data/MathCONTA_v1/DS_LE_OL_OL2/ContaTraces/MathCONTA_test_accuracylog_overleaf2combi.json\n"
          ]
        }
      ]
    }
  ]
}