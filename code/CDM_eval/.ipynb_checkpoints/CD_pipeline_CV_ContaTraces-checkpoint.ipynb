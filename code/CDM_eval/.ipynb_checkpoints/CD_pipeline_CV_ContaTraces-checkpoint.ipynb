{
 "nbformat": 4,
 "nbformat_minor": 0,
 "metadata": {
  "colab": {
   "provenance": [],
   "collapsed_sections": [
    "BWSDsuB-n06m"
   ],
   "authorship_tag": "ABX9TyPyHIyqCmD8dwnduJcO5HpD",
   "include_colab_link": true
  },
  "kernelspec": {
   "name": "python3",
   "display_name": "Python 3"
  },
  "language_info": {
   "name": "python"
  }
 },
 "cells": [
  {
   "cell_type": "markdown",
   "metadata": {
    "id": "view-in-github",
    "colab_type": "text"
   },
   "source": [
    "<a href=\"https://colab.research.google.com/github/friederrr/proof_contamination/blob/main/code/CDMs/CD_pipeline_CV_ContaTraces.ipynb\" target=\"_parent\"><img src=\"https://colab.research.google.com/assets/colab-badge.svg\" alt=\"Open In Colab\"/></a>"
   ]
  },
  {
   "cell_type": "markdown",
   "source": [
    "# CD PIPELINE (mit CV) ContaTraces"
   ],
   "metadata": {
    "id": "w6JW4XKqueEl"
   }
  },
  {
   "cell_type": "code",
   "source": [
    "%%capture\n",
    "!pip install datasets"
   ],
   "metadata": {
    "id": "40Cystb9HB6e"
   },
   "execution_count": 1,
   "outputs": []
  },
  {
   "cell_type": "code",
   "metadata": {
    "id": "PA9MXN_ltYjj"
   },
   "source": [
    "import random\n",
    "import numpy as np\n",
    "import pandas as pd\n",
    "import copy\n",
    "import matplotlib.pyplot as plt\n",
    "from scipy.optimize import curve_fit\n",
    "import torch\n",
    "import json\n",
    "from datetime import datetime\n",
    "import itertools\n",
    "from itertools import cycle, product\n",
    "import re\n",
    "from transformers import AutoModelForCausalLM, AutoTokenizer\n",
    "from datasets import load_dataset\n",
    "from pathlib import Path\n",
    "import statistics\n",
    "from sklearn.model_selection import StratifiedKFold"
   ],
   "outputs": [],
   "execution_count": null
  },
  {
   "cell_type": "code",
   "source": [
    "#mount google drive\n",
    "from google.colab import drive\n",
    "drive.mount('/content/drive')"
   ],
   "metadata": {
    "colab": {
     "base_uri": "https://localhost:8080/"
    },
    "id": "C305WhL1t-ND",
    "outputId": "6ebe53ba-e9a7-4d7b-ea99-69db01ef933a"
   },
   "execution_count": 3,
   "outputs": [
    {
     "output_type": "stream",
     "name": "stdout",
     "text": [
      "Mounted at /content/drive\n"
     ]
    }
   ]
  },
  {
   "cell_type": "code",
   "source": [
    "from CDMs_functions_v1 import *"
   ],
   "metadata": {
    "id": "QqKl5Cugcfz4"
   },
   "execution_count": 4,
   "outputs": []
  },
  {
   "cell_type": "markdown",
   "source": [
    "## Model Selektion\n",
    "\n",
    "**OLMO**:\n",
    "\n",
    "- \"allenai/OLMo-7B-0724-hf\": Downlaod (F32): (27 GB), GPU-RAM (bfloat16): 14 GB (T4 sufficient)\n",
    "\n",
    "- \"allenai/OLMo-7B-0724-SFT-hf\": Download (BF16) (14 GB), GPU-RAM (14 GB)\n",
    "\n",
    "- \"allenai/OLMo-7B-0724-Instruct-hf\": Download (BF16) (14 GB), GPU-RAM (14 GB)\n",
    "\n",
    "- \"allenai/OLMo-2-1124-13B-Instruct\": Download (BF16) (28 GB), GPU-RAM (27 GB) -> works fine with A100!\n",
    "\n",
    "- \"allenai/OLMo-2-0325-32B-Instruct\": Download (BF16) (65 GB), GPU-RAM (34 GB). It needs about 15min to answer one question with A100 (meta-device offloading). However, besides from that, the pipeline was compatible. Though, it is not recommended to use it with A100.\n",
    "\n",
    "**DEEPSEEK**:\n",
    "- \"deepseek-ai/deepseek-math-7b-instruct\":\n",
    "\n",
    "**LEMMA**:\n",
    "- \"EleutherAI/llemma_7b\""
   ],
   "metadata": {
    "id": "UumRYLoGomJ6"
   }
  },
  {
   "cell_type": "code",
   "source": [
    "#!Parameter\n",
    "model_id = \"allenai/OLMo-7B-0724-hf\"\n",
    "DRIVE_PATH=Path('/content/drive/MyDrive/Masterarbeit25/')"
   ],
   "metadata": {
    "id": "nMuaVQOquI_E"
   },
   "execution_count": 25,
   "outputs": []
  },
  {
   "cell_type": "code",
   "source": [
    "dir_token_path=DRIVE_PATH / \"MathCONTA_tokens\"\n",
    "_=list_files_in_directory(dir_token_path, model_id)"
   ],
   "metadata": {
    "colab": {
     "base_uri": "https://localhost:8080/"
    },
    "id": "jJWEE7f1o_V5",
    "outputId": "479ac342-41c1-4629-e9cd-b83d0b701245"
   },
   "execution_count": 26,
   "outputs": [
    {
     "output_type": "stream",
     "name": "stdout",
     "text": [
      "Files in /content/drive/MyDrive/Masterarbeit25/MathCONTA_tokens/allenai/OLMo-7B-0724-hf:\n",
      "\n",
      "OLMo-7B-0724-hf/MathCONTA_token_data.json\n"
     ]
    }
   ]
  },
  {
   "cell_type": "code",
   "source": [
    "#if file exists you don't have to load the models\n",
    "load_models=False\n",
    "if load_models:\n",
    "  model = AutoModelForCausalLM.from_pretrained(model_id, torch_dtype=torch.bfloat16, device_map='auto')\n",
    "  tokenizer = AutoTokenizer.from_pretrained(model_id)\n",
    "else:\n",
    "  model = None\n",
    "  tokenizer = None\n",
    "  ds_conta = None"
   ],
   "metadata": {
    "id": "VYZtyL4AyeYN"
   },
   "execution_count": 27,
   "outputs": []
  },
  {
   "cell_type": "markdown",
   "source": [
    "## DATA Processing/Loading"
   ],
   "metadata": {
    "id": "NhWCX-W2Digm"
   }
  },
  {
   "cell_type": "code",
   "source": [
    "#!Parameter\n",
    "repo_id = \"Tobstar001/MathCONTA\"\n",
    "split = \"test\"\n",
    "config_name=\"core\"\n",
    "\n",
    "ds_conta = load_dataset(path=repo_id,name=config_name,split=split)"
   ],
   "metadata": {
    "id": "1DV-oXsPmJCE"
   },
   "execution_count": null,
   "outputs": []
  },
  {
   "cell_type": "code",
   "source": [
    "MathCONTA_token_data=create_mathconta_token_data(model_id=model_id,\n",
    "                                                 ds_conta=ds_conta,\n",
    "                                                 model=model, tokenizer=tokenizer,\n",
    "                                                 only_problem=False, force_reprocess=False,\n",
    "                                                 base_path_token=dir_token_path)"
   ],
   "metadata": {
    "colab": {
     "base_uri": "https://localhost:8080/"
    },
    "id": "T0_q9KTvlrN0",
    "outputId": "9a2e6f4f-5276-4bd5-e74d-727ae89620c4"
   },
   "execution_count": 28,
   "outputs": [
    {
     "output_type": "stream",
     "name": "stdout",
     "text": [
      "Loading existing token data from: /content/drive/MyDrive/Masterarbeit25/MathCONTA_tokens/allenai/OLMo-7B-0724-hf/MathCONTA_token_data.json\n"
     ]
    }
   ]
  },
  {
   "cell_type": "markdown",
   "source": [
    "## Find best parameters"
   ],
   "metadata": {
    "id": "QeVgSM7jDpoz"
   }
  },
  {
   "cell_type": "code",
   "source": [
    "category='Forum'\n",
    "MathCONTA_token_f = [entry for entry in MathCONTA_token_data if entry.get('CATEGORY') == category]\n",
    "len(MathCONTA_token_f)"
   ],
   "metadata": {
    "id": "vf-osPbf9wR0",
    "outputId": "f7dc95e2-9a73-4c64-9280-436edcac0d91",
    "colab": {
     "base_uri": "https://localhost:8080/"
    }
   },
   "execution_count": 40,
   "outputs": [
    {
     "output_type": "execute_result",
     "data": {
      "text/plain": [
       "20"
      ]
     },
     "metadata": {},
     "execution_count": 40
    }
   ]
  },
  {
   "cell_type": "code",
   "source": [
    "#!Parameter 2D\n",
    "token_data=MathCONTA_token_data\n",
    "data_name=\"MathCONTA_full\"\n",
    "feature_cols={\"exponential\":(\"A_value\",\"B_value\"),\"linear\":\"m_value\"}\n",
    "label_col=\"LABEL_BINARY\"\n",
    "fit_range=[\"exponential\",\"linear\"]\n",
    "cv_folds=5\n",
    "cv_seed=42\n",
    "log_path_base =DRIVE_PATH / \"cdm_data\" / \"MathCONTA_v1\"\n",
    "exp_id=\"overleaf1\"\n",
    "method_name=\"ContaTraces\"+\"_\"+category\n"
   ],
   "metadata": {
    "id": "RcIIQfKXuTBZ"
   },
   "execution_count": 41,
   "outputs": []
  },
  {
   "cell_type": "code",
   "source": [
    "out_dict=tune_ContaTraces(tokendata=token_data,feature_cols=feature_cols,\n",
    "                          label_col=label_col,cv_folds=cv_folds,cv_seed=cv_seed,\n",
    "                          fit_range=fit_range, model_id=model_id,data_name=data_name,\n",
    "                          method_name=method_name,log_path_base=log_path_base,exp_id=exp_id)"
   ],
   "metadata": {
    "colab": {
     "base_uri": "https://localhost:8080/"
    },
    "id": "NKDb9iOLjF5x",
    "outputId": "3be55b34-9f0b-4460-cd68-eb98eda6fe66"
   },
   "execution_count": 42,
   "outputs": [
    {
     "output_type": "stream",
     "name": "stdout",
     "text": [
      "Testing fit=exponential | median_threshold_1=3.241929 | median_threshold_2=0.01578 | mean_cvacc_test=0.450000\n",
      "Testing fit=linear | median_threshold_1=-0.009576 | median_threshold_2=N/A | mean_cvacc_test=0.510000\n",
      "Best log entry:\n",
      "{'parameter': {'fit': 'linear'}, 'median_threshold_1': -0.009576, 'median_threshold_2': None, 'mean_cvacc_train': 0.5675, 'mean_cvacc_test': 0.51}\n",
      "Accuracy log saved in /content/drive/MyDrive/Masterarbeit25/cdm_data/MathCONTA_v1/allenai/OLMo-7B-0724-hf/ContaTraces_Forum/exp_MathCONTA_full_accurcylog_overleaf1.json\n"
     ]
    }
   ]
  },
  {
   "cell_type": "markdown",
   "source": [
    "## RUN END2END"
   ],
   "metadata": {
    "id": "BWSDsuB-n06m"
   }
  },
  {
   "cell_type": "code",
   "source": [
    "run_ContaTraces(model_id=model_id, ds_conta=ds_conta, model=model, tokenizer=tokenizer,\n",
    "         only_problem=False, force_reprocess=False, dir_token_path=dir_token_path,\n",
    "         fit=\"linear\", theta1=-0.006, theta2=None)"
   ],
   "metadata": {
    "colab": {
     "base_uri": "https://localhost:8080/"
    },
    "id": "ZcEaooPx-f4b",
    "outputId": "101165be-da5c-43d9-ac7d-5778078a34d6"
   },
   "execution_count": null,
   "outputs": [
    {
     "output_type": "stream",
     "name": "stdout",
     "text": [
      "Loading existing token data from: /content/drive/MyDrive/Masterarbeit25/MathCONTA_tokens/deepseek-ai/deepseek-math-7b-instruct/MathCONTA_token_data.json\n"
     ]
    },
    {
     "output_type": "execute_result",
     "data": {
      "text/plain": [
       "{'accuracy': 0.61,\n",
       " 'precision': 0.5797101449275363,\n",
       " 'recall': 0.8,\n",
       " 'f1_score': 0.6722689075630253,\n",
       " 'confusion_matrix': array([[21, 29],\n",
       "        [10, 40]])}"
      ]
     },
     "metadata": {},
     "execution_count": 12
    }
   ]
  }
 ]
}
